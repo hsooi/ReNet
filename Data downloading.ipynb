{
 "cells": [
  {
   "cell_type": "markdown",
   "metadata": {},
   "source": [
    "# Downloading the interaction data\n",
    "\n",
    "Molecular interaction data is available in a number of online resources. The first step in the construction of a molecular interaction network is to retrieve the interactions from these resources.  At present, there are more than 650 interaction-related resources listed in the [Pathguide](http://pathguide.org). The list is likely to increase in the near future. The module provides a practical guide for downloading interaction data from some of these well-known human-related resources. "
   ]
  },
  {
   "cell_type": "markdown",
   "metadata": {},
   "source": [
    "## Prerequisite\n",
    "\n",
    "The following code block introduces a function to download a file from a given url.  "
   ]
  },
  {
   "cell_type": "code",
   "execution_count": 1,
   "metadata": {
    "ExecuteTime": {
     "end_time": "2017-11-23T22:16:16.100299Z",
     "start_time": "2017-11-23T22:16:15.870271Z"
    },
    "collapsed": true
   },
   "outputs": [],
   "source": [
    "import os\n",
    "import urllib.request\n",
    "import requests\n",
    "\n",
    "project_directory = '/projects/ooihs/ReNet/'\n",
    "\n",
    "def retrieve_file(url, output):\n",
    "    \"\"\"save the url to a output. The output can be a directory or\n",
    "    file. If the output is a directory, then save the filename pointed\n",
    "    by the url into the directory.\n",
    "    \n",
    "    Return the local file with complete path.\n",
    "    \"\"\"\n",
    "    try:\n",
    "        localfile = output\n",
    "        if os.path.isdir(output):\n",
    "            localfile = os.path.join(output, url.split('/')[-1])\n",
    "            \n",
    "        download_file, headers = urllib.request.urlretrieve(url, localfile)\n",
    "        return download_file\n",
    "    except:\n",
    "        return None\n",
    "    \n",
    "    \n",
    "def download_files(url_list, output_directory):\n",
    "    if not os.path.isdir(output_directory):\n",
    "        os.makedirs(output_directory)\n",
    "\n",
    "    for url in urls:\n",
    "        filename = retrieve_file(url, output_directory)\n",
    "        if filename:\n",
    "            print('Downloaded', filename)\n",
    "        else:\n",
    "            print('Failed', url)"
   ]
  },
  {
   "cell_type": "markdown",
   "metadata": {},
   "source": [
    "## Primary data resources"
   ]
  },
  {
   "cell_type": "markdown",
   "metadata": {},
   "source": [
    "### [IntAct](https://www.ebi.ac.uk/intact/)\n",
    "\n",
    "IntAct is developed at EMBL-EBI for collecting literature reported molecular interactions. The data is available in multiple formats. ReNet mainly uses on the PSI-MI tab-separated format.\n",
    "\n",
    "The zip file `intact.zip` contains `intact.txt` and `intact_negative.txt`,  which are experimentally derived interactions and negative interactions respectively. The file `homo_sapiens.tsv` contains the human protein complexes."
   ]
  },
  {
   "cell_type": "code",
   "execution_count": 2,
   "metadata": {
    "ExecuteTime": {
     "end_time": "2017-11-23T22:17:45.684904Z",
     "start_time": "2017-11-23T22:16:16.102970Z"
    }
   },
   "outputs": [
    {
     "name": "stdout",
     "output_type": "stream",
     "text": [
      "Downloaded /projects/ooihs/ReNet/data/intact/intact.zip\n",
      "Downloaded /projects/ooihs/ReNet/data/intact/homo_sapiens.tsv\n"
     ]
    }
   ],
   "source": [
    "data_directory = os.path.join(project_directory, 'data/intact')\n",
    "\n",
    "urls = ['ftp://ftp.ebi.ac.uk/pub/databases/intact/current/psimitab/intact.zip',\n",
    "       'ftp://ftp.ebi.ac.uk/pub/databases/intact/complex/current/complextab/homo_sapiens.tsv']\n",
    "\n",
    "download_files(urls, data_directory)"
   ]
  },
  {
   "cell_type": "markdown",
   "metadata": {
    "collapsed": true
   },
   "source": [
    "### [BioGRID](https://thebiogrid.org/)\n",
    "\n",
    "BioGRID is another effort to collect molecular interactions from public literature. The molecular interactions are not pertaining to protein-protein interactions, but also include genetic interactions, chemical associations and post translational modifications. "
   ]
  },
  {
   "cell_type": "code",
   "execution_count": 3,
   "metadata": {
    "ExecuteTime": {
     "end_time": "2017-11-23T22:18:13.028577Z",
     "start_time": "2017-11-23T22:17:45.687105Z"
    }
   },
   "outputs": [
    {
     "name": "stdout",
     "output_type": "stream",
     "text": [
      "Downloaded /projects/ooihs/ReNet/data/biogrid/BIOGRID-ALL-3.4.154.mitab.zip\n"
     ]
    }
   ],
   "source": [
    "data_directory = os.path.join(project_directory, 'data/biogrid')\n",
    "\n",
    "urls = ['https://thebiogrid.org/downloads/archives/Release%20Archive/BIOGRID-3.4.154/BIOGRID-ALL-3.4.154.mitab.zip']\n",
    "\n",
    "download_files(urls, data_directory)"
   ]
  },
  {
   "cell_type": "markdown",
   "metadata": {
    "collapsed": true
   },
   "source": [
    "### [Database of Interacting Proteins](http://dip.doe-mbi.ucla.edu/dip/Main.cgi)\n",
    "\n",
    "DIP is also one of the earliest efforts to collect experimentally derived interactions between proteins. Users are requested to register for an account in order to download the data.\n",
    "\n",
    "ReNet uses the MITAB2.5 format. The version used is `dip20170205.txt`"
   ]
  },
  {
   "cell_type": "markdown",
   "metadata": {
    "collapsed": true
   },
   "source": [
    "### [Molecular Interaction Database](http://mint.bio.uniroma2.it/)\n",
    "\n",
    "MINT is also another early effort to collect experimentally verified protein-protein interactions. The current development has been merged with IntAct.\n",
    "\n",
    "ReNet uses the final available version."
   ]
  },
  {
   "cell_type": "code",
   "execution_count": 4,
   "metadata": {
    "ExecuteTime": {
     "end_time": "2017-11-23T22:21:43.621183Z",
     "start_time": "2017-11-23T22:18:13.031139Z"
    }
   },
   "outputs": [
    {
     "name": "stdout",
     "output_type": "stream",
     "text": [
      "Downloaded /projects/ooihs/ReNet/data/mint/MINT_MiTab.txt\n"
     ]
    }
   ],
   "source": [
    "data_directory = os.path.join(project_directory, 'data/mint')\n",
    "\n",
    "urls = ['http://mint.bio.uniroma2.it/mitab/MINT_MiTab.txt']\n",
    "\n",
    "download_files(urls, data_directory)"
   ]
  },
  {
   "cell_type": "markdown",
   "metadata": {},
   "source": [
    "### [InnateDB](http://innatedb.com/)\n",
    "\n",
    "InnateDB is a specialized database for genes, proteins, interactions and pathways involving in the innate immune response. At present, ReNet uses the following collection from the [download page](http://innatedb.com/redirect.do?go=downloadCurated):\n",
    "\n",
    "InnateDB Curated Interactions (DNA, RNA, Protein) (updated weekly) "
   ]
  },
  {
   "cell_type": "code",
   "execution_count": 5,
   "metadata": {
    "ExecuteTime": {
     "end_time": "2017-11-23T22:21:48.083276Z",
     "start_time": "2017-11-23T22:21:43.623765Z"
    }
   },
   "outputs": [
    {
     "name": "stdout",
     "output_type": "stream",
     "text": [
      "Downloaded /projects/ooihs/ReNet/data/innatedb/innatedb_all.mitab.gz\n"
     ]
    }
   ],
   "source": [
    "data_directory = os.path.join(project_directory, 'data/innatedb')\n",
    "\n",
    "urls = ['http://innatedb.com/download/interactions/innatedb_all.mitab.gz']\n",
    "\n",
    "download_files(urls, data_directory)"
   ]
  },
  {
   "cell_type": "markdown",
   "metadata": {},
   "source": [
    "### [MatrixDB](http://matrixdb.univ-lyon1.fr/)\n",
    "\n",
    "MatrixDB is also a specialized database focused on interactions established by extracellular matrix proteins, proteoglycans and plysaccharides.\n",
    "\n",
    "The latest version is released on July 20, 2017."
   ]
  },
  {
   "cell_type": "code",
   "execution_count": 6,
   "metadata": {
    "ExecuteTime": {
     "end_time": "2017-11-23T22:21:49.719559Z",
     "start_time": "2017-11-23T22:21:48.085855Z"
    }
   },
   "outputs": [
    {
     "name": "stdout",
     "output_type": "stream",
     "text": [
      "Downloaded /projects/ooihs/ReNet/data/matrixdb/matrixdb_FULL.tab.gz\n"
     ]
    }
   ],
   "source": [
    "data_directory = os.path.join(project_directory, 'data/matrixdb')\n",
    "\n",
    "urls = ['http://matrixdb.univ-lyon1.fr/download/matrixdb_FULL.tab.gz']\n",
    "\n",
    "download_files(urls, data_directory)"
   ]
  },
  {
   "cell_type": "markdown",
   "metadata": {},
   "source": [
    "### [HuRI](http://interactome.baderlab.org/)\n",
    "\n",
    "The Human Reference Protein Interactome Mapping Project is an effort to generate a reference map for the human interactome. Only the released data is used. The file `LitBM-17.psi` is a literature curated dataset by the same group. ReNet also uses it as part of the golden positive set."
   ]
  },
  {
   "cell_type": "code",
   "execution_count": 7,
   "metadata": {
    "ExecuteTime": {
     "end_time": "2017-11-23T22:22:45.599946Z",
     "start_time": "2017-11-23T22:21:49.722214Z"
    }
   },
   "outputs": [
    {
     "name": "stdout",
     "output_type": "stream",
     "text": [
      "Downloaded /projects/ooihs/ReNet/data/huri/Rolland-Vidal(Cell_2014).psi\n",
      "Downloaded /projects/ooihs/ReNet/data/huri/Yu-Vidal(Nature_Methods_2011).psi\n",
      "Downloaded /projects/ooihs/ReNet/data/huri/Raul-Vidal(Nature_2005).psi\n",
      "Downloaded /projects/ooihs/ReNet/data/huri/Yang-Vidal(Cell_2016).psi\n",
      "Downloaded /projects/ooihs/ReNet/data/huri/Venkatesan-Vidal(Nature_Methods_2009).psi\n",
      "Downloaded /projects/ooihs/ReNet/data/huri/LitBM-17.psi\n"
     ]
    }
   ],
   "source": [
    "data_directory = os.path.join(project_directory, 'data/huri')\n",
    "\n",
    "urls = [\n",
    "    'http://interactome.baderlab.org/data/Rolland-Vidal(Cell_2014).psi',\n",
    "    'http://interactome.baderlab.org/data/Yu-Vidal(Nature_Methods_2011).psi',\n",
    "    'http://interactome.baderlab.org/data/Raul-Vidal(Nature_2005).psi',\n",
    "    'http://interactome.baderlab.org/data/Yang-Vidal(Cell_2016).psi',\n",
    "    'http://interactome.baderlab.org/data/Venkatesan-Vidal(Nature_Methods_2009).psi',\n",
    "    'http://interactome.baderlab.org/data/LitBM-17.psi'\n",
    "]\n",
    "\n",
    "download_files(urls, data_directory)"
   ]
  },
  {
   "cell_type": "markdown",
   "metadata": {},
   "source": [
    "### [Human Protein Reference Database](http://hprd.org/)\n",
    "\n",
    "HPRD is an early effort devoted to collect information pertaining to human proteins. The last version was released on April 13 2010, and haven't been updated since then. Users are requested to register in order to download the file. \n",
    "\n",
    "The following file was downloaded: `HPRD_FLAT_FILES_041310.tar.gz`"
   ]
  },
  {
   "cell_type": "markdown",
   "metadata": {},
   "source": [
    "### [Human Proteinpedia](http://www.humanproteinpedia.org/)\n",
    "\n",
    "Human Proteinpedia is a sister project of HPRD, which is a community portal for sharing and integration of human protein data. Only the public data is used, HuPA_Release_2.0."
   ]
  },
  {
   "cell_type": "code",
   "execution_count": 8,
   "metadata": {
    "ExecuteTime": {
     "end_time": "2017-11-23T22:23:04.655127Z",
     "start_time": "2017-11-23T22:22:45.602598Z"
    }
   },
   "outputs": [
    {
     "name": "stdout",
     "output_type": "stream",
     "text": [
      "Downloaded /projects/ooihs/ReNet/data/hupa/HUPA_RELEASE_2.0.zip\n"
     ]
    }
   ],
   "source": [
    "data_directory = os.path.join(project_directory, 'data/hupa')\n",
    "\n",
    "urls = ['http://humanproteinpedia.org/HuPA_Download/FULL/HUPA_RELEASE_2.0.zip']\n",
    "\n",
    "download_files(urls, data_directory)"
   ]
  },
  {
   "cell_type": "markdown",
   "metadata": {},
   "source": [
    "### [The MIPS Mammalian Protein-Protein Interation Database](http://mips.helmholtz-muenchen.de/proj/ppi/)\n",
    "\n",
    "MPPI is a collection of manually curated protein-protein interactions. The database has not been updated."
   ]
  },
  {
   "cell_type": "code",
   "execution_count": 9,
   "metadata": {
    "ExecuteTime": {
     "end_time": "2017-11-23T22:23:04.961395Z",
     "start_time": "2017-11-23T22:23:04.658348Z"
    }
   },
   "outputs": [
    {
     "name": "stdout",
     "output_type": "stream",
     "text": [
      "Downloaded /projects/ooihs/ReNet/data/mppi/mppi.gz\n"
     ]
    }
   ],
   "source": [
    "data_directory = os.path.join(project_directory, 'data/mppi')\n",
    "\n",
    "urls = ['http://mips.helmholtz-muenchen.de/proj/ppi/data/mppi.gz']\n",
    "\n",
    "download_files(urls, data_directory)"
   ]
  },
  {
   "cell_type": "markdown",
   "metadata": {},
   "source": [
    "### [Human Transcriptional Regulation Interaction Database](http://www.lbbc.ibb.unesp.br/htri/)\n",
    "\n",
    "HTRIdb is a specialized database to collect information pertaining to transcriptional regulation interactions. The data can be downloaded [here](http://www.lbbc.ibb.unesp.br/htri/pagdown.jsp). The `TF-TG Interactions + PPIs` in csv format was used."
   ]
  },
  {
   "cell_type": "code",
   "execution_count": 10,
   "metadata": {
    "ExecuteTime": {
     "end_time": "2017-11-23T22:23:49.090212Z",
     "start_time": "2017-11-23T22:23:04.964071Z"
    }
   },
   "outputs": [
    {
     "name": "stdout",
     "output_type": "stream",
     "text": [
      "Downloaded /projects/ooihs/ReNet/data/htridb/htridb_with_ppi.csv\n"
     ]
    }
   ],
   "source": [
    "# the following example demonstrates how to download HTRIdb data using requests module\n",
    "# \"get\" handling. Please consult the example in SIGNOR for \"post\" handling.\n",
    "# the method might fail if HTRIdb change their web handling\n",
    "url = 'http://www.lbbc.ibb.unesp.br/htri/consulta'\n",
    "\n",
    "# parameters for getting HTRIdb data\n",
    "# type: 1 TF-TG Interactions\n",
    "#       2 TF-TG Interactions + PPIs\n",
    "# down: 1 Text format\n",
    "#       2 Excel format\n",
    "#       3 CSV format\n",
    "parameters = {\n",
    "    \"type\": 2,\n",
    "    \"all\": 'true',\n",
    "    \"down\": 3\n",
    "}\n",
    "\n",
    "data_directory = os.path.join(project_directory, 'data/htridb')\n",
    "\n",
    "if not os.path.isdir(data_directory):\n",
    "    os.makedirs(data_directory)\n",
    "    \n",
    "output_file = os.path.join(data_directory, 'htridb_with_ppi.csv')\n",
    "try:\n",
    "    req = requests.get(url, params=parameters)\n",
    "    req.raise_for_status()\n",
    "    with open(output_file, 'w') as ofh:\n",
    "        ofh.write(req.text)\n",
    "    print('Downloaded', output_file)\n",
    "    req.close()\n",
    "except:\n",
    "    print(\"Error in downloading HTRIdb data\")"
   ]
  },
  {
   "cell_type": "markdown",
   "metadata": {},
   "source": [
    "### [SynSysNet](http://bioinformatics.charite.de/synsys/index.php)\n",
    "\n",
    "SynSysNet is a manually curated database for synaptic proteins. The database provides a list of protein-protein interactions involving in synaptic activities. The following files are required."
   ]
  },
  {
   "cell_type": "code",
   "execution_count": 11,
   "metadata": {
    "ExecuteTime": {
     "end_time": "2017-11-23T22:23:49.794565Z",
     "start_time": "2017-11-23T22:23:49.092848Z"
    }
   },
   "outputs": [
    {
     "name": "stdout",
     "output_type": "stream",
     "text": [
      "Downloaded /projects/ooihs/ReNet/data/synsysnet/genes.csv\n",
      "Downloaded /projects/ooihs/ReNet/data/synsysnet/proteins.csv\n",
      "Downloaded /projects/ooihs/ReNet/data/synsysnet/ppis.csv\n"
     ]
    }
   ],
   "source": [
    "data_directory = os.path.join(project_directory, 'data/synsysnet')\n",
    "\n",
    "urls = [\n",
    "    'http://bioinformatics.charite.de/synsys/download/genes.csv',\n",
    "    'http://bioinformatics.charite.de/synsys/download/proteins.csv',\n",
    "    'http://bioinformatics.charite.de/synsys/download/ppis.csv'\n",
    "]\n",
    "\n",
    "download_files(urls, data_directory)"
   ]
  },
  {
   "cell_type": "markdown",
   "metadata": {},
   "source": [
    "### [TcoF](http://www.cbrc.kaust.edu.sa/tcof/)\n",
    "\n",
    "Dragon database of transcription co-factors and transcription factor interacting proteins(TcoF) collects interactions involved in the human transcriptional regulations."
   ]
  },
  {
   "cell_type": "code",
   "execution_count": 12,
   "metadata": {
    "ExecuteTime": {
     "end_time": "2017-11-23T22:23:55.836380Z",
     "start_time": "2017-11-23T22:23:49.797922Z"
    }
   },
   "outputs": [
    {
     "name": "stdout",
     "output_type": "stream",
     "text": [
      "Downloaded /projects/ooihs/ReNet/data/tcof/tcof_tfs_20100927.txt\n",
      "Downloaded /projects/ooihs/ReNet/data/tcof/tcof_tcofs_20100927.txt\n",
      "Downloaded /projects/ooihs/ReNet/data/tcof/tcof_ppi_20100927.txt\n"
     ]
    }
   ],
   "source": [
    "data_directory = os.path.join(project_directory, 'data/tcof')\n",
    "\n",
    "urls = [\n",
    "    'http://www.cbrc.kaust.edu.sa/tcof/download_helper.php?path=download/tcof_tfs_20100927.txt&name=tcof_tfs_20100927.txt',\n",
    "    'http://www.cbrc.kaust.edu.sa/tcof/download_helper.php?path=download/tcof_tcofs_20100927.txt&name=tcof_tcofs_20100927.txt',\n",
    "    'http://www.cbrc.kaust.edu.sa/tcof/download_helper.php?path=download/tcof_ppi_20100927.txt&name=tcof_ppi_20100927.txt'\n",
    "]\n",
    "\n",
    "if not os.path.isdir(data_directory):\n",
    "    os.makedirs(data_directory)\n",
    "\n",
    "for url in urls:\n",
    "    # extract the name from url\n",
    "    download_name = url.split('=')[2]\n",
    "    filename = retrieve_file(url, os.path.join(data_directory, download_name))\n",
    "    if filename:\n",
    "        print('Downloaded', filename)\n",
    "    else:\n",
    "        print('Failed', url)"
   ]
  },
  {
   "cell_type": "markdown",
   "metadata": {},
   "source": [
    "### [INstruct](http://instruct.yulab.org/)\n",
    "\n",
    "INstruct is a database of 3D protein interactome networks based on structural information."
   ]
  },
  {
   "cell_type": "code",
   "execution_count": 13,
   "metadata": {
    "ExecuteTime": {
     "end_time": "2017-11-23T22:24:01.842066Z",
     "start_time": "2017-11-23T22:23:55.840517Z"
    }
   },
   "outputs": [
    {
     "name": "stdout",
     "output_type": "stream",
     "text": [
      "Downloaded /projects/ooihs/ReNet/data/instruct/sapiens.sin\n"
     ]
    }
   ],
   "source": [
    "data_directory = os.path.join(project_directory, 'data/instruct')\n",
    "\n",
    "urls = ['http://instruct.yulab.org/download/sapiens.sin']\n",
    "\n",
    "download_files(urls, data_directory)"
   ]
  },
  {
   "cell_type": "markdown",
   "metadata": {},
   "source": [
    "### [BINDtranslation](http://baderlab.org/BINDTranslation)\n",
    "\n",
    "This project transfer the old BIND database to the PSI-MI format."
   ]
  },
  {
   "cell_type": "code",
   "execution_count": 14,
   "metadata": {
    "ExecuteTime": {
     "end_time": "2017-11-23T22:24:05.567148Z",
     "start_time": "2017-11-23T22:24:01.844735Z"
    }
   },
   "outputs": [
    {
     "name": "stdout",
     "output_type": "stream",
     "text": [
      "Downloaded /projects/ooihs/ReNet/data/bindtranslation/BINDTranslation_v1_mitab_AllSpecies.tar.gz\n"
     ]
    }
   ],
   "source": [
    "data_directory = os.path.join(project_directory, 'data/bindtranslation')\n",
    "\n",
    "urls = ['http://download.baderlab.org/BINDTranslation/release1_0/BINDTranslation_v1_mitab_AllSpecies.tar.gz']\n",
    "\n",
    "download_files(urls, data_directory)"
   ]
  },
  {
   "cell_type": "markdown",
   "metadata": {},
   "source": [
    "### [CIDeR](http://mips.helmholtz-muenchen.de/cider/)\n",
    "\n",
    "CIDeR is a manually curated database of interactions involved in various diseases. The latest version was released on 22.09.2016."
   ]
  },
  {
   "cell_type": "code",
   "execution_count": 15,
   "metadata": {
    "ExecuteTime": {
     "end_time": "2017-11-23T22:24:13.710450Z",
     "start_time": "2017-11-23T22:24:05.569832Z"
    }
   },
   "outputs": [
    {
     "name": "stdout",
     "output_type": "stream",
     "text": [
      "Downloaded /projects/ooihs/ReNet/data/cider/start\n"
     ]
    }
   ],
   "source": [
    "data_directory = os.path.join(project_directory, 'data/cider')\n",
    "\n",
    "urls = ['http://mips.helmholtz-muenchen.de/cider/download/start']\n",
    "\n",
    "download_files(urls, data_directory)"
   ]
  },
  {
   "cell_type": "markdown",
   "metadata": {},
   "source": [
    "### [SPIKE](http://www.cs.tau.ac.il/~spike/)\n",
    "\n",
    "SPIKE is a database of highly curated human signaling pathways. The database in XML format is used. This file format allows us to extract protein-protein interactions from the pathways."
   ]
  },
  {
   "cell_type": "code",
   "execution_count": 16,
   "metadata": {
    "ExecuteTime": {
     "end_time": "2017-11-23T22:24:19.597467Z",
     "start_time": "2017-11-23T22:24:13.712614Z"
    }
   },
   "outputs": [
    {
     "name": "stdout",
     "output_type": "stream",
     "text": [
      "Downloaded /projects/ooihs/ReNet/data/spike/LatestSpikeDB.xml.zip\n"
     ]
    }
   ],
   "source": [
    "data_directory = os.path.join(project_directory, 'data/spike')\n",
    "\n",
    "urls = ['http://www.cs.tau.ac.il/~spike/download/LatestSpikeDB.xml.zip']\n",
    "\n",
    "download_files(urls, data_directory)"
   ]
  },
  {
   "cell_type": "markdown",
   "metadata": {},
   "source": [
    "### [SIGNOR](http://signor.uniroma2.it/)\n",
    "\n",
    "The Signaling Network Open Resource is a database of causal relationships between biological entities.\n",
    "\n",
    "The data can be downloaded [here](http://signor.uniroma2.it/downloads.php). Users need to download Human interaction data in xls format. The csv format cannot be handled properly. SIGNOR Complexes and Protein Families are needed well."
   ]
  },
  {
   "cell_type": "code",
   "execution_count": 17,
   "metadata": {
    "ExecuteTime": {
     "end_time": "2017-11-23T22:24:40.866000Z",
     "start_time": "2017-11-23T22:24:19.600113Z"
    }
   },
   "outputs": [
    {
     "name": "stdout",
     "output_type": "stream",
     "text": [
      "Downloaded /projects/ooihs/ReNet/data/signor/signor.xlsx\n",
      "Downloaded /projects/ooihs/ReNet/data/signor/signor_complexes.csv\n",
      "Downloaded /projects/ooihs/ReNet/data/signor/signor_family.csv\n"
     ]
    }
   ],
   "source": [
    "# the following example demonstrates how to download SIGNOR data using requests module\n",
    "# form handling functioin.\n",
    "# the method might fail if SIGNOR change their web handling\n",
    "\n",
    "# formdata for query signor interaction\n",
    "formdata = {\n",
    "    \"organism\": 'human',\n",
    "    \"format\": 'Excel5',\n",
    "    \"submit\": 'Download'\n",
    "}\n",
    "\n",
    "data_directory = os.path.join(project_directory, 'data/signor')\n",
    "\n",
    "if not os.path.isdir(data_directory):\n",
    "    os.makedirs(data_directory)\n",
    "    \n",
    "url = 'http://signor.uniroma2.it/download_entity.php'\n",
    "\n",
    "output_file = os.path.join(data_directory, 'signor.xlsx')\n",
    "try:\n",
    "    req = requests.post(url, data=formdata)\n",
    "    req.raise_for_status()\n",
    "    with open(output_file, 'wb') as ofh:\n",
    "        ofh.write(req.content)\n",
    "    print('Downloaded', output_file)\n",
    "    req.close()\n",
    "except:\n",
    "    print(\"Error in downloading SIGNOR data\")\n",
    "    \n",
    "# for downloading signor complexes and protein family\n",
    "url = 'http://signor.uniroma2.it/download_complexes.php'\n",
    "\n",
    "values = [\n",
    "    ('Download complex data', 'signor_complexes.csv'),\n",
    "    ('Download protein family data', 'signor_family.csv')\n",
    "]\n",
    "\n",
    "for item in values:\n",
    "    mode, filename = item\n",
    "\n",
    "    try:\n",
    "        req = requests.post(url, data={'submit': mode})\n",
    "        output_file = os.path.join(data_directory, filename)\n",
    "        with open(output_file, 'w') as ofh:\n",
    "            ofh.write(req.text)\n",
    "        print('Downloaded', output_file)\n",
    "        req.close()\n",
    "    except:\n",
    "        print(\"Error in:\", mode)"
   ]
  },
  {
   "cell_type": "markdown",
   "metadata": {},
   "source": [
    "### [Reactome](https://reactome.org/)\n",
    "\n",
    "Reactome is a pathway of human reactions. Besides pathway maps, the database also provides human protein-protein interaction data."
   ]
  },
  {
   "cell_type": "code",
   "execution_count": 18,
   "metadata": {
    "ExecuteTime": {
     "end_time": "2017-11-23T22:24:57.807762Z",
     "start_time": "2017-11-23T22:24:40.868933Z"
    }
   },
   "outputs": [
    {
     "name": "stdout",
     "output_type": "stream",
     "text": [
      "Downloaded /projects/ooihs/ReNet/data/reactome/reactome.homo_sapiens.interactions.psi-mitab.txt\n"
     ]
    }
   ],
   "source": [
    "data_directory = os.path.join(project_directory, 'data/reactome')\n",
    "\n",
    "urls = ['https://reactome.org/download/current/interactors/reactome.homo_sapiens.interactions.psi-mitab.txt'\n",
    "]\n",
    "\n",
    "download_files(urls, data_directory)"
   ]
  },
  {
   "cell_type": "markdown",
   "metadata": {},
   "source": [
    "### [SignaLink](http://www.signalink.org/)\n",
    "\n",
    "SignaLink 2.0 is an integrated resource for signaling pathways. The data can be downloaded [here](http://www.signalink.org/download). Please select the complete database."
   ]
  },
  {
   "cell_type": "code",
   "execution_count": 19,
   "metadata": {
    "ExecuteTime": {
     "end_time": "2017-11-23T22:25:41.599324Z",
     "start_time": "2017-11-23T22:24:57.810239Z"
    }
   },
   "outputs": [
    {
     "name": "stdout",
     "output_type": "stream",
     "text": [
      "Downloaded /projects/ooihs/ReNet/data/signalink/signalink.sql.gz\n"
     ]
    }
   ],
   "source": [
    "data_directory = os.path.join(project_directory, 'data/signalink')\n",
    "\n",
    "urls = ['http://signalink.org/export/signalink.sql.gz']\n",
    "\n",
    "download_files(urls, data_directory)"
   ]
  },
  {
   "cell_type": "markdown",
   "metadata": {},
   "source": [
    "### [TRIP](http://trpchannel.org/)\n",
    "\n",
    "TRIP is a manually curated database of protein-protein interactions for mammalian TRP channels. Transient receptor potential (TRP) channels are a family of $Ca^{2+}$-permeable cation channels. "
   ]
  },
  {
   "cell_type": "code",
   "execution_count": 20,
   "metadata": {
    "ExecuteTime": {
     "end_time": "2017-11-23T22:25:43.934248Z",
     "start_time": "2017-11-23T22:25:41.603036Z"
    }
   },
   "outputs": [
    {
     "name": "stdout",
     "output_type": "stream",
     "text": [
      "Downloaded /projects/ooihs/ReNet/data/trip/20150806.csv\n"
     ]
    }
   ],
   "source": [
    "data_directory = os.path.join(project_directory, 'data/trip')\n",
    "\n",
    "urls = ['http://trpchannel.org/20150806.csv']\n",
    "\n",
    "download_files(urls, data_directory)"
   ]
  },
  {
   "cell_type": "markdown",
   "metadata": {
    "collapsed": true
   },
   "source": [
    "### [KEGG](http://www.kegg.jp/)\n",
    "\n",
    "Kyoto Encyclopedia of Genes and Genomes (KEGG) is a resource characterizing various components of biological systems such as pathways, diseases, genes and proteins. In this study, we mainly used the pathway collections.\n",
    "\n",
    "KEGG provides API to download their data. For researchers with fundings, it is advisable to support KEGG development through KEGG [FTP Subscription](https://www.bioinformatics.jp/en/keggftp.html).\n",
    "\n",
    "`kegg` module is capable of downloading the human collection, including genes, pathways and other modules. The following code block downloads the pathways (including pathway maps), human genes and diseases."
   ]
  },
  {
   "cell_type": "code",
   "execution_count": 21,
   "metadata": {
    "ExecuteTime": {
     "end_time": "2017-11-24T00:41:43.160894Z",
     "start_time": "2017-11-23T22:25:43.937681Z"
    }
   },
   "outputs": [
    {
     "name": "stdout",
     "output_type": "stream",
     "text": [
      "/projects/ooihs/ReNet/data/kegg/ not exists. I will create one instead.\n",
      "Downloading pathways for hsa\n",
      "Number of pathways: 322\n",
      "Total files to download: 966\n",
      "Total number of items successfully downloaded: 966\n",
      "Complete!\n",
      "Downloading modules for hsa\n",
      "Total files: 188\n",
      "Total number of items successfully downloaded: 188\n",
      "Complete!\n",
      "Downloading hsa\n",
      "Total files: 39519\n",
      "Total number of items successfully downloaded: 39519\n",
      "Complete!\n",
      "Downloading disease\n",
      "Total files: 1949\n",
      "Total number of items successfully downloaded: 1949\n",
      "Complete!\n"
     ]
    }
   ],
   "source": [
    "from src import kegg\n",
    "\n",
    "modules = ['disease']\n",
    "data_directory = os.path.join(project_directory, 'data/kegg')\n",
    "kegg.download_kegg(data_directory, 'hsa', modules=modules)"
   ]
  },
  {
   "cell_type": "markdown",
   "metadata": {},
   "source": [
    "### [P~PeP](http://www.pepcyber.org/PPEP/)\n",
    "\n",
    "P~PeP is the largest public database of human protein-protein interactions mediated by phosphoprotein binding domains (PPBDs)."
   ]
  },
  {
   "cell_type": "code",
   "execution_count": 23,
   "metadata": {
    "ExecuteTime": {
     "end_time": "2017-11-24T01:54:25.315711Z",
     "start_time": "2017-11-24T00:59:23.240800Z"
    }
   },
   "outputs": [
    {
     "name": "stdout",
     "output_type": "stream",
     "text": [
      "Downloading the PPep proteins...\n",
      "Number of proteins downloaded: 209\n",
      "\n",
      "Downloading the PPep interactions...\n",
      "Total number of interactions to download: 9529\n",
      "\n",
      "\n",
      "... Downloading 50 interactions\n",
      "... Downloading 100 interactions\n",
      "... Downloading 150 interactions\n",
      "... Downloading 200 interactions\n",
      "... Downloading 250 interactions\n",
      "... Downloading 300 interactions\n",
      "... Downloading 350 interactions\n",
      "... Downloading 400 interactions\n",
      "... Downloading 450 interactions\n",
      "... Downloading 500 interactions\n",
      "... Downloading 550 interactions\n",
      "... Downloading 600 interactions\n",
      "... Downloading 650 interactions\n",
      "... Downloading 700 interactions\n",
      "... Downloading 750 interactions\n",
      "... Downloading 800 interactions\n",
      "... Downloading 850 interactions\n",
      "... Downloading 900 interactions\n",
      "... Downloading 950 interactions\n",
      "... Downloading 1000 interactions\n",
      "... Downloading 1050 interactions\n",
      "... Downloading 1100 interactions\n",
      "... Downloading 1150 interactions\n",
      "... Downloading 1200 interactions\n",
      "... Downloading 1250 interactions\n",
      "... Downloading 1300 interactions\n",
      "... Downloading 1350 interactions\n",
      "... Downloading 1400 interactions\n",
      "... Downloading 1450 interactions\n",
      "... Downloading 1500 interactions\n",
      "... Downloading 1550 interactions\n",
      "... Downloading 1600 interactions\n",
      "... Downloading 1650 interactions\n",
      "... Downloading 1700 interactions\n",
      "... Downloading 1750 interactions\n",
      "... Downloading 1800 interactions\n",
      "... Downloading 1850 interactions\n",
      "... Downloading 1900 interactions\n",
      "... Downloading 1950 interactions\n",
      "... Downloading 2000 interactions\n",
      "... Downloading 2050 interactions\n",
      "... Downloading 2100 interactions\n",
      "... Downloading 2150 interactions\n",
      "... Downloading 2200 interactions\n",
      "... Downloading 2250 interactions\n",
      "... Downloading 2300 interactions\n",
      "... Downloading 2350 interactions\n",
      "... Downloading 2400 interactions\n",
      "... Downloading 2450 interactions\n",
      "... Downloading 2500 interactions\n",
      "... Downloading 2550 interactions\n",
      "... Downloading 2600 interactions\n",
      "... Downloading 2650 interactions\n",
      "... Downloading 2700 interactions\n",
      "... Downloading 2750 interactions\n",
      "... Downloading 2800 interactions\n",
      "... Downloading 2850 interactions\n",
      "... Downloading 2900 interactions\n",
      "... Downloading 2950 interactions\n",
      "... Downloading 3000 interactions\n",
      "... Downloading 3050 interactions\n",
      "... Downloading 3100 interactions\n",
      "... Downloading 3150 interactions\n",
      "... Downloading 3200 interactions\n",
      "... Downloading 3250 interactions\n",
      "... Downloading 3300 interactions\n",
      "... Downloading 3350 interactions\n",
      "... Downloading 3400 interactions\n",
      "... Downloading 3450 interactions\n",
      "... Downloading 3500 interactions\n",
      "... Downloading 3550 interactions\n",
      "... Downloading 3600 interactions\n",
      "... Downloading 3650 interactions\n",
      "... Downloading 3700 interactions\n",
      "... Downloading 3750 interactions\n",
      "... Downloading 3800 interactions\n",
      "... Downloading 3850 interactions\n",
      "... Downloading 3900 interactions\n",
      "... Downloading 3950 interactions\n",
      "... Downloading 4000 interactions\n",
      "... Downloading 4050 interactions\n",
      "... Downloading 4100 interactions\n",
      "... Downloading 4150 interactions\n",
      "... Downloading 4200 interactions\n",
      "... Downloading 4250 interactions\n",
      "... Downloading 4300 interactions\n",
      "... Downloading 4350 interactions\n",
      "... Downloading 4400 interactions\n",
      "... Downloading 4450 interactions\n",
      "... Downloading 4500 interactions\n",
      "... Downloading 4550 interactions\n",
      "... Downloading 4600 interactions\n",
      "... Downloading 4650 interactions\n",
      "... Downloading 4700 interactions\n",
      "... Downloading 4750 interactions\n",
      "... Downloading 4800 interactions\n",
      "... Downloading 4850 interactions\n",
      "... Downloading 4900 interactions\n",
      "... Downloading 4950 interactions\n",
      "... Downloading 5000 interactions\n",
      "... Downloading 5050 interactions\n",
      "... Downloading 5100 interactions\n",
      "... Downloading 5150 interactions\n",
      "... Downloading 5200 interactions\n",
      "... Downloading 5250 interactions\n",
      "... Downloading 5300 interactions\n",
      "... Downloading 5350 interactions\n",
      "... Downloading 5400 interactions\n",
      "... Downloading 5450 interactions\n",
      "... Downloading 5500 interactions\n",
      "... Downloading 5550 interactions\n",
      "... Downloading 5600 interactions\n",
      "... Downloading 5650 interactions\n",
      "... Downloading 5700 interactions\n",
      "... Downloading 5750 interactions\n",
      "... Downloading 5800 interactions\n",
      "... Downloading 5850 interactions\n",
      "... Downloading 5900 interactions\n",
      "... Downloading 5950 interactions\n",
      "... Downloading 6000 interactions\n",
      "... Downloading 6050 interactions\n",
      "... Downloading 6100 interactions\n",
      "... Downloading 6150 interactions\n",
      "... Downloading 6200 interactions\n",
      "... Downloading 6250 interactions\n",
      "... Downloading 6300 interactions\n",
      "... Downloading 6350 interactions\n",
      "... Downloading 6400 interactions\n",
      "... Downloading 6450 interactions\n",
      "... Downloading 6500 interactions\n",
      "... Downloading 6550 interactions\n",
      "... Downloading 6600 interactions\n",
      "... Downloading 6650 interactions\n",
      "... Downloading 6700 interactions\n",
      "... Downloading 6750 interactions\n",
      "... Downloading 6800 interactions\n",
      "... Downloading 6850 interactions\n",
      "... Downloading 6900 interactions\n",
      "... Downloading 6950 interactions\n",
      "... Downloading 7000 interactions\n",
      "... Downloading 7050 interactions\n",
      "... Downloading 7100 interactions\n",
      "... Downloading 7150 interactions\n",
      "... Downloading 7200 interactions\n",
      "... Downloading 7250 interactions\n",
      "... Downloading 7300 interactions\n",
      "... Downloading 7350 interactions\n",
      "... Downloading 7400 interactions\n",
      "... Downloading 7450 interactions\n",
      "... Downloading 7500 interactions\n",
      "... Downloading 7550 interactions\n",
      "... Downloading 7600 interactions\n",
      "... Downloading 7650 interactions\n",
      "... Downloading 7700 interactions\n",
      "... Downloading 7750 interactions\n",
      "... Downloading 7800 interactions\n",
      "... Downloading 7850 interactions\n",
      "... Downloading 7900 interactions\n",
      "... Downloading 7950 interactions\n",
      "... Downloading 8000 interactions\n",
      "... Downloading 8050 interactions\n",
      "... Downloading 8100 interactions\n",
      "... Downloading 8150 interactions\n",
      "... Downloading 8200 interactions\n",
      "... Downloading 8250 interactions\n",
      "... Downloading 8300 interactions\n",
      "... Downloading 8350 interactions\n",
      "... Downloading 8400 interactions\n",
      "... Downloading 8450 interactions\n",
      "... Downloading 8500 interactions\n",
      "... Downloading 8550 interactions\n",
      "... Downloading 8600 interactions\n",
      "... Downloading 8650 interactions\n",
      "... Downloading 8700 interactions\n",
      "... Downloading 8750 interactions\n",
      "... Downloading 8800 interactions\n",
      "... Downloading 8850 interactions\n",
      "... Downloading 8900 interactions\n",
      "... Downloading 8950 interactions\n",
      "... Downloading 9000 interactions\n",
      "... Downloading 9050 interactions\n",
      "... Downloading 9100 interactions\n",
      "... Downloading 9150 interactions\n",
      "... Downloading 9200 interactions\n",
      "... Downloading 9250 interactions\n",
      "... Downloading 9300 interactions\n",
      "... Downloading 9350 interactions\n",
      "... Downloading 9400 interactions\n",
      "... Downloading 9450 interactions\n",
      "... Downloading 9500 interactions\n",
      "... Downloading 9529 interactions\n",
      "Download completed: 9529\n"
     ]
    }
   ],
   "source": [
    "from src import ppep\n",
    "\n",
    "\"\"\"process the protein complexes from PPep\"\"\"\n",
    "ppep_data = os.path.join(project_directory, 'data/ppep/')\n",
    "if not os.path.isdir(ppep_data):\n",
    "    os.makedirs(ppep_data)\n",
    "    \n",
    "ppep.download_interactions(ppep_data)"
   ]
  },
  {
   "cell_type": "markdown",
   "metadata": {},
   "source": [
    "### Databases without downloadable data\n",
    "\n",
    "The following databases do not provide interactions in a download form. ReNet will query the website for the interactions during the standardization prcess.\n",
    "\n",
    "* [PDZBase](https://abc.med.cornell.edu/pdzbase)\n",
    "is a manually curated protein-protein interactions involving PDZ domains.\n",
    "* [DeathDomani](http://deathdomain.org/)\n",
    "is a manually curated database of protein-protein interactions for Death Domain Superfamily."
   ]
  },
  {
   "cell_type": "markdown",
   "metadata": {},
   "source": [
    "## Databases for constructing golden reference sets"
   ]
  },
  {
   "cell_type": "markdown",
   "metadata": {},
   "source": [
    "### [CORUM](http://mips.helmholtz-muenchen.de/corum/)\n",
    "\n",
    "CORUM is a comprehensive collection of mammalian protein complexes. Corum current release: 02.07.2017."
   ]
  },
  {
   "cell_type": "code",
   "execution_count": 24,
   "metadata": {
    "ExecuteTime": {
     "end_time": "2017-11-24T01:54:25.832244Z",
     "start_time": "2017-11-24T01:54:25.319803Z"
    }
   },
   "outputs": [
    {
     "name": "stdout",
     "output_type": "stream",
     "text": [
      "Downloaded /projects/ooihs/ReNet/data/corum/allComplexes.txt.zip\n"
     ]
    }
   ],
   "source": [
    "data_directory = os.path.join(project_directory, 'data/corum')\n",
    "\n",
    "urls = ['http://mips.helmholtz-muenchen.de/corum/download/allComplexes.txt.zip']\n",
    "\n",
    "download_files(urls, data_directory)"
   ]
  },
  {
   "cell_type": "markdown",
   "metadata": {},
   "source": [
    "### [HumanCyc](https://humancyc.org/)\n",
    "\n",
    "HumanCyc is an encyclopedia of human genes and metabolism. The database contains manually curated human protein complexes. Registration is required in order to download the data. \n",
    "\n",
    "[Registration link](https://humancyc.org/download-flatfiles.shtml).\n",
    "\n",
    "After registration, please download the human individual database (human.tar.gz, version 19.5)"
   ]
  },
  {
   "cell_type": "markdown",
   "metadata": {},
   "source": [
    "### [Negatome](http://mips.helmholtz-muenchen.de/proj/ppi/negatome/)\n",
    "\n",
    "Negatome collects protein interactions and domain pairs that are unlikely to form direct physical interactions. The dataset is generally very small and unsuitable to be used as a golden negative set. ReNet uses the information to ensure the golden positive set does not contain any negative interactions. The `Combined` collection is used."
   ]
  },
  {
   "cell_type": "code",
   "execution_count": 25,
   "metadata": {
    "ExecuteTime": {
     "end_time": "2017-11-24T01:54:26.058048Z",
     "start_time": "2017-11-24T01:54:25.836490Z"
    }
   },
   "outputs": [
    {
     "name": "stdout",
     "output_type": "stream",
     "text": [
      "Downloaded /projects/ooihs/ReNet/data/negatome/combined.txt\n"
     ]
    }
   ],
   "source": [
    "data_directory = os.path.join(project_directory, 'data/negatome')\n",
    "\n",
    "urls = ['http://mips.helmholtz-muenchen.de/proj/ppi/negatome/combined.txt']\n",
    "\n",
    "download_files(urls, data_directory)"
   ]
  },
  {
   "cell_type": "markdown",
   "metadata": {},
   "source": [
    "## Integrated resources"
   ]
  },
  {
   "cell_type": "markdown",
   "metadata": {},
   "source": [
    "### [ComPPI](http://comppi.linkgroup.hu/)\n",
    "\n",
    "ComPPI stands for Compartmentalized Protein-Protein Interaction Database, which provides qualitative information on the protein interaction and protein localization information. The interactions were integrated from multiple databases."
   ]
  },
  {
   "cell_type": "code",
   "execution_count": 26,
   "metadata": {
    "ExecuteTime": {
     "end_time": "2017-11-24T01:54:42.700483Z",
     "start_time": "2017-11-24T01:54:26.060939Z"
    }
   },
   "outputs": [
    {
     "name": "stdout",
     "output_type": "stream",
     "text": [
      "Downloaded /projects/ooihs/ReNet/data/comppi/comppi--interactions--tax_hsapiens_loc_all.txt.gz\n"
     ]
    }
   ],
   "source": [
    "url = 'http://comppi.linkgroup.hu/downloads'\n",
    "\n",
    "# parameters for getting ComPPI data\n",
    "# fDlSet: comp, int, protnloc\n",
    "# fDlSpec: 0 (human)\n",
    "# fDlMLoc: all\n",
    "# fDlSubmit: Download\n",
    "parameters = {\n",
    "    \"fDlSet\": 'int',\n",
    "    \"fDlSpec\": 0,\n",
    "    \"fDlMLoc\": \"all\",\n",
    "    \"fDlSubmit\": \"Download\"\n",
    "}\n",
    "\n",
    "data_directory = os.path.join(project_directory, 'data/comppi')\n",
    "\n",
    "if not os.path.isdir(data_directory):\n",
    "    os.makedirs(data_directory)\n",
    "    \n",
    "try:\n",
    "    req = requests.post(url, data=parameters, stream=True)\n",
    "    req.raise_for_status()\n",
    "    \n",
    "    # default name\n",
    "    output_file = os.path.join(data_directory, 'comppi_interaction.txt.gz')\n",
    "    # use the file attachment name if presented\n",
    "    for term in req.headers['content-disposition'].split(';'):\n",
    "        term = term.strip()\n",
    "        if term.startswith('filename='):\n",
    "            output_file = os.path.join(data_directory, \n",
    "                                       term.split('=')[1].strip('\"'))\n",
    "        \n",
    "    with open(output_file, 'wb') as ofh:\n",
    "        for chunk in req.iter_content(chunk_size=1024):\n",
    "            ofh.write(chunk)\n",
    "    print('Downloaded', output_file)\n",
    "    req.close()\n",
    "except:\n",
    "    print(\"Error in downloading ComPPI interactions\")"
   ]
  },
  {
   "cell_type": "markdown",
   "metadata": {},
   "source": [
    "### [ConsensusPathDB](http://cpdb.molgen.mpg.de/)\n",
    "\n",
    "ConsensusPathDB is a resource that integrates interaction data from binary and complex protein-protein, genetic, metabolic, signaling, gene regulatory and drug-target interactions, and pathways. "
   ]
  },
  {
   "cell_type": "code",
   "execution_count": 27,
   "metadata": {
    "ExecuteTime": {
     "end_time": "2017-11-24T01:54:45.242549Z",
     "start_time": "2017-11-24T01:54:42.704281Z"
    }
   },
   "outputs": [
    {
     "name": "stdout",
     "output_type": "stream",
     "text": [
      "Downloaded /projects/ooihs/ReNet/data/cpdb/ConsensusPathDB_human_PPI.gz\n"
     ]
    }
   ],
   "source": [
    "data_directory = os.path.join(project_directory, 'data/cpdb')\n",
    "\n",
    "urls = ['http://cpdb.molgen.mpg.de/download/ConsensusPathDB_human_PPI.gz']\n",
    "\n",
    "download_files(urls, data_directory)"
   ]
  },
  {
   "cell_type": "markdown",
   "metadata": {},
   "source": [
    "### [GeneMANIA](http://genemania.org/)\n",
    "\n",
    "GeneMANIA is one of the initial efforts to construct a comprehensive human molecular interaction network.\n",
    "\n",
    "The latest interaction data is available for download from the following url, [http://genemania.org/data/current/](http://genemania.org/data/current/). For each organism, two sets of interactions data are available, individual networks obtained from existing publications or resources, and combined interaction data. The individual interaction data set contains gene pairs reported in a particular study or  resource. These gene pairs are weighted using a method presented in [PMID:11112](). Various forms of interactions are available: Co-expression, etc. The folder also contains various attributes given in [GMT format](http://software.broadinstitute.org/cancer/software/gsea/wiki/index.php/Data_formats#GMT:_Gene_Matrix_Transposed_file_format_.28.2A.gmt.29). The file `networks.txt` contains information about each network and `identifier_mappings.txt` file provides conversion between various identifiers.\n",
    "\n",
    "The combined data set integrates all the individual networks and evaluated against GO Biological Processes. The file `COMBINATIONS_WEIGHTS.DEFAULT_NETWORKS.BP_COMBINING.txt` gives the weight of each individual network.\n",
    "\n",
    "The following code block shows how to retrieve all human interactions from both data collections."
   ]
  },
  {
   "cell_type": "code",
   "execution_count": 29,
   "metadata": {
    "ExecuteTime": {
     "end_time": "2017-11-24T04:16:44.898396Z",
     "start_time": "2017-11-24T02:09:39.308216Z"
    }
   },
   "outputs": [
    {
     "name": "stdout",
     "output_type": "stream",
     "text": [
      "Downloaded /projects/ooihs/ReNet/data/genemania/Homo_sapiens/Attributes.Consolidated-Pathways-2013.gmt\n",
      "Downloaded /projects/ooihs/ReNet/data/genemania/Homo_sapiens/Attributes.Drug-interactions-2013.gmt\n",
      "Downloaded /projects/ooihs/ReNet/data/genemania/Homo_sapiens/Attributes.InterPro.gmt\n",
      "Downloaded /projects/ooihs/ReNet/data/genemania/Homo_sapiens/Attributes.Transcriptional-factor-targets-2013.gmt\n",
      "Downloaded /projects/ooihs/ReNet/data/genemania/Homo_sapiens/Attributes.miRNA-target-predictions-2013.gmt\n",
      "Downloaded /projects/ooihs/ReNet/data/genemania/Homo_sapiens/Co-expression.Agnelli-Neri-2007.txt\n",
      "Downloaded /projects/ooihs/ReNet/data/genemania/Homo_sapiens/Co-expression.Agnelli-Neri-2009.txt\n",
      "Downloaded /projects/ooihs/ReNet/data/genemania/Homo_sapiens/Co-expression.Alizadeh-Staudt-2000.txt\n",
      "Downloaded /projects/ooihs/ReNet/data/genemania/Homo_sapiens/Co-expression.Alter-Stephan-2011.txt\n",
      "Downloaded /projects/ooihs/ReNet/data/genemania/Homo_sapiens/Co-expression.Ariazi-Jordan-2011.txt\n",
      "Downloaded /projects/ooihs/ReNet/data/genemania/Homo_sapiens/Co-expression.Arijs-Rutgeerts-2009.txt\n",
      "Downloaded /projects/ooihs/ReNet/data/genemania/Homo_sapiens/Co-expression.Bahr-Bowler-2013.txt\n",
      "Downloaded /projects/ooihs/ReNet/data/genemania/Homo_sapiens/Co-expression.Balgobind-den_Boer-2011.txt\n",
      "Downloaded /projects/ooihs/ReNet/data/genemania/Homo_sapiens/Co-expression.Barnes-Colbert-2009.txt\n",
      "Downloaded /projects/ooihs/ReNet/data/genemania/Homo_sapiens/Co-expression.Barnes-Glass-2010.txt\n",
      "Downloaded /projects/ooihs/ReNet/data/genemania/Homo_sapiens/Co-expression.Barretina-Singer-2010.txt\n",
      "Downloaded /projects/ooihs/ReNet/data/genemania/Homo_sapiens/Co-expression.Baty-Brutsche-2006.txt\n",
      "Downloaded /projects/ooihs/ReNet/data/genemania/Homo_sapiens/Co-expression.Beane-Spira-2007.txt\n",
      "Downloaded /projects/ooihs/ReNet/data/genemania/Homo_sapiens/Co-expression.Berchtold-Cotman-2008.txt\n",
      "Downloaded /projects/ooihs/ReNet/data/genemania/Homo_sapiens/Co-expression.Berkofsky-Fessler-Hilton-2009.txt\n",
      "Downloaded /projects/ooihs/ReNet/data/genemania/Homo_sapiens/Co-expression.Bhojwani-Carroll-2006.txt\n",
      "Downloaded /projects/ooihs/ReNet/data/genemania/Homo_sapiens/Co-expression.Bigler-Russell-2013.txt\n",
      "Downloaded /projects/ooihs/ReNet/data/genemania/Homo_sapiens/Co-expression.Bild-Nevins-2006_A.txt\n",
      "Downloaded /projects/ooihs/ReNet/data/genemania/Homo_sapiens/Co-expression.Bild-Nevins-2006_B.txt\n",
      "Downloaded /projects/ooihs/ReNet/data/genemania/Homo_sapiens/Co-expression.Bild-Nevins-2006_C.txt\n",
      "Downloaded /projects/ooihs/ReNet/data/genemania/Homo_sapiens/Co-expression.Bjornsdottir-O'Toole-2011.txt\n",
      "Downloaded /projects/ooihs/ReNet/data/genemania/Homo_sapiens/Co-expression.Blader-Boothroyd-2001.txt\n",
      "Downloaded /projects/ooihs/ReNet/data/genemania/Homo_sapiens/Co-expression.Boldrick-Relman-2002.txt\n",
      "Downloaded /projects/ooihs/ReNet/data/genemania/Homo_sapiens/Co-expression.Bonome-Birrer-2008.txt\n",
      "Downloaded /projects/ooihs/ReNet/data/genemania/Homo_sapiens/Co-expression.Bos-Massague-2009.txt\n",
      "Downloaded /projects/ooihs/ReNet/data/genemania/Homo_sapiens/Co-expression.Botling-Micke-2013.txt\n",
      "Downloaded /projects/ooihs/ReNet/data/genemania/Homo_sapiens/Co-expression.Broyl-Sonneveld-2010.txt\n",
      "Downloaded /projects/ooihs/ReNet/data/genemania/Homo_sapiens/Co-expression.Burczynski-Dorner-2006.txt\n",
      "Downloaded /projects/ooihs/ReNet/data/genemania/Homo_sapiens/Co-expression.Burington-Shaughnessy-2008.txt\n",
      "Downloaded /projects/ooihs/ReNet/data/genemania/Homo_sapiens/Co-expression.Chang-Katzenellenbogen-2008.txt\n",
      "Downloaded /projects/ooihs/ReNet/data/genemania/Homo_sapiens/Co-expression.Chapman-Golub-2011.txt\n",
      "Downloaded /projects/ooihs/ReNet/data/genemania/Homo_sapiens/Co-expression.Chen-Brown-2002.txt\n",
      "Downloaded /projects/ooihs/ReNet/data/genemania/Homo_sapiens/Co-expression.Chen-Hessner-2014.txt\n",
      "Downloaded /projects/ooihs/ReNet/data/genemania/Homo_sapiens/Co-expression.Chen-Yeatman-2010.txt\n",
      "Downloaded /projects/ooihs/ReNet/data/genemania/Homo_sapiens/Co-expression.Chen-Zhao-2008.txt\n",
      "Downloaded /projects/ooihs/ReNet/data/genemania/Homo_sapiens/Co-expression.Cheok-Evans-2003.txt\n",
      "Downloaded /projects/ooihs/ReNet/data/genemania/Homo_sapiens/Co-expression.Chibon-Aurias-2010.txt\n",
      "Downloaded /projects/ooihs/ReNet/data/genemania/Homo_sapiens/Co-expression.Chin-Gray-2006.txt\n",
      "Downloaded /projects/ooihs/ReNet/data/genemania/Homo_sapiens/Co-expression.Chng-Fonseca-2007.txt\n",
      "Downloaded /projects/ooihs/ReNet/data/genemania/Homo_sapiens/Co-expression.Chowdary-Mazumder-2006.txt\n",
      "Downloaded /projects/ooihs/ReNet/data/genemania/Homo_sapiens/Co-expression.Chuang-Kipps-2012.txt\n",
      "Downloaded /projects/ooihs/ReNet/data/genemania/Homo_sapiens/Co-expression.Clarke-Clynes-2013.txt\n",
      "Downloaded /projects/ooihs/ReNet/data/genemania/Homo_sapiens/Co-expression.Cliff-Dockrell-2013.txt\n",
      "Downloaded /projects/ooihs/ReNet/data/genemania/Homo_sapiens/Co-expression.Coelho-Hearing-2015.txt\n",
      "Downloaded /projects/ooihs/ReNet/data/genemania/Homo_sapiens/Co-expression.Compagno-Pasqualucci-2009.txt\n",
      "Downloaded /projects/ooihs/ReNet/data/genemania/Homo_sapiens/Co-expression.Corvol-Baranzini-2008.txt\n",
      "Downloaded /projects/ooihs/ReNet/data/genemania/Homo_sapiens/Co-expression.Coustan-Smith-Campana-2011.txt\n",
      "Downloaded /projects/ooihs/ReNet/data/genemania/Homo_sapiens/Co-expression.Creighton-Chang-2012.txt\n",
      "Downloaded /projects/ooihs/ReNet/data/genemania/Homo_sapiens/Co-expression.Cuadras-Greenberg-2002.txt\n",
      "Downloaded /projects/ooihs/ReNet/data/genemania/Homo_sapiens/Co-expression.D'Alfonso-Shin-2013.txt\n",
      "Downloaded /projects/ooihs/ReNet/data/genemania/Homo_sapiens/Co-expression.Day-Maxwell-2011.txt\n",
      "Downloaded /projects/ooihs/ReNet/data/genemania/Homo_sapiens/Co-expression.De_Jager-Oksenberg-2009.txt\n",
      "Downloaded /projects/ooihs/ReNet/data/genemania/Homo_sapiens/Co-expression.Demmer-Papapanou-2008.txt\n",
      "Downloaded /projects/ooihs/ReNet/data/genemania/Homo_sapiens/Co-expression.Den_Boer-Pieters-2009_A.txt\n",
      "Downloaded /projects/ooihs/ReNet/data/genemania/Homo_sapiens/Co-expression.Den_Boer-Pieters-2009_B.txt\n",
      "Downloaded /projects/ooihs/ReNet/data/genemania/Homo_sapiens/Co-expression.Der-Tsao-2014.txt\n",
      "Downloaded /projects/ooihs/ReNet/data/genemania/Homo_sapiens/Co-expression.Desmedt-Sotiriou-2007.txt\n",
      "Downloaded /projects/ooihs/ReNet/data/genemania/Homo_sapiens/Co-expression.Detweiler-Falkow-2001.txt\n",
      "Downloaded /projects/ooihs/ReNet/data/genemania/Homo_sapiens/Co-expression.Dobbin-Giordano-2005.txt\n",
      "Downloaded /projects/ooihs/ReNet/data/genemania/Homo_sapiens/Co-expression.Dombroski-Spielman-2010.txt\n",
      "Downloaded /projects/ooihs/ReNet/data/genemania/Homo_sapiens/Co-expression.Driscoll-Munshi-2010.txt\n",
      "Downloaded /projects/ooihs/ReNet/data/genemania/Homo_sapiens/Co-expression.Einecke-Halloran-2010.txt\n",
      "Downloaded /projects/ooihs/ReNet/data/genemania/Homo_sapiens/Co-expression.Elashoff-Topol-2011_A.txt\n",
      "Downloaded /projects/ooihs/ReNet/data/genemania/Homo_sapiens/Co-expression.Elashoff-Topol-2011_B.txt\n",
      "Downloaded /projects/ooihs/ReNet/data/genemania/Homo_sapiens/Co-expression.Elashoff-Topol-2011_C.txt\n",
      "Downloaded /projects/ooihs/ReNet/data/genemania/Homo_sapiens/Co-expression.Ellis-Mardis-2012.txt\n",
      "Downloaded /projects/ooihs/ReNet/data/genemania/Homo_sapiens/Co-expression.Feng-Cheng-2014.txt\n",
      "Downloaded /projects/ooihs/ReNet/data/genemania/Homo_sapiens/Co-expression.Filipits-Gnant-2011.txt\n",
      "Downloaded /projects/ooihs/ReNet/data/genemania/Homo_sapiens/Co-expression.Finak-Park-2006.txt\n",
      "Downloaded /projects/ooihs/ReNet/data/genemania/Homo_sapiens/Co-expression.Finak-Park-2008.txt\n",
      "Downloaded /projects/ooihs/ReNet/data/genemania/Homo_sapiens/Co-expression.Folkersen-Paulsson-Berne-2012.txt\n",
      "Downloaded /projects/ooihs/ReNet/data/genemania/Homo_sapiens/Co-expression.Fountzilas-Fountzilas-2013.txt\n",
      "Downloaded /projects/ooihs/ReNet/data/genemania/Homo_sapiens/Co-expression.Freedman-Nevins-2011.txt\n",
      "Downloaded /projects/ooihs/ReNet/data/genemania/Homo_sapiens/Co-expression.Fry-Samson-2008.txt\n",
      "Downloaded /projects/ooihs/ReNet/data/genemania/Homo_sapiens/Co-expression.Gadd-Perlman-2012.txt\n",
      "Downloaded /projects/ooihs/ReNet/data/genemania/Homo_sapiens/Co-expression.Gaedcke-Ghadimi-2010.txt\n",
      "Downloaded /projects/ooihs/ReNet/data/genemania/Homo_sapiens/Co-expression.Gao-Sellers-2015.txt\n",
      "Downloaded /projects/ooihs/ReNet/data/genemania/Homo_sapiens/Co-expression.Garber-Petersen-2001.txt\n"
     ]
    },
    {
     "name": "stdout",
     "output_type": "stream",
     "text": [
      "Downloaded /projects/ooihs/ReNet/data/genemania/Homo_sapiens/Co-expression.Gibault-Aurias-2012.txt\n",
      "Downloaded /projects/ooihs/ReNet/data/genemania/Homo_sapiens/Co-expression.Gobble-Singer-2011.txt\n",
      "Downloaded /projects/ooihs/ReNet/data/genemania/Homo_sapiens/Co-expression.Gomez-Abad-Piris-2011.txt\n",
      "Downloaded /projects/ooihs/ReNet/data/genemania/Homo_sapiens/Co-expression.Griffin-Glass-2009.txt\n",
      "Downloaded /projects/ooihs/ReNet/data/genemania/Homo_sapiens/Co-expression.Grigoryev-Salomon-2010.txt\n",
      "Downloaded /projects/ooihs/ReNet/data/genemania/Homo_sapiens/Co-expression.Gysin-McMahon-2012.txt\n",
      "Downloaded /projects/ooihs/ReNet/data/genemania/Homo_sapiens/Co-expression.Haferlach-Falini-2009.txt\n",
      "Downloaded /projects/ooihs/ReNet/data/genemania/Homo_sapiens/Co-expression.Hagg-Bjorkegren-2009.txt\n",
      "Downloaded /projects/ooihs/ReNet/data/genemania/Homo_sapiens/Co-expression.Hanamura-Shaughnessy-2006.txt\n",
      "Downloaded /projects/ooihs/ReNet/data/genemania/Homo_sapiens/Co-expression.Hannenhalli-Cappola-2006.txt\n",
      "Downloaded /projects/ooihs/ReNet/data/genemania/Homo_sapiens/Co-expression.Harms-Bichakjian-2013.txt\n",
      "Downloaded /projects/ooihs/ReNet/data/genemania/Homo_sapiens/Co-expression.Hatzis-Symmans-2011_A.txt\n",
      "Downloaded /projects/ooihs/ReNet/data/genemania/Homo_sapiens/Co-expression.Hatzis-Symmans-2011_B.txt\n",
      "Downloaded /projects/ooihs/ReNet/data/genemania/Homo_sapiens/Co-expression.Hatzis-Symmans-2011_C.txt\n",
      "Downloaded /projects/ooihs/ReNet/data/genemania/Homo_sapiens/Co-expression.Haugen-Van_Houten-2010.txt\n",
      "Downloaded /projects/ooihs/ReNet/data/genemania/Homo_sapiens/Co-expression.Hegde-Luini-2015.txt\n",
      "Downloaded /projects/ooihs/ReNet/data/genemania/Homo_sapiens/Co-expression.Hendrix-Cho-2006.txt\n",
      "Downloaded /projects/ooihs/ReNet/data/genemania/Homo_sapiens/Co-expression.Hessel-Tilley-2014.txt\n",
      "Downloaded /projects/ooihs/ReNet/data/genemania/Homo_sapiens/Co-expression.Heuck-Barlogie-2012.txt\n",
      "Downloaded /projects/ooihs/ReNet/data/genemania/Homo_sapiens/Co-expression.Hinze-Grom-2010.txt\n",
      "Downloaded /projects/ooihs/ReNet/data/genemania/Homo_sapiens/Co-expression.Hochstenbach-van_Delft-2012.txt\n",
      "Downloaded /projects/ooihs/ReNet/data/genemania/Homo_sapiens/Co-expression.Holland-Grimbacher-2007.txt\n",
      "Downloaded /projects/ooihs/ReNet/data/genemania/Homo_sapiens/Co-expression.Holleman-Evans-2004.txt\n",
      "Downloaded /projects/ooihs/ReNet/data/genemania/Homo_sapiens/Co-expression.Homminga-Meijerink-2011.txt\n",
      "Downloaded /projects/ooihs/ReNet/data/genemania/Homo_sapiens/Co-expression.Honda-Kaneko-2010.txt\n",
      "Downloaded /projects/ooihs/ReNet/data/genemania/Homo_sapiens/Co-expression.Horak-Liu-2013.txt\n",
      "Downloaded /projects/ooihs/ReNet/data/genemania/Homo_sapiens/Co-expression.Hou-Philipsen-2010.txt\n",
      "Downloaded /projects/ooihs/ReNet/data/genemania/Homo_sapiens/Co-expression.Huang-Perlman-2009.txt\n",
      "Downloaded /projects/ooihs/ReNet/data/genemania/Homo_sapiens/Co-expression.Hummel-Siebert-2006.txt\n",
      "Downloaded /projects/ooihs/ReNet/data/genemania/Homo_sapiens/Co-expression.Innocenti-Brown-2011.txt\n",
      "Downloaded /projects/ooihs/ReNet/data/genemania/Homo_sapiens/Co-expression.Ioannidis-Flano-2012.txt\n",
      "Downloaded /projects/ooihs/ReNet/data/genemania/Homo_sapiens/Co-expression.Iqbal-Chan-2010.txt\n",
      "Downloaded /projects/ooihs/ReNet/data/genemania/Homo_sapiens/Co-expression.Iwamoto-Kato-2005.txt\n",
      "Downloaded /projects/ooihs/ReNet/data/genemania/Homo_sapiens/Co-expression.Iwamoto-Pusztai-2011.txt\n",
      "Downloaded /projects/ooihs/ReNet/data/genemania/Homo_sapiens/Co-expression.Iyer-Brown-1999.txt\n",
      "Downloaded /projects/ooihs/ReNet/data/genemania/Homo_sapiens/Co-expression.Jezequel-Campone-2015.txt\n",
      "Downloaded /projects/ooihs/ReNet/data/genemania/Homo_sapiens/Co-expression.Jones-Libermann-2005.txt\n",
      "Downloaded /projects/ooihs/ReNet/data/genemania/Homo_sapiens/Co-expression.Jorissen-Sieber-2008.txt\n",
      "Downloaded /projects/ooihs/ReNet/data/genemania/Homo_sapiens/Co-expression.Jorissen-Sieber-2009.txt\n",
      "Downloaded /projects/ooihs/ReNet/data/genemania/Homo_sapiens/Co-expression.Kabbarah-Chin-2010.txt\n",
      "Downloaded /projects/ooihs/ReNet/data/genemania/Homo_sapiens/Co-expression.Kaiser-Aronow-2007.txt\n",
      "Downloaded /projects/ooihs/ReNet/data/genemania/Homo_sapiens/Co-expression.Kang-Willman-2010_A.txt\n",
      "Downloaded /projects/ooihs/ReNet/data/genemania/Homo_sapiens/Co-expression.Kang-Willman-2010_B.txt\n",
      "Downloaded /projects/ooihs/ReNet/data/genemania/Homo_sapiens/Co-expression.Kannan-Zweidler-McKay-2011.txt\n",
      "Downloaded /projects/ooihs/ReNet/data/genemania/Homo_sapiens/Co-expression.Kao-Huang-2011.txt\n",
      "Downloaded /projects/ooihs/ReNet/data/genemania/Homo_sapiens/Co-expression.Karlovich-Caulfield-2009.txt\n",
      "Downloaded /projects/ooihs/ReNet/data/genemania/Homo_sapiens/Co-expression.Karn-Rody-2010.txt\n",
      "Downloaded /projects/ooihs/ReNet/data/genemania/Homo_sapiens/Co-expression.Kikuchi-Sugihara-2013.txt\n",
      "Downloaded /projects/ooihs/ReNet/data/genemania/Homo_sapiens/Co-expression.Kim-Green-2011_A.txt\n",
      "Downloaded /projects/ooihs/ReNet/data/genemania/Homo_sapiens/Co-expression.Kim-Green-2011_B.txt\n",
      "Downloaded /projects/ooihs/ReNet/data/genemania/Homo_sapiens/Co-expression.Kim-Paik-2011.txt\n",
      "Downloaded /projects/ooihs/ReNet/data/genemania/Homo_sapiens/Co-expression.Klein-Dugas-2009.txt\n",
      "Downloaded /projects/ooihs/ReNet/data/genemania/Homo_sapiens/Co-expression.Kobayashi-DeLeo-2010.txt\n",
      "Downloaded /projects/ooihs/ReNet/data/genemania/Homo_sapiens/Co-expression.Kogo-Mori-2011.txt\n",
      "Downloaded /projects/ooihs/ReNet/data/genemania/Homo_sapiens/Co-expression.Kohlmann-Haferlach-2008_A.txt\n",
      "Downloaded /projects/ooihs/ReNet/data/genemania/Homo_sapiens/Co-expression.Kohlmann-Haferlach-2008_B.txt\n",
      "Downloaded /projects/ooihs/ReNet/data/genemania/Homo_sapiens/Co-expression.Kuehner-Speit-2013.txt\n",
      "Downloaded /projects/ooihs/ReNet/data/genemania/Homo_sapiens/Co-expression.LaBreche-Huang-2011.txt\n",
      "Downloaded /projects/ooihs/ReNet/data/genemania/Homo_sapiens/Co-expression.Lai-Park-2014.txt\n",
      "Downloaded /projects/ooihs/ReNet/data/genemania/Homo_sapiens/Co-expression.Landi-Jen-2008.txt\n",
      "Downloaded /projects/ooihs/ReNet/data/genemania/Homo_sapiens/Co-expression.Lauwerys-Houssiau-2013.txt\n",
      "Downloaded /projects/ooihs/ReNet/data/genemania/Homo_sapiens/Co-expression.Lee-Fine-2006.txt\n",
      "Downloaded /projects/ooihs/ReNet/data/genemania/Homo_sapiens/Co-expression.Lee-Kim-2008.txt\n",
      "Downloaded /projects/ooihs/ReNet/data/genemania/Homo_sapiens/Co-expression.Lee-MacDonald-2013.txt\n",
      "Downloaded /projects/ooihs/ReNet/data/genemania/Homo_sapiens/Co-expression.Lenz-Staudt-2008.txt\n",
      "Downloaded /projects/ooihs/ReNet/data/genemania/Homo_sapiens/Co-expression.Lesluyes-Chibon-2016.txt\n",
      "Downloaded /projects/ooihs/ReNet/data/genemania/Homo_sapiens/Co-expression.Levy-Hessner-2012_A.txt\n",
      "Downloaded /projects/ooihs/ReNet/data/genemania/Homo_sapiens/Co-expression.Levy-Hessner-2012_B.txt\n",
      "Downloaded /projects/ooihs/ReNet/data/genemania/Homo_sapiens/Co-expression.Lewis-Ortel-2011.txt\n",
      "Downloaded /projects/ooihs/ReNet/data/genemania/Homo_sapiens/Co-expression.Li-Ahuja-2014.txt\n",
      "Downloaded /projects/ooihs/ReNet/data/genemania/Homo_sapiens/Co-expression.Li-Bhatia-2011.txt\n",
      "Downloaded /projects/ooihs/ReNet/data/genemania/Homo_sapiens/Co-expression.Li-Bleecker-2015.txt\n",
      "Downloaded /projects/ooihs/ReNet/data/genemania/Homo_sapiens/Co-expression.Li-Han-2009.txt\n",
      "Downloaded /projects/ooihs/ReNet/data/genemania/Homo_sapiens/Co-expression.Li-Wang-2010_A.txt\n",
      "Downloaded /projects/ooihs/ReNet/data/genemania/Homo_sapiens/Co-expression.Li-Wang-2010_B.txt\n",
      "Downloaded /projects/ooihs/ReNet/data/genemania/Homo_sapiens/Co-expression.Liang-Stephan-2007.txt\n",
      "Downloaded /projects/ooihs/ReNet/data/genemania/Homo_sapiens/Co-expression.Lisowska-Kupryjanczyk-2014.txt\n",
      "Downloaded /projects/ooihs/ReNet/data/genemania/Homo_sapiens/Co-expression.Liu-Bratslavsky-2013.txt\n",
      "Downloaded /projects/ooihs/ReNet/data/genemania/Homo_sapiens/Co-expression.Liu-Godbout-2011.txt\n",
      "Downloaded /projects/ooihs/ReNet/data/genemania/Homo_sapiens/Co-expression.Liu-Hsieh-2012.txt\n",
      "Downloaded /projects/ooihs/ReNet/data/genemania/Homo_sapiens/Co-expression.Lu-Chuang-2010.txt\n",
      "Downloaded /projects/ooihs/ReNet/data/genemania/Homo_sapiens/Co-expression.Lu-Richardson-2008.txt\n",
      "Downloaded /projects/ooihs/ReNet/data/genemania/Homo_sapiens/Co-expression.Lucas-Chute-2014.txt\n",
      "Downloaded /projects/ooihs/ReNet/data/genemania/Homo_sapiens/Co-expression.Lugthart-Evans-2005.txt\n"
     ]
    },
    {
     "name": "stdout",
     "output_type": "stream",
     "text": [
      "Downloaded /projects/ooihs/ReNet/data/genemania/Homo_sapiens/Co-expression.Maertzdorf-Kaufmann-2011.txt\n",
      "Downloaded /projects/ooihs/ReNet/data/genemania/Homo_sapiens/Co-expression.Mallon-McKay-2013.txt\n",
      "Downloaded /projects/ooihs/ReNet/data/genemania/Homo_sapiens/Co-expression.Marisa-Boige-2013.txt\n",
      "Downloaded /projects/ooihs/ReNet/data/genemania/Homo_sapiens/Co-expression.Maser-DePinho-2007.txt\n",
      "Downloaded /projects/ooihs/ReNet/data/genemania/Homo_sapiens/Co-expression.Mateescu-Mechta-Grigoriou-2011.txt\n",
      "Downloaded /projects/ooihs/ReNet/data/genemania/Homo_sapiens/Co-expression.Matsuyama-Sugihara-2010.txt\n",
      "Downloaded /projects/ooihs/ReNet/data/genemania/Homo_sapiens/Co-expression.Meier-Seiler-2009.txt\n",
      "Downloaded /projects/ooihs/ReNet/data/genemania/Homo_sapiens/Co-expression.Melis-Farci-2014.txt\n",
      "Downloaded /projects/ooihs/ReNet/data/genemania/Homo_sapiens/Co-expression.Meyer-Debatin-2011.txt\n",
      "Downloaded /projects/ooihs/ReNet/data/genemania/Homo_sapiens/Co-expression.Micke-Botling-2011.txt\n",
      "Downloaded /projects/ooihs/ReNet/data/genemania/Homo_sapiens/Co-expression.Miller-Dixon-2007.txt\n",
      "Downloaded /projects/ooihs/ReNet/data/genemania/Homo_sapiens/Co-expression.Miller-Dixon-2012.txt\n",
      "Downloaded /projects/ooihs/ReNet/data/genemania/Homo_sapiens/Co-expression.Mills-Haferlach-2009.txt\n",
      "Downloaded /projects/ooihs/ReNet/data/genemania/Homo_sapiens/Co-expression.Minn-Massague-2005.txt\n",
      "Downloaded /projects/ooihs/ReNet/data/genemania/Homo_sapiens/Co-expression.Miyake-Noguchi-2012.txt\n",
      "Downloaded /projects/ooihs/ReNet/data/genemania/Homo_sapiens/Co-expression.Moffatt-Cookson-2007.txt\n",
      "Downloaded /projects/ooihs/ReNet/data/genemania/Homo_sapiens/Co-expression.Mraz-Kipps-2014.txt\n",
      "Downloaded /projects/ooihs/ReNet/data/genemania/Homo_sapiens/Co-expression.Mullighan-Downing-2009.txt\n",
      "Downloaded /projects/ooihs/ReNet/data/genemania/Homo_sapiens/Co-expression.Naesens-Sarwal-2011.txt\n",
      "Downloaded /projects/ooihs/ReNet/data/genemania/Homo_sapiens/Co-expression.Nair-Abecasis-2009.txt\n",
      "Downloaded /projects/ooihs/ReNet/data/genemania/Homo_sapiens/Co-expression.Nakamura-Takeuchi-2016.txt\n",
      "Downloaded /projects/ooihs/ReNet/data/genemania/Homo_sapiens/Co-expression.Nakayama-Hasegawa-2007.txt\n",
      "Downloaded /projects/ooihs/ReNet/data/genemania/Homo_sapiens/Co-expression.Newman-Radeke-2012.txt\n",
      "Downloaded /projects/ooihs/ReNet/data/genemania/Homo_sapiens/Co-expression.Niu-Wang-2010.txt\n",
      "Downloaded /projects/ooihs/ReNet/data/genemania/Homo_sapiens/Co-expression.Noble-Diehl-2008.txt\n",
      "Downloaded /projects/ooihs/ReNet/data/genemania/Homo_sapiens/Co-expression.Noble-Diehl-2010.txt\n",
      "Downloaded /projects/ooihs/ReNet/data/genemania/Homo_sapiens/Co-expression.Nookaew-Carlsson-2013.txt\n",
      "Downloaded /projects/ooihs/ReNet/data/genemania/Homo_sapiens/Co-expression.Okayama-Yokota-2012.txt\n",
      "Downloaded /projects/ooihs/ReNet/data/genemania/Homo_sapiens/Co-expression.Olmos-de_Bono-2012.txt\n",
      "Downloaded /projects/ooihs/ReNet/data/genemania/Homo_sapiens/Co-expression.Ong-Howell-2009.txt\n",
      "Downloaded /projects/ooihs/ReNet/data/genemania/Homo_sapiens/Co-expression.Ooi-Tan-2009.txt\n",
      "Downloaded /projects/ooihs/ReNet/data/genemania/Homo_sapiens/Co-expression.Pajtler-Pfister-2015.txt\n",
      "Downloaded /projects/ooihs/ReNet/data/genemania/Homo_sapiens/Co-expression.Papapanou-Demmer-2009.txt\n",
      "Downloaded /projects/ooihs/ReNet/data/genemania/Homo_sapiens/Co-expression.Payton-Ley-2009.txt\n",
      "Downloaded /projects/ooihs/ReNet/data/genemania/Homo_sapiens/Co-expression.Pellagatti-Boultwood-2010.txt\n",
      "Downloaded /projects/ooihs/ReNet/data/genemania/Homo_sapiens/Co-expression.Peng-Katze-2009.txt\n",
      "Downloaded /projects/ooihs/ReNet/data/genemania/Homo_sapiens/Co-expression.Peri-Russo-2012.txt\n",
      "Downloaded /projects/ooihs/ReNet/data/genemania/Homo_sapiens/Co-expression.Perou-Botstein-1999.txt\n",
      "Downloaded /projects/ooihs/ReNet/data/genemania/Homo_sapiens/Co-expression.Perou-Botstein-2000.txt\n",
      "Downloaded /projects/ooihs/ReNet/data/genemania/Homo_sapiens/Co-expression.Petruzziello-Pellegrini-Marsden-2012.txt\n",
      "Downloaded /projects/ooihs/ReNet/data/genemania/Homo_sapiens/Co-expression.Pfister-Pommier-2009.txt\n",
      "Downloaded /projects/ooihs/ReNet/data/genemania/Homo_sapiens/Co-expression.Popovici-Pusztai-2010_A.txt\n",
      "Downloaded /projects/ooihs/ReNet/data/genemania/Homo_sapiens/Co-expression.Popovici-Pusztai-2010_B.txt\n",
      "Downloaded /projects/ooihs/ReNet/data/genemania/Homo_sapiens/Co-expression.Postel-Vinay-Delattre-2012.txt\n",
      "Downloaded /projects/ooihs/ReNet/data/genemania/Homo_sapiens/Co-expression.Potti-Nevins-2006.txt\n",
      "Downloaded /projects/ooihs/ReNet/data/genemania/Homo_sapiens/Co-expression.Radtke-Downing-2009.txt\n",
      "Downloaded /projects/ooihs/ReNet/data/genemania/Homo_sapiens/Co-expression.Raman-Crystal-2009.txt\n",
      "Downloaded /projects/ooihs/ReNet/data/genemania/Homo_sapiens/Co-expression.Ramaswamy-Golub-2001.txt\n",
      "Downloaded /projects/ooihs/ReNet/data/genemania/Homo_sapiens/Co-expression.Raponi-Beer-2006.txt\n",
      "Downloaded /projects/ooihs/ReNet/data/genemania/Homo_sapiens/Co-expression.Raue-Trappe-2012.txt\n",
      "Downloaded /projects/ooihs/ReNet/data/genemania/Homo_sapiens/Co-expression.Reeve-Halloran-2013.txt\n",
      "Downloaded /projects/ooihs/ReNet/data/genemania/Homo_sapiens/Co-expression.Rieger-Chu-2004.txt\n",
      "Downloaded /projects/ooihs/ReNet/data/genemania/Homo_sapiens/Co-expression.Rosenwald-Staudt-2001.txt\n",
      "Downloaded /projects/ooihs/ReNet/data/genemania/Homo_sapiens/Co-expression.Ross-Brown-2000.txt\n",
      "Downloaded /projects/ooihs/ReNet/data/genemania/Homo_sapiens/Co-expression.Ross-Perou-2001.txt\n",
      "Downloaded /projects/ooihs/ReNet/data/genemania/Homo_sapiens/Co-expression.Roth-Zlotnik-2006.txt\n",
      "Downloaded /projects/ooihs/ReNet/data/genemania/Homo_sapiens/Co-expression.Rotunno-Landi-2011.txt\n",
      "Downloaded /projects/ooihs/ReNet/data/genemania/Homo_sapiens/Co-expression.Rousseaux-Khochbin-2013.txt\n",
      "Downloaded /projects/ooihs/ReNet/data/genemania/Homo_sapiens/Co-expression.Sabatier-Bertucci-2011_A.txt\n",
      "Downloaded /projects/ooihs/ReNet/data/genemania/Homo_sapiens/Co-expression.Sabatier-Bertucci-2011_B.txt\n",
      "Downloaded /projects/ooihs/ReNet/data/genemania/Homo_sapiens/Co-expression.Salas-Chibon-2015.txt\n",
      "Downloaded /projects/ooihs/ReNet/data/genemania/Homo_sapiens/Co-expression.Salaverria-Siebert-2011.txt\n",
      "Downloaded /projects/ooihs/ReNet/data/genemania/Homo_sapiens/Co-expression.Savola-Vakkila-2011.txt\n",
      "Downloaded /projects/ooihs/ReNet/data/genemania/Homo_sapiens/Co-expression.Scatolini-Chiorino-2010.txt\n",
      "Downloaded /projects/ooihs/ReNet/data/genemania/Homo_sapiens/Co-expression.Scherzer-Gullans-2007.txt\n",
      "Downloaded /projects/ooihs/ReNet/data/genemania/Homo_sapiens/Co-expression.Schmidt-Gehrmann-2008.txt\n",
      "Downloaded /projects/ooihs/ReNet/data/genemania/Homo_sapiens/Co-expression.Scholtysik-Kuppers-2015.txt\n",
      "Downloaded /projects/ooihs/ReNet/data/genemania/Homo_sapiens/Co-expression.Scott-Rimsza-2014.txt\n",
      "Downloaded /projects/ooihs/ReNet/data/genemania/Homo_sapiens/Co-expression.Sears-Subramaniam-2009.txt\n",
      "Downloaded /projects/ooihs/ReNet/data/genemania/Homo_sapiens/Co-expression.Seok-Tompkins-2013.txt\n",
      "Downloaded /projects/ooihs/ReNet/data/genemania/Homo_sapiens/Co-expression.Shahmanesh-Tomlinson-2015.txt\n",
      "Downloaded /projects/ooihs/ReNet/data/genemania/Homo_sapiens/Co-expression.Shalhoub-Martin-2010.txt\n",
      "Downloaded /projects/ooihs/ReNet/data/genemania/Homo_sapiens/Co-expression.Shaykhiev-Crystal-2011.txt\n",
      "Downloaded /projects/ooihs/ReNet/data/genemania/Homo_sapiens/Co-expression.Shea-Musser-2010.txt\n",
      "Downloaded /projects/ooihs/ReNet/data/genemania/Homo_sapiens/Co-expression.Shedden-Beer-2008.txt\n",
      "Downloaded /projects/ooihs/ReNet/data/genemania/Homo_sapiens/Co-expression.Sheffer-Domany-2009_A.txt\n",
      "Downloaded /projects/ooihs/ReNet/data/genemania/Homo_sapiens/Co-expression.Sheffer-Domany-2009_B.txt\n",
      "Downloaded /projects/ooihs/ReNet/data/genemania/Homo_sapiens/Co-expression.Singh-Celli-2011.txt\n",
      "Downloaded /projects/ooihs/ReNet/data/genemania/Homo_sapiens/Co-expression.Sinnaeve-Granger-2009.txt\n",
      "Downloaded /projects/ooihs/ReNet/data/genemania/Homo_sapiens/Co-expression.Skov-Hasselbalch-2011.txt\n",
      "Downloaded /projects/ooihs/ReNet/data/genemania/Homo_sapiens/Co-expression.Skrzypczak-Ostrowsk-2010.txt\n",
      "Downloaded /projects/ooihs/ReNet/data/genemania/Homo_sapiens/Co-expression.Smeets-Christiaens-2011.txt\n",
      "Downloaded /projects/ooihs/ReNet/data/genemania/Homo_sapiens/Co-expression.Smirnov-Cheung-2009.txt\n"
     ]
    },
    {
     "name": "stdout",
     "output_type": "stream",
     "text": [
      "Downloaded /projects/ooihs/ReNet/data/genemania/Homo_sapiens/Co-expression.Smirnov-Cheung-2012.txt\n",
      "Downloaded /projects/ooihs/ReNet/data/genemania/Homo_sapiens/Co-expression.Smith-Beauchamp-2010.txt\n",
      "Downloaded /projects/ooihs/ReNet/data/genemania/Homo_sapiens/Co-expression.Sorich-Evans-2008.txt\n",
      "Downloaded /projects/ooihs/ReNet/data/genemania/Homo_sapiens/Co-expression.Sotiriou-Delorenzi-2006.txt\n",
      "Downloaded /projects/ooihs/ReNet/data/genemania/Homo_sapiens/Co-expression.Spira-Brody-2007.txt\n",
      "Downloaded /projects/ooihs/ReNet/data/genemania/Homo_sapiens/Co-expression.Srlie-Brresen-Dale-2001.txt\n",
      "Downloaded /projects/ooihs/ReNet/data/genemania/Homo_sapiens/Co-expression.Steidl-Gascoyne-2010.txt\n",
      "Downloaded /projects/ooihs/ReNet/data/genemania/Homo_sapiens/Co-expression.Stinson-Dornan-2011.txt\n",
      "Downloaded /projects/ooihs/ReNet/data/genemania/Homo_sapiens/Co-expression.Stirewalt-Radich-2008.txt\n",
      "Downloaded /projects/ooihs/ReNet/data/genemania/Homo_sapiens/Co-expression.Stratford-Yeh-2010.txt\n",
      "Downloaded /projects/ooihs/ReNet/data/genemania/Homo_sapiens/Co-expression.Stretch-Baracos-2013.txt\n",
      "Downloaded /projects/ooihs/ReNet/data/genemania/Homo_sapiens/Co-expression.Strulovici-Barel-Crystal-2010.txt\n",
      "Downloaded /projects/ooihs/ReNet/data/genemania/Homo_sapiens/Co-expression.Suarez-Farinas-Krueger-2012.txt\n",
      "Downloaded /projects/ooihs/ReNet/data/genemania/Homo_sapiens/Co-expression.Sun-Fine-2006.txt\n",
      "Downloaded /projects/ooihs/ReNet/data/genemania/Homo_sapiens/Co-expression.Sun-Troester-2013.txt\n",
      "Downloaded /projects/ooihs/ReNet/data/genemania/Homo_sapiens/Co-expression.Swan-Spiller-2013.txt\n",
      "Downloaded /projects/ooihs/ReNet/data/genemania/Homo_sapiens/Co-expression.Symmans-Pusztai-2010.txt\n",
      "Downloaded /projects/ooihs/ReNet/data/genemania/Homo_sapiens/Co-expression.Tabchy-Pusztai-2010.txt\n",
      "Downloaded /projects/ooihs/ReNet/data/genemania/Homo_sapiens/Co-expression.Tacchetti-Cavo-2014.txt\n",
      "Downloaded /projects/ooihs/ReNet/data/genemania/Homo_sapiens/Co-expression.Takahashi-Sugihara-2015.txt\n",
      "Downloaded /projects/ooihs/ReNet/data/genemania/Homo_sapiens/Co-expression.Tan-Thiery-2014.txt\n",
      "Downloaded /projects/ooihs/ReNet/data/genemania/Homo_sapiens/Co-expression.Tarca-Zechner-2013.txt\n",
      "Downloaded /projects/ooihs/ReNet/data/genemania/Homo_sapiens/Co-expression.Taskesen-Dohner-2011.txt\n",
      "Downloaded /projects/ooihs/ReNet/data/genemania/Homo_sapiens/Co-expression.Tateno-Hirabayashi-2013.txt\n",
      "Downloaded /projects/ooihs/ReNet/data/genemania/Homo_sapiens/Co-expression.Taylor-Belle-2007.txt\n",
      "Downloaded /projects/ooihs/ReNet/data/genemania/Homo_sapiens/Co-expression.Taylor-Kwo-2008.txt\n",
      "Downloaded /projects/ooihs/ReNet/data/genemania/Homo_sapiens/Co-expression.Thomas-Potter-2015.txt\n",
      "Downloaded /projects/ooihs/ReNet/data/genemania/Homo_sapiens/Co-expression.Thurnherr-Lee-2016.txt\n",
      "Downloaded /projects/ooihs/ReNet/data/genemania/Homo_sapiens/Co-expression.Tian-Shaughnessy-2003_A.txt\n",
      "Downloaded /projects/ooihs/ReNet/data/genemania/Homo_sapiens/Co-expression.Tian-Shaughnessy-2003_B.txt\n",
      "Downloaded /projects/ooihs/ReNet/data/genemania/Homo_sapiens/Co-expression.Tilley-Crystal-2011.txt\n",
      "Downloaded /projects/ooihs/ReNet/data/genemania/Homo_sapiens/Co-expression.Toedter-Baribaud-2011.txt\n",
      "Downloaded /projects/ooihs/ReNet/data/genemania/Homo_sapiens/Co-expression.Tomasson-Ley-2008.txt\n",
      "Downloaded /projects/ooihs/ReNet/data/genemania/Homo_sapiens/Co-expression.Tomida-Takahashi-2009.txt\n",
      "Downloaded /projects/ooihs/ReNet/data/genemania/Homo_sapiens/Co-expression.Tothill-Bowtell-2008_A.txt\n",
      "Downloaded /projects/ooihs/ReNet/data/genemania/Homo_sapiens/Co-expression.Tothill-Bowtell-2008_B.txt\n",
      "Downloaded /projects/ooihs/ReNet/data/genemania/Homo_sapiens/Co-expression.Tripathi-Beauchamp-2014.txt\n",
      "Downloaded /projects/ooihs/ReNet/data/genemania/Homo_sapiens/Co-expression.Tsukamoto-Sugihara-2011.txt\n",
      "Downloaded /projects/ooihs/ReNet/data/genemania/Homo_sapiens/Co-expression.Vallat-Bahram-2013.txt\n",
      "Downloaded /projects/ooihs/ReNet/data/genemania/Homo_sapiens/Co-expression.Verhaak-Valk-2009.txt\n",
      "Downloaded /projects/ooihs/ReNet/data/genemania/Homo_sapiens/Co-expression.Voraphani-Wenzel-2014.txt\n",
      "Downloaded /projects/ooihs/ReNet/data/genemania/Homo_sapiens/Co-expression.Wagner-Ashkenazi-2007.txt\n",
      "Downloaded /projects/ooihs/ReNet/data/genemania/Homo_sapiens/Co-expression.Wang-Cheung-2015.txt\n",
      "Downloaded /projects/ooihs/ReNet/data/genemania/Homo_sapiens/Co-expression.Wang-Crystal-2011.txt\n",
      "Downloaded /projects/ooihs/ReNet/data/genemania/Homo_sapiens/Co-expression.Wang-Foekens-2005.txt\n",
      "Downloaded /projects/ooihs/ReNet/data/genemania/Homo_sapiens/Co-expression.Wang-Maris-2006.txt\n",
      "Downloaded /projects/ooihs/ReNet/data/genemania/Homo_sapiens/Co-expression.Wang-McClelland-2010_A.txt\n",
      "Downloaded /projects/ooihs/ReNet/data/genemania/Homo_sapiens/Co-expression.Wang-McClelland-2010_B.txt\n",
      "Downloaded /projects/ooihs/ReNet/data/genemania/Homo_sapiens/Co-expression.Wardell-McDonnell-2012.txt\n",
      "Downloaded /projects/ooihs/ReNet/data/genemania/Homo_sapiens/Co-expression.Warren-Tompkins-2009.txt\n",
      "Downloaded /projects/ooihs/ReNet/data/genemania/Homo_sapiens/Co-expression.Watanabe-Muto-2011.txt\n",
      "Downloaded /projects/ooihs/ReNet/data/genemania/Homo_sapiens/Co-expression.Watanabe-Nagawa-2007.txt\n",
      "Downloaded /projects/ooihs/ReNet/data/genemania/Homo_sapiens/Co-expression.Whitfield-Botstein-2002.txt\n",
      "Downloaded /projects/ooihs/ReNet/data/genemania/Homo_sapiens/Co-expression.Williams-DeVane-Edwards-2013.txt\n",
      "Downloaded /projects/ooihs/ReNet/data/genemania/Homo_sapiens/Co-expression.Williams-Gascoyne-2010.txt\n",
      "Downloaded /projects/ooihs/ReNet/data/genemania/Homo_sapiens/Co-expression.Winter-Larson-2007.txt\n",
      "Downloaded /projects/ooihs/ReNet/data/genemania/Homo_sapiens/Co-expression.Wong-Aronow-2007.txt\n",
      "Downloaded /projects/ooihs/ReNet/data/genemania/Homo_sapiens/Co-expression.Wong-Shanley-2009_A.txt\n",
      "Downloaded /projects/ooihs/ReNet/data/genemania/Homo_sapiens/Co-expression.Wong-Shanley-2009_B.txt\n",
      "Downloaded /projects/ooihs/ReNet/data/genemania/Homo_sapiens/Co-expression.Woodruff-Fahy-2007.txt\n",
      "Downloaded /projects/ooihs/ReNet/data/genemania/Homo_sapiens/Co-expression.Woods-Ginsburg-2013.txt\n",
      "Downloaded /projects/ooihs/ReNet/data/genemania/Homo_sapiens/Co-expression.Wouters-Delwel-2009.txt\n",
      "Downloaded /projects/ooihs/ReNet/data/genemania/Homo_sapiens/Co-expression.Wu-Garvey-2007.txt\n",
      "Downloaded /projects/ooihs/ReNet/data/genemania/Homo_sapiens/Co-expression.Wynn-Wong-2011.txt\n",
      "Downloaded /projects/ooihs/ReNet/data/genemania/Homo_sapiens/Co-expression.Xiang-Weilbaecher-2015.txt\n",
      "Downloaded /projects/ooihs/ReNet/data/genemania/Homo_sapiens/Co-expression.Xiao-Tompkins-2011.txt\n",
      "Downloaded /projects/ooihs/ReNet/data/genemania/Homo_sapiens/Co-expression.Xu-Shannon-2013.txt\n",
      "Downloaded /projects/ooihs/ReNet/data/genemania/Homo_sapiens/Co-expression.Yang-Steele-2012.txt\n",
      "Downloaded /projects/ooihs/ReNet/data/genemania/Homo_sapiens/Co-expression.Yao-Jallal-2008.txt\n",
      "Downloaded /projects/ooihs/ReNet/data/genemania/Homo_sapiens/Co-expression.Yoshihara-Tanaka-2010.txt\n",
      "Downloaded /projects/ooihs/ReNet/data/genemania/Homo_sapiens/Co-expression.Yu-Lee-2012.txt\n",
      "Downloaded /projects/ooihs/ReNet/data/genemania/Homo_sapiens/Co-expression.Yu-Tan-2008.txt\n",
      "Downloaded /projects/ooihs/ReNet/data/genemania/Homo_sapiens/Co-expression.Zaas-Ginsburg-2009.txt\n",
      "Downloaded /projects/ooihs/ReNet/data/genemania/Homo_sapiens/Co-expression.Zangrando-Basso-2009.txt\n",
      "Downloaded /projects/ooihs/ReNet/data/genemania/Homo_sapiens/Co-expression.Zhang-Foekens-2009.txt\n",
      "Downloaded /projects/ooihs/ReNet/data/genemania/Homo_sapiens/Co-expression.Zhang-Mullighan-2012.txt\n",
      "Downloaded /projects/ooihs/ReNet/data/genemania/Homo_sapiens/Co-expression.Zhou-O'Keefe-2010.txt\n",
      "Downloaded /projects/ooihs/ReNet/data/genemania/Homo_sapiens/Co-expression.de_Cremoux-Spyratos-2011.txt\n",
      "Downloaded /projects/ooihs/ReNet/data/genemania/Homo_sapiens/Co-expression.de_Sousa_E_Melo-Medema-2011.txt\n",
      "Downloaded /projects/ooihs/ReNet/data/genemania/Homo_sapiens/Co-expression.den_Boon-Ahlquist-2015.txt\n",
      "Downloaded /projects/ooihs/ReNet/data/genemania/Homo_sapiens/Co-localization.Chen-Huang-2014.txt\n",
      "Downloaded /projects/ooihs/ReNet/data/genemania/Homo_sapiens/Co-localization.Johnson-Shoemaker-2003.txt\n",
      "Downloaded /projects/ooihs/ReNet/data/genemania/Homo_sapiens/Co-localization.Schadt-Shoemaker-2004.txt\n"
     ]
    },
    {
     "name": "stdout",
     "output_type": "stream",
     "text": [
      "Downloaded /projects/ooihs/ReNet/data/genemania/Homo_sapiens/Co-localization.Zhang-Shang-2006.txt\n",
      "Downloaded /projects/ooihs/ReNet/data/genemania/Homo_sapiens/Genetic_Interactions.BIOGRID-SMALL-SCALE-STUDIES.txt\n",
      "Downloaded /projects/ooihs/ReNet/data/genemania/Homo_sapiens/Genetic_Interactions.Bailey-Hieter-2015.txt\n",
      "Downloaded /projects/ooihs/ReNet/data/genemania/Homo_sapiens/Genetic_Interactions.Blomen-Brummelkamp-2015.txt\n",
      "Downloaded /projects/ooihs/ReNet/data/genemania/Homo_sapiens/Genetic_Interactions.IREF-SMALL-SCALE-STUDIES.txt\n",
      "Downloaded /projects/ooihs/ReNet/data/genemania/Homo_sapiens/Genetic_Interactions.Lin-Smith-2010.txt\n",
      "Downloaded /projects/ooihs/ReNet/data/genemania/Homo_sapiens/Genetic_Interactions.Luo-Elledge-2009.txt\n",
      "Downloaded /projects/ooihs/ReNet/data/genemania/Homo_sapiens/Genetic_Interactions.Toyoshima-Grandori-2012.txt\n",
      "Downloaded /projects/ooihs/ReNet/data/genemania/Homo_sapiens/Genetic_Interactions.Vizeacoumar-Moffat-2013.txt\n",
      "Downloaded /projects/ooihs/ReNet/data/genemania/Homo_sapiens/Genetic_Interactions.Willingham-Muchowski-2003.txt\n",
      "Downloaded /projects/ooihs/ReNet/data/genemania/Homo_sapiens/Genetic_Interactions.Xie-Green-2012.txt\n",
      "Downloaded /projects/ooihs/ReNet/data/genemania/Homo_sapiens/Pathway.CELL_MAP.txt\n",
      "Downloaded /projects/ooihs/ReNet/data/genemania/Homo_sapiens/Pathway.HUMANCYC.txt\n",
      "Downloaded /projects/ooihs/ReNet/data/genemania/Homo_sapiens/Pathway.IMID.txt\n",
      "Downloaded /projects/ooihs/ReNet/data/genemania/Homo_sapiens/Pathway.NCI_NATURE.txt\n",
      "Downloaded /projects/ooihs/ReNet/data/genemania/Homo_sapiens/Pathway.REACTOME.txt\n",
      "Downloaded /projects/ooihs/ReNet/data/genemania/Homo_sapiens/Pathway.Wu-Stein-2010.txt\n",
      "Downloaded /projects/ooihs/ReNet/data/genemania/Homo_sapiens/Physical_Interactions.Abu-Odeh-Aqeilan-2014.txt\n",
      "Downloaded /projects/ooihs/ReNet/data/genemania/Homo_sapiens/Physical_Interactions.Agrawal-Sedivy-2010.txt\n",
      "Downloaded /projects/ooihs/ReNet/data/genemania/Homo_sapiens/Physical_Interactions.Aichem-Groettrup-2012.txt\n",
      "Downloaded /projects/ooihs/ReNet/data/genemania/Homo_sapiens/Physical_Interactions.Albers-Koegl-2005.txt\n",
      "Downloaded /projects/ooihs/ReNet/data/genemania/Homo_sapiens/Physical_Interactions.Alexandru-Deshaies-2008.txt\n",
      "Downloaded /projects/ooihs/ReNet/data/genemania/Homo_sapiens/Physical_Interactions.Andresen-Flores-Morales-2014.txt\n",
      "Downloaded /projects/ooihs/ReNet/data/genemania/Homo_sapiens/Physical_Interactions.Arbuckle-Grant-2010.txt\n",
      "Downloaded /projects/ooihs/ReNet/data/genemania/Homo_sapiens/Physical_Interactions.Arroyo-Aloy-2014.txt\n",
      "Downloaded /projects/ooihs/ReNet/data/genemania/Homo_sapiens/Physical_Interactions.Arroyo-Aloy-2015.txt\n",
      "Downloaded /projects/ooihs/ReNet/data/genemania/Homo_sapiens/Physical_Interactions.BIOGRID-SMALL-SCALE-STUDIES.txt\n",
      "Downloaded /projects/ooihs/ReNet/data/genemania/Homo_sapiens/Physical_Interactions.Bandyopadhyay-Ideker-2010.txt\n",
      "Downloaded /projects/ooihs/ReNet/data/genemania/Homo_sapiens/Physical_Interactions.Bantscheff-Drewes-2011.txt\n",
      "Downloaded /projects/ooihs/ReNet/data/genemania/Homo_sapiens/Physical_Interactions.Barr-Knapp-2009.txt\n",
      "Downloaded /projects/ooihs/ReNet/data/genemania/Homo_sapiens/Physical_Interactions.Barrios-Rodiles-Wrana-2005.txt\n",
      "Downloaded /projects/ooihs/ReNet/data/genemania/Homo_sapiens/Physical_Interactions.Behrends-Harper-2010.txt\n",
      "Downloaded /projects/ooihs/ReNet/data/genemania/Homo_sapiens/Physical_Interactions.Behzadnia-Luhrmann-2007.txt\n",
      "Downloaded /projects/ooihs/ReNet/data/genemania/Homo_sapiens/Physical_Interactions.Bennett-Harper-2010.txt\n",
      "Downloaded /projects/ooihs/ReNet/data/genemania/Homo_sapiens/Physical_Interactions.Benzinger-Hermeking-2005.txt\n",
      "Downloaded /projects/ooihs/ReNet/data/genemania/Homo_sapiens/Physical_Interactions.Berggard-James-2006.txt\n",
      "Downloaded /projects/ooihs/ReNet/data/genemania/Homo_sapiens/Physical_Interactions.Bett-Hay-2013.txt\n",
      "Downloaded /projects/ooihs/ReNet/data/genemania/Homo_sapiens/Physical_Interactions.Bhatnagar-Attie-2014.txt\n",
      "Downloaded /projects/ooihs/ReNet/data/genemania/Homo_sapiens/Physical_Interactions.Blandin-Richard-2013.txt\n",
      "Downloaded /projects/ooihs/ReNet/data/genemania/Homo_sapiens/Physical_Interactions.Blomen-Brummelkamp-2015.txt\n",
      "Downloaded /projects/ooihs/ReNet/data/genemania/Homo_sapiens/Physical_Interactions.Bogachek-Weigel-2014.txt\n",
      "Downloaded /projects/ooihs/ReNet/data/genemania/Homo_sapiens/Physical_Interactions.Bonacci-Soubeyran-2014.txt\n",
      "Downloaded /projects/ooihs/ReNet/data/genemania/Homo_sapiens/Physical_Interactions.Bouwmeester-Superti-Furga-2004.txt\n",
      "Downloaded /projects/ooihs/ReNet/data/genemania/Homo_sapiens/Physical_Interactions.Brajenovic-Drewes-2004.txt\n",
      "Downloaded /projects/ooihs/ReNet/data/genemania/Homo_sapiens/Physical_Interactions.Brehme-Superti-Furga-2009.txt\n",
      "Downloaded /projects/ooihs/ReNet/data/genemania/Homo_sapiens/Physical_Interactions.Bruderer-Hay-2011.txt\n",
      "Downloaded /projects/ooihs/ReNet/data/genemania/Homo_sapiens/Physical_Interactions.Butland-Hayden-2014.txt\n",
      "Downloaded /projects/ooihs/ReNet/data/genemania/Homo_sapiens/Physical_Interactions.Byron-Humphries-2012.txt\n",
      "Downloaded /projects/ooihs/ReNet/data/genemania/Homo_sapiens/Physical_Interactions.Cai-Conaway-2007.txt\n",
      "Downloaded /projects/ooihs/ReNet/data/genemania/Homo_sapiens/Physical_Interactions.Camargo-Brandon-2007.txt\n",
      "Downloaded /projects/ooihs/ReNet/data/genemania/Homo_sapiens/Physical_Interactions.Campos-Reinberg-2015.txt\n",
      "Downloaded /projects/ooihs/ReNet/data/genemania/Homo_sapiens/Physical_Interactions.Cao-Chinnaiyan-2014.txt\n",
      "Downloaded /projects/ooihs/ReNet/data/genemania/Homo_sapiens/Physical_Interactions.Carmon-Liu-2014.txt\n",
      "Downloaded /projects/ooihs/ReNet/data/genemania/Homo_sapiens/Physical_Interactions.Chen-Ge-2013.txt\n",
      "Downloaded /projects/ooihs/ReNet/data/genemania/Homo_sapiens/Physical_Interactions.Chen-Zhang-2013.txt\n",
      "Downloaded /projects/ooihs/ReNet/data/genemania/Homo_sapiens/Physical_Interactions.Christianson-Kopito-2011.txt\n",
      "Downloaded /projects/ooihs/ReNet/data/genemania/Homo_sapiens/Physical_Interactions.Cloutier-Coulombe-2013.txt\n",
      "Downloaded /projects/ooihs/ReNet/data/genemania/Homo_sapiens/Physical_Interactions.Colland-Gauthier-2004.txt\n",
      "Downloaded /projects/ooihs/ReNet/data/genemania/Homo_sapiens/Physical_Interactions.Corominas-Iakoucheva-2014.txt\n",
      "Downloaded /projects/ooihs/ReNet/data/genemania/Homo_sapiens/Physical_Interactions.Couzens-Gingras-2013.txt\n",
      "Downloaded /projects/ooihs/ReNet/data/genemania/Homo_sapiens/Physical_Interactions.Cox-Rizzino-2013.txt\n",
      "Downloaded /projects/ooihs/ReNet/data/genemania/Homo_sapiens/Physical_Interactions.Coyaud-Raught-2015.txt\n",
      "Downloaded /projects/ooihs/ReNet/data/genemania/Homo_sapiens/Physical_Interactions.Danielsen-Nielsen-2011.txt\n",
      "Downloaded /projects/ooihs/ReNet/data/genemania/Homo_sapiens/Physical_Interactions.Dart-Wells-2015.txt\n",
      "Downloaded /projects/ooihs/ReNet/data/genemania/Homo_sapiens/Physical_Interactions.Diner-Cristea-2015.txt\n",
      "Downloaded /projects/ooihs/ReNet/data/genemania/Homo_sapiens/Physical_Interactions.Drissi-Boisvert-2015.txt\n",
      "Downloaded /projects/ooihs/ReNet/data/genemania/Homo_sapiens/Physical_Interactions.Dyer-Sobral-2010.txt\n",
      "Downloaded /projects/ooihs/ReNet/data/genemania/Homo_sapiens/Physical_Interactions.Emanuele-Elledge-2011.txt\n",
      "Downloaded /projects/ooihs/ReNet/data/genemania/Homo_sapiens/Physical_Interactions.Emdal-Olsen-2015.txt\n",
      "Downloaded /projects/ooihs/ReNet/data/genemania/Homo_sapiens/Physical_Interactions.Ewing-Figeys-2007.txt\n",
      "Downloaded /projects/ooihs/ReNet/data/genemania/Homo_sapiens/Physical_Interactions.Fenner-Prehn-2010.txt\n",
      "Downloaded /projects/ooihs/ReNet/data/genemania/Homo_sapiens/Physical_Interactions.Floyd-Pagliarini-2016.txt\n",
      "Downloaded /projects/ooihs/ReNet/data/genemania/Homo_sapiens/Physical_Interactions.Foerster-Ritter-2013.txt\n",
      "Downloaded /projects/ooihs/ReNet/data/genemania/Homo_sapiens/Physical_Interactions.Fogeron-Lange-2013.txt\n",
      "Downloaded /projects/ooihs/ReNet/data/genemania/Homo_sapiens/Physical_Interactions.Foster-Marshall-2013.txt\n",
      "Downloaded /projects/ooihs/ReNet/data/genemania/Homo_sapiens/Physical_Interactions.Freibaum-Taylor-2010.txt\n",
      "Downloaded /projects/ooihs/ReNet/data/genemania/Homo_sapiens/Physical_Interactions.Gabriel-Baumgrass-2016.txt\n",
      "Downloaded /projects/ooihs/ReNet/data/genemania/Homo_sapiens/Physical_Interactions.Galligan-Howley-2015.txt\n"
     ]
    },
    {
     "name": "stdout",
     "output_type": "stream",
     "text": [
      "Downloaded /projects/ooihs/ReNet/data/genemania/Homo_sapiens/Physical_Interactions.Gao-Reinberg-2012.txt\n",
      "Downloaded /projects/ooihs/ReNet/data/genemania/Homo_sapiens/Physical_Interactions.Gautier-Hall-2009.txt\n",
      "Downloaded /projects/ooihs/ReNet/data/genemania/Homo_sapiens/Physical_Interactions.Giannone-Liu-2010.txt\n",
      "Downloaded /projects/ooihs/ReNet/data/genemania/Homo_sapiens/Physical_Interactions.Glatter-Gstaiger-2009.txt\n",
      "Downloaded /projects/ooihs/ReNet/data/genemania/Homo_sapiens/Physical_Interactions.Gloeckner-Ueffing-2007.txt\n",
      "Downloaded /projects/ooihs/ReNet/data/genemania/Homo_sapiens/Physical_Interactions.Goehler-Wanker-2004.txt\n",
      "Downloaded /projects/ooihs/ReNet/data/genemania/Homo_sapiens/Physical_Interactions.Golebiowski-Hay-2009.txt\n",
      "Downloaded /projects/ooihs/ReNet/data/genemania/Homo_sapiens/Physical_Interactions.Goudreault-Gingras-2009.txt\n",
      "Downloaded /projects/ooihs/ReNet/data/genemania/Homo_sapiens/Physical_Interactions.Grant-2010.txt\n",
      "Downloaded /projects/ooihs/ReNet/data/genemania/Homo_sapiens/Physical_Interactions.Greco-Cristea-2011.txt\n",
      "Downloaded /projects/ooihs/ReNet/data/genemania/Homo_sapiens/Physical_Interactions.Grossmann-Stelzl-2015.txt\n",
      "Downloaded /projects/ooihs/ReNet/data/genemania/Homo_sapiens/Physical_Interactions.Guarani-Harper-2014.txt\n",
      "Downloaded /projects/ooihs/ReNet/data/genemania/Homo_sapiens/Physical_Interactions.Gupta-Pelletier-2015.txt\n",
      "Downloaded /projects/ooihs/ReNet/data/genemania/Homo_sapiens/Physical_Interactions.Hanson-Clayton-2014.txt\n",
      "Downloaded /projects/ooihs/ReNet/data/genemania/Homo_sapiens/Physical_Interactions.Hauri-Gstaiger-2013.txt\n",
      "Downloaded /projects/ooihs/ReNet/data/genemania/Homo_sapiens/Physical_Interactions.Havrylov-Redowicz-2009.txt\n",
      "Downloaded /projects/ooihs/ReNet/data/genemania/Homo_sapiens/Physical_Interactions.Havugimana-Emili-2012.txt\n",
      "Downloaded /projects/ooihs/ReNet/data/genemania/Homo_sapiens/Physical_Interactions.Hayes-Urbe-2012.txt\n",
      "Downloaded /projects/ooihs/ReNet/data/genemania/Homo_sapiens/Physical_Interactions.Hegele-Stelzl-2012_A.txt\n",
      "Downloaded /projects/ooihs/ReNet/data/genemania/Homo_sapiens/Physical_Interactions.Hegele-Stelzl-2012_B.txt\n",
      "Downloaded /projects/ooihs/ReNet/data/genemania/Homo_sapiens/Physical_Interactions.Hein-Mann-2015.txt\n",
      "Downloaded /projects/ooihs/ReNet/data/genemania/Homo_sapiens/Physical_Interactions.Hill-Livingston-2014.txt\n",
      "Downloaded /projects/ooihs/ReNet/data/genemania/Homo_sapiens/Physical_Interactions.Humphries-Humphries-2009.txt\n",
      "Downloaded /projects/ooihs/ReNet/data/genemania/Homo_sapiens/Physical_Interactions.Hutchins-Peters-2010.txt\n",
      "Downloaded /projects/ooihs/ReNet/data/genemania/Homo_sapiens/Physical_Interactions.Huttlin-Gygi-2015.txt\n",
      "Downloaded /projects/ooihs/ReNet/data/genemania/Homo_sapiens/Physical_Interactions.IREF-BIND.txt\n",
      "Downloaded /projects/ooihs/ReNet/data/genemania/Homo_sapiens/Physical_Interactions.IREF-BIOGRID.txt\n",
      "Downloaded /projects/ooihs/ReNet/data/genemania/Homo_sapiens/Physical_Interactions.IREF-DIP.txt\n",
      "Downloaded /projects/ooihs/ReNet/data/genemania/Homo_sapiens/Physical_Interactions.IREF-HPRD.txt\n",
      "Downloaded /projects/ooihs/ReNet/data/genemania/Homo_sapiens/Physical_Interactions.IREF-INTACT.txt\n",
      "Downloaded /projects/ooihs/ReNet/data/genemania/Homo_sapiens/Physical_Interactions.IREF-MATRIXDB.txt\n",
      "Downloaded /projects/ooihs/ReNet/data/genemania/Homo_sapiens/Physical_Interactions.IREF-MPPI.txt\n",
      "Downloaded /projects/ooihs/ReNet/data/genemania/Homo_sapiens/Physical_Interactions.IREF-PUBMED.txt\n",
      "Downloaded /projects/ooihs/ReNet/data/genemania/Homo_sapiens/Physical_Interactions.IREF-SMALL-SCALE-STUDIES.txt\n",
      "Downloaded /projects/ooihs/ReNet/data/genemania/Homo_sapiens/Physical_Interactions.Ingham-Pawson-2005.txt\n",
      "Downloaded /projects/ooihs/ReNet/data/genemania/Homo_sapiens/Physical_Interactions.Jager-Krogan-2011.txt\n",
      "Downloaded /projects/ooihs/ReNet/data/genemania/Homo_sapiens/Physical_Interactions.Jeronimo-Coulombe-2007.txt\n",
      "Downloaded /projects/ooihs/ReNet/data/genemania/Homo_sapiens/Physical_Interactions.Jin-Pawson-2004.txt\n",
      "Downloaded /projects/ooihs/ReNet/data/genemania/Homo_sapiens/Physical_Interactions.Johnson-Kerner-Wichterle-2015.txt\n",
      "Downloaded /projects/ooihs/ReNet/data/genemania/Homo_sapiens/Physical_Interactions.Jones-MacBeath-2006.txt\n",
      "Downloaded /projects/ooihs/ReNet/data/genemania/Homo_sapiens/Physical_Interactions.Joshi-Cristea-2013.txt\n",
      "Downloaded /projects/ooihs/ReNet/data/genemania/Homo_sapiens/Physical_Interactions.Kahle-Zoghbi-2011.txt\n",
      "Downloaded /projects/ooihs/ReNet/data/genemania/Homo_sapiens/Physical_Interactions.Kaltenbach-Hughes-2007.txt\n",
      "Downloaded /projects/ooihs/ReNet/data/genemania/Homo_sapiens/Physical_Interactions.Karblane-Sarmiento-2015.txt\n",
      "Downloaded /projects/ooihs/ReNet/data/genemania/Homo_sapiens/Physical_Interactions.Katsogiannou-Rocchi-2014.txt\n",
      "Downloaded /projects/ooihs/ReNet/data/genemania/Homo_sapiens/Physical_Interactions.Kim-Gygi-2011.txt\n",
      "Downloaded /projects/ooihs/ReNet/data/genemania/Homo_sapiens/Physical_Interactions.Kim-Major-2015.txt\n",
      "Downloaded /projects/ooihs/ReNet/data/genemania/Homo_sapiens/Physical_Interactions.Kneissl-Grummt-2003.txt\n",
      "Downloaded /projects/ooihs/ReNet/data/genemania/Homo_sapiens/Physical_Interactions.Koch-Hermeking-2007.txt\n",
      "Downloaded /projects/ooihs/ReNet/data/genemania/Homo_sapiens/Physical_Interactions.Kotlyar-Jurisica-2015.txt\n",
      "Downloaded /projects/ooihs/ReNet/data/genemania/Homo_sapiens/Physical_Interactions.Kristensen-Foster-2012.txt\n",
      "Downloaded /projects/ooihs/ReNet/data/genemania/Homo_sapiens/Physical_Interactions.Krl-Gorlich-2015.txt\n",
      "Downloaded /projects/ooihs/ReNet/data/genemania/Homo_sapiens/Physical_Interactions.Lambert-Gingras-2015.txt\n",
      "Downloaded /projects/ooihs/ReNet/data/genemania/Homo_sapiens/Physical_Interactions.Lamoliatte-Thibault-2014.txt\n",
      "Downloaded /projects/ooihs/ReNet/data/genemania/Homo_sapiens/Physical_Interactions.Lau-Ronai-2012.txt\n",
      "Downloaded /projects/ooihs/ReNet/data/genemania/Homo_sapiens/Physical_Interactions.Lee-Songyang-2011.txt\n",
      "Downloaded /projects/ooihs/ReNet/data/genemania/Homo_sapiens/Physical_Interactions.Lehner-Sanderson-2004_A.txt\n",
      "Downloaded /projects/ooihs/ReNet/data/genemania/Homo_sapiens/Physical_Interactions.Lehner-Sanderson-2004_B.txt\n",
      "Downloaded /projects/ooihs/ReNet/data/genemania/Homo_sapiens/Physical_Interactions.Leng-Wang-2014.txt\n",
      "Downloaded /projects/ooihs/ReNet/data/genemania/Homo_sapiens/Physical_Interactions.Leung-Jones-2014.txt\n",
      "Downloaded /projects/ooihs/ReNet/data/genemania/Homo_sapiens/Physical_Interactions.Li-Chen-2015.txt\n",
      "Downloaded /projects/ooihs/ReNet/data/genemania/Homo_sapiens/Physical_Interactions.Li-Dorf-2011_A.txt\n",
      "Downloaded /projects/ooihs/ReNet/data/genemania/Homo_sapiens/Physical_Interactions.Li-Dorf-2011_B.txt\n",
      "Downloaded /projects/ooihs/ReNet/data/genemania/Homo_sapiens/Physical_Interactions.Li-Dorf-2014.txt\n",
      "Downloaded /projects/ooihs/ReNet/data/genemania/Homo_sapiens/Physical_Interactions.Li-Haura-2013.txt\n",
      "Downloaded /projects/ooihs/ReNet/data/genemania/Homo_sapiens/Physical_Interactions.Lim-Zoghbi-2006.txt\n",
      "Downloaded /projects/ooihs/ReNet/data/genemania/Homo_sapiens/Physical_Interactions.Lipp-Guthrie-2015.txt\n",
      "Downloaded /projects/ooihs/ReNet/data/genemania/Homo_sapiens/Physical_Interactions.Liu-Wang-2012.txt\n",
      "Downloaded /projects/ooihs/ReNet/data/genemania/Homo_sapiens/Physical_Interactions.Lleres-Lamond-2010.txt\n",
      "Downloaded /projects/ooihs/ReNet/data/genemania/Homo_sapiens/Physical_Interactions.Loch-Strickler-2012.txt\n",
      "Downloaded /projects/ooihs/ReNet/data/genemania/Homo_sapiens/Physical_Interactions.Low-Heck-2014.txt\n",
      "Downloaded /projects/ooihs/ReNet/data/genemania/Homo_sapiens/Physical_Interactions.Lu-Zhang-2013.txt\n",
      "Downloaded /projects/ooihs/ReNet/data/genemania/Homo_sapiens/Physical_Interactions.Mak-Moffat-2010.txt\n",
      "Downloaded /projects/ooihs/ReNet/data/genemania/Homo_sapiens/Physical_Interactions.Malovannaya-Qin-2010.txt\n",
      "Downloaded /projects/ooihs/ReNet/data/genemania/Homo_sapiens/Physical_Interactions.Marechal-Zou-2014.txt\n",
      "Downloaded /projects/ooihs/ReNet/data/genemania/Homo_sapiens/Physical_Interactions.Markson-Sanderson-2009.txt\n",
      "Downloaded /projects/ooihs/ReNet/data/genemania/Homo_sapiens/Physical_Interactions.Matsumoto-Nakayama-2005.txt\n",
      "Downloaded /projects/ooihs/ReNet/data/genemania/Homo_sapiens/Physical_Interactions.McCracken-Blencowe-2005.txt\n"
     ]
    },
    {
     "name": "stdout",
     "output_type": "stream",
     "text": [
      "Downloaded /projects/ooihs/ReNet/data/genemania/Homo_sapiens/Physical_Interactions.McFarland-Nussbaum-2008.txt\n",
      "Downloaded /projects/ooihs/ReNet/data/genemania/Homo_sapiens/Physical_Interactions.Meek-Piwnica-Worms-2004.txt\n",
      "Downloaded /projects/ooihs/ReNet/data/genemania/Homo_sapiens/Physical_Interactions.Milev-Mouland-2012.txt\n",
      "Downloaded /projects/ooihs/ReNet/data/genemania/Homo_sapiens/Physical_Interactions.Miyamoto-Sato-Yanagawa-2010.txt\n",
      "Downloaded /projects/ooihs/ReNet/data/genemania/Homo_sapiens/Physical_Interactions.Murakawa-Landthaler-2015.txt\n",
      "Downloaded /projects/ooihs/ReNet/data/genemania/Homo_sapiens/Physical_Interactions.Nakayama-Ohara-2002.txt\n",
      "Downloaded /projects/ooihs/ReNet/data/genemania/Homo_sapiens/Physical_Interactions.Nakayasu-Adkins-2013.txt\n",
      "Downloaded /projects/ooihs/ReNet/data/genemania/Homo_sapiens/Physical_Interactions.Napolitano-Meroni-2011.txt\n",
      "Downloaded /projects/ooihs/ReNet/data/genemania/Homo_sapiens/Physical_Interactions.Narayan-Bennett-2012.txt\n",
      "Downloaded /projects/ooihs/ReNet/data/genemania/Homo_sapiens/Physical_Interactions.Nathan-Goldberg-2013.txt\n",
      "Downloaded /projects/ooihs/ReNet/data/genemania/Homo_sapiens/Physical_Interactions.Neganova-Lako-2011.txt\n",
      "Downloaded /projects/ooihs/ReNet/data/genemania/Homo_sapiens/Physical_Interactions.Newman-Keating-2003.txt\n",
      "Downloaded /projects/ooihs/ReNet/data/genemania/Homo_sapiens/Physical_Interactions.Nicholson-Hupp-2014.txt\n",
      "Downloaded /projects/ooihs/ReNet/data/genemania/Homo_sapiens/Physical_Interactions.Olah-Ovadi-2011.txt\n",
      "Downloaded /projects/ooihs/ReNet/data/genemania/Homo_sapiens/Physical_Interactions.Oliviero-Cagney-2015.txt\n",
      "Downloaded /projects/ooihs/ReNet/data/genemania/Homo_sapiens/Physical_Interactions.Olma-Pintard-2009.txt\n",
      "Downloaded /projects/ooihs/ReNet/data/genemania/Homo_sapiens/Physical_Interactions.Oshikawa-Nakayama-2012.txt\n",
      "Downloaded /projects/ooihs/ReNet/data/genemania/Homo_sapiens/Physical_Interactions.Ouyang-Gill-2009.txt\n",
      "Downloaded /projects/ooihs/ReNet/data/genemania/Homo_sapiens/Physical_Interactions.Panigrahi-Pati-2012.txt\n",
      "Downloaded /projects/ooihs/ReNet/data/genemania/Homo_sapiens/Physical_Interactions.Papp-Lamia-2015.txt\n",
      "Downloaded /projects/ooihs/ReNet/data/genemania/Homo_sapiens/Physical_Interactions.Perez-Hernandez-Yanez-Mo-2013.txt\n",
      "Downloaded /projects/ooihs/ReNet/data/genemania/Homo_sapiens/Physical_Interactions.Persaud-Rotin-2009.txt\n",
      "Downloaded /projects/ooihs/ReNet/data/genemania/Homo_sapiens/Physical_Interactions.Petschnigg-Stagljar-2014.txt\n",
      "Downloaded /projects/ooihs/ReNet/data/genemania/Homo_sapiens/Physical_Interactions.Phillips-Corn-2013.txt\n",
      "Downloaded /projects/ooihs/ReNet/data/genemania/Homo_sapiens/Physical_Interactions.Pichlmair-Superti-Furga-2011.txt\n",
      "Downloaded /projects/ooihs/ReNet/data/genemania/Homo_sapiens/Physical_Interactions.Pichlmair-Superti-Furga-2012.txt\n",
      "Downloaded /projects/ooihs/ReNet/data/genemania/Homo_sapiens/Physical_Interactions.Pilot-Storck-Goillot-2010.txt\n",
      "Downloaded /projects/ooihs/ReNet/data/genemania/Homo_sapiens/Physical_Interactions.Povlsen-Choudhary-2012.txt\n",
      "Downloaded /projects/ooihs/ReNet/data/genemania/Homo_sapiens/Physical_Interactions.Ramachandran-LaBaer-2004.txt\n",
      "Downloaded /projects/ooihs/ReNet/data/genemania/Homo_sapiens/Physical_Interactions.Raman-Harper-2015.txt\n",
      "Downloaded /projects/ooihs/ReNet/data/genemania/Homo_sapiens/Physical_Interactions.Ravasi-Hayashizaki-2010.txt\n",
      "Downloaded /projects/ooihs/ReNet/data/genemania/Homo_sapiens/Physical_Interactions.Reinke-Keating-2013.txt\n",
      "Downloaded /projects/ooihs/ReNet/data/genemania/Homo_sapiens/Physical_Interactions.Reyniers-Taymans-2014.txt\n",
      "Downloaded /projects/ooihs/ReNet/data/genemania/Homo_sapiens/Physical_Interactions.Richter-Chrzanowska-Lightowlers-2010.txt\n",
      "Downloaded /projects/ooihs/ReNet/data/genemania/Homo_sapiens/Physical_Interactions.Rolland-Vidal-2014.txt\n",
      "Downloaded /projects/ooihs/ReNet/data/genemania/Homo_sapiens/Physical_Interactions.Roux-Burke-2012.txt\n",
      "Downloaded /projects/ooihs/ReNet/data/genemania/Homo_sapiens/Physical_Interactions.Rowbotham-Mermoud-2011.txt\n",
      "Downloaded /projects/ooihs/ReNet/data/genemania/Homo_sapiens/Physical_Interactions.Roy-Pardo-2014.txt\n",
      "Downloaded /projects/ooihs/ReNet/data/genemania/Homo_sapiens/Physical_Interactions.Roy-Parent-2013.txt\n",
      "Downloaded /projects/ooihs/ReNet/data/genemania/Homo_sapiens/Physical_Interactions.Rual-Vidal-2005_A.txt\n",
      "Downloaded /projects/ooihs/ReNet/data/genemania/Homo_sapiens/Physical_Interactions.Rual-Vidal-2005_B.txt\n",
      "Downloaded /projects/ooihs/ReNet/data/genemania/Homo_sapiens/Physical_Interactions.Sang-Jackson-2011.txt\n",
      "Downloaded /projects/ooihs/ReNet/data/genemania/Homo_sapiens/Physical_Interactions.Sato-Conaway-2004.txt\n",
      "Downloaded /projects/ooihs/ReNet/data/genemania/Homo_sapiens/Physical_Interactions.Scholz-Taylor-2016.txt\n",
      "Downloaded /projects/ooihs/ReNet/data/genemania/Homo_sapiens/Physical_Interactions.Singh-Moore-2012.txt\n",
      "Downloaded /projects/ooihs/ReNet/data/genemania/Homo_sapiens/Physical_Interactions.So-Colwill-2015.txt\n",
      "Downloaded /projects/ooihs/ReNet/data/genemania/Homo_sapiens/Physical_Interactions.Soler-Lopez-Aloy-2011.txt\n",
      "Downloaded /projects/ooihs/ReNet/data/genemania/Homo_sapiens/Physical_Interactions.Sowa-Harper-2009.txt\n",
      "Downloaded /projects/ooihs/ReNet/data/genemania/Homo_sapiens/Physical_Interactions.Stehling-Lill-2012.txt\n",
      "Downloaded /projects/ooihs/ReNet/data/genemania/Homo_sapiens/Physical_Interactions.Stehling-Lill-2013.txt\n",
      "Downloaded /projects/ooihs/ReNet/data/genemania/Homo_sapiens/Physical_Interactions.Stelzl-Wanker-2005.txt\n",
      "Downloaded /projects/ooihs/ReNet/data/genemania/Homo_sapiens/Physical_Interactions.Stes-Gevaert-2014.txt\n",
      "Downloaded /projects/ooihs/ReNet/data/genemania/Homo_sapiens/Physical_Interactions.Suter-Wanker-2013.txt\n",
      "Downloaded /projects/ooihs/ReNet/data/genemania/Homo_sapiens/Physical_Interactions.Taipale-Lindquist-2012.txt\n",
      "Downloaded /projects/ooihs/ReNet/data/genemania/Homo_sapiens/Physical_Interactions.Taipale-Lindquist-2014.txt\n",
      "Downloaded /projects/ooihs/ReNet/data/genemania/Homo_sapiens/Physical_Interactions.Takahashi-Conaway-2011.txt\n",
      "Downloaded /projects/ooihs/ReNet/data/genemania/Homo_sapiens/Physical_Interactions.Tarallo-Weisz-2011.txt\n",
      "Downloaded /projects/ooihs/ReNet/data/genemania/Homo_sapiens/Physical_Interactions.Tatham-Hay-2011.txt\n",
      "Downloaded /projects/ooihs/ReNet/data/genemania/Homo_sapiens/Physical_Interactions.Teixeira-Gomes-2010.txt\n",
      "Downloaded /projects/ooihs/ReNet/data/genemania/Homo_sapiens/Physical_Interactions.Thalappilly-Dusetti-2008.txt\n",
      "Downloaded /projects/ooihs/ReNet/data/genemania/Homo_sapiens/Physical_Interactions.Thompson-Luchansky-2014.txt\n",
      "Downloaded /projects/ooihs/ReNet/data/genemania/Homo_sapiens/Physical_Interactions.Tong-Moran-2014.txt\n",
      "Downloaded /projects/ooihs/ReNet/data/genemania/Homo_sapiens/Physical_Interactions.Tsai-Cristea-2012.txt\n",
      "Downloaded /projects/ooihs/ReNet/data/genemania/Homo_sapiens/Physical_Interactions.Udeshi-Carr-2012.txt\n",
      "Downloaded /projects/ooihs/ReNet/data/genemania/Homo_sapiens/Physical_Interactions.Vandamme-Angrand-2011.txt\n",
      "Downloaded /projects/ooihs/ReNet/data/genemania/Homo_sapiens/Physical_Interactions.Varjosalo-Gstaiger-2013.txt\n",
      "Downloaded /projects/ooihs/ReNet/data/genemania/Homo_sapiens/Physical_Interactions.Varjosalo-Superti-Furga-2013.txt\n",
      "Downloaded /projects/ooihs/ReNet/data/genemania/Homo_sapiens/Physical_Interactions.Venkatesan-Vidal-2009.txt\n",
      "Downloaded /projects/ooihs/ReNet/data/genemania/Homo_sapiens/Physical_Interactions.Vermeulen-Mann-2010.txt\n",
      "Downloaded /projects/ooihs/ReNet/data/genemania/Homo_sapiens/Physical_Interactions.Vinayagam-Wanker-2011.txt\n",
      "Downloaded /projects/ooihs/ReNet/data/genemania/Homo_sapiens/Physical_Interactions.Virok-Fulop-2011.txt\n",
      "Downloaded /projects/ooihs/ReNet/data/genemania/Homo_sapiens/Physical_Interactions.Wagner-Choudhary-2011.txt\n",
      "Downloaded /projects/ooihs/ReNet/data/genemania/Homo_sapiens/Physical_Interactions.Wallach-Kramer-2013.txt\n",
      "Downloaded /projects/ooihs/ReNet/data/genemania/Homo_sapiens/Physical_Interactions.Wan-Emili-2015.txt\n",
      "Downloaded /projects/ooihs/ReNet/data/genemania/Homo_sapiens/Physical_Interactions.Wang-Balch-2006.txt\n",
      "Downloaded /projects/ooihs/ReNet/data/genemania/Homo_sapiens/Physical_Interactions.Wang-He-2008.txt\n",
      "Downloaded /projects/ooihs/ReNet/data/genemania/Homo_sapiens/Physical_Interactions.Wang-Xu-2015.txt\n"
     ]
    },
    {
     "name": "stdout",
     "output_type": "stream",
     "text": [
      "Downloaded /projects/ooihs/ReNet/data/genemania/Homo_sapiens/Physical_Interactions.Wang-Yang-2011.txt\n",
      "Downloaded /projects/ooihs/ReNet/data/genemania/Homo_sapiens/Physical_Interactions.Weimann-Stelzl-2013_A.txt\n",
      "Downloaded /projects/ooihs/ReNet/data/genemania/Homo_sapiens/Physical_Interactions.Weimann-Stelzl-2013_B.txt\n",
      "Downloaded /projects/ooihs/ReNet/data/genemania/Homo_sapiens/Physical_Interactions.Weinmann-Meister-2009.txt\n",
      "Downloaded /projects/ooihs/ReNet/data/genemania/Homo_sapiens/Physical_Interactions.Wen-Wu-2014.txt\n",
      "Downloaded /projects/ooihs/ReNet/data/genemania/Homo_sapiens/Physical_Interactions.Whisenant-Salomon-2015.txt\n",
      "Downloaded /projects/ooihs/ReNet/data/genemania/Homo_sapiens/Physical_Interactions.Wilker-Yaffe-2007.txt\n",
      "Downloaded /projects/ooihs/ReNet/data/genemania/Homo_sapiens/Physical_Interactions.Witt-Labeit-2008.txt\n",
      "Downloaded /projects/ooihs/ReNet/data/genemania/Homo_sapiens/Physical_Interactions.Wong-O'Bryan-2012.txt\n",
      "Downloaded /projects/ooihs/ReNet/data/genemania/Homo_sapiens/Physical_Interactions.Woods-Monteiro-2012.txt\n",
      "Downloaded /projects/ooihs/ReNet/data/genemania/Homo_sapiens/Physical_Interactions.Woodsmith-Sanderson-2012.txt\n",
      "Downloaded /projects/ooihs/ReNet/data/genemania/Homo_sapiens/Physical_Interactions.Wu-Li-2007.txt\n",
      "Downloaded /projects/ooihs/ReNet/data/genemania/Homo_sapiens/Physical_Interactions.Wu-Ma-2012.txt\n",
      "Downloaded /projects/ooihs/ReNet/data/genemania/Homo_sapiens/Physical_Interactions.Xiao-Lefkowitz-2007.txt\n",
      "Downloaded /projects/ooihs/ReNet/data/genemania/Homo_sapiens/Physical_Interactions.Xie-Cong-2013.txt\n",
      "Downloaded /projects/ooihs/ReNet/data/genemania/Homo_sapiens/Physical_Interactions.Xu-Ye-2012.txt\n",
      "Downloaded /projects/ooihs/ReNet/data/genemania/Homo_sapiens/Physical_Interactions.Yang-Chen-2010.txt\n",
      "Downloaded /projects/ooihs/ReNet/data/genemania/Homo_sapiens/Physical_Interactions.Yatim-Benkirane-2012.txt\n",
      "Downloaded /projects/ooihs/ReNet/data/genemania/Homo_sapiens/Physical_Interactions.Yu-Chow-2013.txt\n",
      "Downloaded /projects/ooihs/ReNet/data/genemania/Homo_sapiens/Physical_Interactions.Yu-Vidal-2011.txt\n",
      "Downloaded /projects/ooihs/ReNet/data/genemania/Homo_sapiens/Physical_Interactions.Zanon-Pichler-2013.txt\n",
      "Downloaded /projects/ooihs/ReNet/data/genemania/Homo_sapiens/Physical_Interactions.Zhang-Zou-2011.txt\n",
      "Downloaded /projects/ooihs/ReNet/data/genemania/Homo_sapiens/Physical_Interactions.Zhao-Krug-2005.txt\n",
      "Downloaded /projects/ooihs/ReNet/data/genemania/Homo_sapiens/Physical_Interactions.Zhao-Yang-2011.txt\n",
      "Downloaded /projects/ooihs/ReNet/data/genemania/Homo_sapiens/Physical_Interactions.Zhou-Conrads-2004.txt\n",
      "Downloaded /projects/ooihs/ReNet/data/genemania/Homo_sapiens/Physical_Interactions.Zhou-Hanemann-2016.txt\n",
      "Downloaded /projects/ooihs/ReNet/data/genemania/Homo_sapiens/Physical_Interactions.de_Hoog-Mann-2004.txt\n",
      "Downloaded /projects/ooihs/ReNet/data/genemania/Homo_sapiens/Physical_Interactions.van_Wijk-Timmers-2009.txt\n",
      "Downloaded /projects/ooihs/ReNet/data/genemania/Homo_sapiens/Predicted.I2D-BIND-Fly2Human.txt\n",
      "Downloaded /projects/ooihs/ReNet/data/genemania/Homo_sapiens/Predicted.I2D-BIND-Mouse2Human.txt\n",
      "Downloaded /projects/ooihs/ReNet/data/genemania/Homo_sapiens/Predicted.I2D-BIND-Rat2Human.txt\n",
      "Downloaded /projects/ooihs/ReNet/data/genemania/Homo_sapiens/Predicted.I2D-BIND-Worm2Human.txt\n",
      "Downloaded /projects/ooihs/ReNet/data/genemania/Homo_sapiens/Predicted.I2D-BIND-Yeast2Human.txt\n",
      "Downloaded /projects/ooihs/ReNet/data/genemania/Homo_sapiens/Predicted.I2D-BioGRID-Fly2Human.txt\n",
      "Downloaded /projects/ooihs/ReNet/data/genemania/Homo_sapiens/Predicted.I2D-BioGRID-Mouse2Human.txt\n",
      "Downloaded /projects/ooihs/ReNet/data/genemania/Homo_sapiens/Predicted.I2D-BioGRID-Rat2Human.txt\n",
      "Downloaded /projects/ooihs/ReNet/data/genemania/Homo_sapiens/Predicted.I2D-BioGRID-Worm2Human.txt\n",
      "Downloaded /projects/ooihs/ReNet/data/genemania/Homo_sapiens/Predicted.I2D-BioGRID-Yeast2Human.txt\n",
      "Downloaded /projects/ooihs/ReNet/data/genemania/Homo_sapiens/Predicted.I2D-Chen-Pawson-2009-PiwiScreen-Mouse2Human.txt\n",
      "Downloaded /projects/ooihs/ReNet/data/genemania/Homo_sapiens/Predicted.I2D-Formstecher-Daviet-2005-Embryo-Fly2Human.txt\n",
      "Downloaded /projects/ooihs/ReNet/data/genemania/Homo_sapiens/Predicted.I2D-Giot-Rothbert-2003-Low-Fly2Human.txt\n",
      "Downloaded /projects/ooihs/ReNet/data/genemania/Homo_sapiens/Predicted.I2D-INNATEDB-Mouse2Human.txt\n",
      "Downloaded /projects/ooihs/ReNet/data/genemania/Homo_sapiens/Predicted.I2D-IntAct-Fly2Human.txt\n",
      "Downloaded /projects/ooihs/ReNet/data/genemania/Homo_sapiens/Predicted.I2D-IntAct-Mouse2Human.txt\n",
      "Downloaded /projects/ooihs/ReNet/data/genemania/Homo_sapiens/Predicted.I2D-IntAct-Rat2Human.txt\n",
      "Downloaded /projects/ooihs/ReNet/data/genemania/Homo_sapiens/Predicted.I2D-IntAct-Worm2Human.txt\n",
      "Downloaded /projects/ooihs/ReNet/data/genemania/Homo_sapiens/Predicted.I2D-IntAct-Yeast2Human.txt\n",
      "Downloaded /projects/ooihs/ReNet/data/genemania/Homo_sapiens/Predicted.I2D-Krogan-Greenblatt-2006-Core-Yeast2Human.txt\n",
      "Downloaded /projects/ooihs/ReNet/data/genemania/Homo_sapiens/Predicted.I2D-Krogan-Greenblatt-2006-NonCore-Yeast2Human.txt\n",
      "Downloaded /projects/ooihs/ReNet/data/genemania/Homo_sapiens/Predicted.I2D-Li-Vidal-2004-CORE-1-Worm2Human.txt\n",
      "Downloaded /projects/ooihs/ReNet/data/genemania/Homo_sapiens/Predicted.I2D-Li-Vidal-2004-non-core-Worm2Human.txt\n",
      "Downloaded /projects/ooihs/ReNet/data/genemania/Homo_sapiens/Predicted.I2D-MGI-Mouse2Human.txt\n",
      "Downloaded /projects/ooihs/ReNet/data/genemania/Homo_sapiens/Predicted.I2D-MINT-Fly2Human.txt\n",
      "Downloaded /projects/ooihs/ReNet/data/genemania/Homo_sapiens/Predicted.I2D-MINT-Mouse2Human.txt\n",
      "Downloaded /projects/ooihs/ReNet/data/genemania/Homo_sapiens/Predicted.I2D-MINT-Rat2Human.txt\n",
      "Downloaded /projects/ooihs/ReNet/data/genemania/Homo_sapiens/Predicted.I2D-MINT-Worm2Human.txt\n",
      "Downloaded /projects/ooihs/ReNet/data/genemania/Homo_sapiens/Predicted.I2D-MINT-Yeast2Human.txt\n",
      "Downloaded /projects/ooihs/ReNet/data/genemania/Homo_sapiens/Predicted.I2D-Manual-Mouse2Human.txt\n",
      "Downloaded /projects/ooihs/ReNet/data/genemania/Homo_sapiens/Predicted.I2D-Manual-Rat2Human.txt\n",
      "Downloaded /projects/ooihs/ReNet/data/genemania/Homo_sapiens/Predicted.I2D-Ptacek-Snyder-2005-Yeast2Human.txt\n",
      "Downloaded /projects/ooihs/ReNet/data/genemania/Homo_sapiens/Predicted.I2D-Tarassov-PCA-Yeast2Human.txt\n",
      "Downloaded /projects/ooihs/ReNet/data/genemania/Homo_sapiens/Predicted.I2D-Tewari-Vidal-2004-TGFb-Worm2Human.txt\n",
      "Downloaded /projects/ooihs/ReNet/data/genemania/Homo_sapiens/Predicted.I2D-Wang-Orkin-2006-EScmplx-Mouse2Human.txt\n",
      "Downloaded /projects/ooihs/ReNet/data/genemania/Homo_sapiens/Predicted.I2D-Wang-Orkin-2006-EScmplxlow-Mouse2Human.txt\n",
      "Downloaded /projects/ooihs/ReNet/data/genemania/Homo_sapiens/Predicted.I2D-Yu-Vidal-2008-GoldStd-Yeast2Human.txt\n",
      "Downloaded /projects/ooihs/ReNet/data/genemania/Homo_sapiens/Predicted.I2D-vonMering-Bork-2002-High-Yeast2Human.txt\n",
      "Downloaded /projects/ooihs/ReNet/data/genemania/Homo_sapiens/Predicted.I2D-vonMering-Bork-2002-Low-Yeast2Human.txt\n",
      "Downloaded /projects/ooihs/ReNet/data/genemania/Homo_sapiens/Predicted.I2D-vonMering-Bork-2002-Medium-Yeast2Human.txt\n",
      "Downloaded /projects/ooihs/ReNet/data/genemania/Homo_sapiens/Predicted.Stuart-Kim-2003.txt\n",
      "Downloaded /projects/ooihs/ReNet/data/genemania/Homo_sapiens/Predicted.Wu-Stein-2010.txt\n",
      "Downloaded /projects/ooihs/ReNet/data/genemania/Homo_sapiens/Shared_protein_domains.INTERPRO.txt\n",
      "Downloaded /projects/ooihs/ReNet/data/genemania/Homo_sapiens/Shared_protein_domains.PFAM.txt\n",
      "Downloaded /projects/ooihs/ReNet/data/genemania/Homo_sapiens/identifier_mappings.txt\n",
      "Downloaded /projects/ooihs/ReNet/data/genemania/Homo_sapiens/networks.txt\n",
      "\n"
     ]
    }
   ],
   "source": [
    "from bs4 import BeautifulSoup\n",
    "import os\n",
    "\n",
    "def retrieve_genemania_files(genemania_url, output_directory):\n",
    "    \"\"\"retrieve the list of interactions files available\n",
    "    in the given genemania_url. Save the file information in\n",
    "    filelist.txt in the output_directory, and return the\n",
    "    file list.\"\"\"\n",
    "    \n",
    "    # contain the list of files in the genemania_url\n",
    "    files = []\n",
    "    try:\n",
    "        r = requests.get(genemania_url)\n",
    "        r.raise_for_status()\n",
    "       \n",
    "        # extract the files from a html table using BeautifulSoup\n",
    "        html = BeautifulSoup(r.text, 'html.parser')\n",
    "        table = html.find('table')\n",
    "        with open(os.path.join(output_directory, 'filelist.txt'), 'w') as ofhandle:\n",
    "            ofhandle.write(html.title.string + '\\n\\n')\n",
    "            for row in table.find_all('tr'):\n",
    "                # get all childiren in a table row, either th or thd\n",
    "                rec = [child.get_text() for child in row.children]\n",
    "                if len(rec) > 1:\n",
    "                    # skip the line with Parent Directory\n",
    "                    if rec[1] == 'Parent Directory':\n",
    "                        continue\n",
    "                    ofhandle.write('\\t'.join(rec[1:]) + '\\n')\n",
    "                    # if the entry is with valid file size and\n",
    "                    # is not a header\n",
    "                    if (rec[3].strip() != '-' and \n",
    "                        rec[1].strip() != 'Name'):\n",
    "                        files.append(rec[1].strip())\n",
    "        r.close()\n",
    "    except:\n",
    "        print('Error in {url}'.format(url=url))    \n",
    "        \n",
    "    return files\n",
    "\n",
    "\n",
    "base_url = 'http://genemania.org/data/current/'\n",
    "sources = ['Homo_sapiens'] \n",
    "# to download the combined version\n",
    "#sources.append('Homo_sapiens.COMBINED')\n",
    "data_directory = os.path.join(project_directory, 'data/genemania/')\n",
    "\n",
    "for item in sources:\n",
    "    path = os.path.join(data_directory, item)\n",
    "    \n",
    "    if not os.path.isdir(path):\n",
    "        os.makedirs(path)\n",
    "        \n",
    "    # get the list of files in a given url\n",
    "    url = base_url + item + '/'\n",
    "    files = retrieve_genemania_files(url, path)\n",
    "    \n",
    "    if len(files) == 0:\n",
    "        print(\"No files to download\")\n",
    "        continue\n",
    "        \n",
    "    for file in files:\n",
    "        file_url = url + file\n",
    "        filename = retrieve_file(file_url, path)\n",
    "        if filename:\n",
    "            print('Downloaded {file}'.format(file=filename))\n",
    "        else:\n",
    "            print('Failed {file}'.format(file=file_url))\n",
    "            \n",
    "    print()"
   ]
  },
  {
   "cell_type": "markdown",
   "metadata": {},
   "source": [
    "The gmt file is generally a [tab-separated file](https://en.wikipedia.org/wiki/Tab-separated_values). The first and second column give the gene and its description. The following columns are the associated attributes.\n",
    "\n",
    "The following code block executes a shell command (`head`) to display the first line of the `Attributes.Consolidated-Pathways-2013.gmt`. The first line shows that the gene `ENSG00000000419` involved in 10 pathways, including `HUMANCYC:MANNOSYL-CHITO-DOLICHOL-BIOSYNTHESIS` and `KEGG:hsa00510`. The pathway is given in the format `database:pathway_id`. The gene is provided as [Ensembl](http://www.ensembl.org/index.html) ID, and no description is given. "
   ]
  },
  {
   "cell_type": "code",
   "execution_count": 30,
   "metadata": {
    "ExecuteTime": {
     "end_time": "2017-11-24T04:16:45.031810Z",
     "start_time": "2017-11-24T04:16:44.902270Z"
    }
   },
   "outputs": [
    {
     "name": "stdout",
     "output_type": "stream",
     "text": [
      "head: cannot open 'data/genemania/Homo_sapiens/Attributes.Consolidated-Pathways-2013.gmt' for reading: No such file or directory\r\n"
     ]
    }
   ],
   "source": [
    "!head -n 1 data/genemania/Homo_sapiens/Attributes.Consolidated-Pathways-2013.gmt"
   ]
  },
  {
   "cell_type": "markdown",
   "metadata": {},
   "source": [
    "The ntework files are also tab-separated, with first and second column give a gene pair. The weight is given in the third column.\n",
    "\n",
    "The following code block displays the first two lines of the `Co-expression.Agnelli-Neri-2007.txt`. The first line is a header, and the interactions start from second line.\n",
    "\n",
    "The other files follow the same format."
   ]
  },
  {
   "cell_type": "code",
   "execution_count": 31,
   "metadata": {
    "ExecuteTime": {
     "end_time": "2017-11-24T04:16:45.153609Z",
     "start_time": "2017-11-24T04:16:45.034811Z"
    }
   },
   "outputs": [
    {
     "name": "stdout",
     "output_type": "stream",
     "text": [
      "head: cannot open 'data/genemania/Homo_sapiens/Co-expression.Agnelli-Neri-2007.txt' for reading: No such file or directory\r\n"
     ]
    }
   ],
   "source": [
    "!head -n 2 data/genemania/Homo_sapiens/Co-expression.Agnelli-Neri-2007.txt"
   ]
  },
  {
   "cell_type": "markdown",
   "metadata": {},
   "source": [
    "### [FunCoup](http://funcoup.sbc.su.se/search/)\n",
    "\n",
    "FunCoup provides genome-wide functional couplings (associations) for several model organisms, including human. The functional couplings are derived from 10 different evidence types and integrated in a naive Bayesian fashion. The networks can be downloaded from the following url, [http://funcoup.sbc.su.se/downloads/](http://funcoup.sbc.su.se/downloads/).\n",
    "\n",
    "The file format is a tab-separated format with the following columns:\n",
    "\n",
    "Columns\t|Label\t|Description\n",
    "---|:---|:---\n",
    "0\t|PFC\t|The confidence score\n",
    "1\t|FBS_max\t|The final Bayesian score (FBS) of the strongest coupling class\n",
    "2-3\t|Gene*\t|The Ensembl gene identifier of the gene pair\n",
    "4-7\t|FBS_*\t|The FBS scores of the four different coupling classes (Some species don't have all classes)\n",
    "8-16\t|LLR_*\t|The log-likelihood ratios (LLRs) of the different evidence types\n",
    "17-27\t|LLR_*\t|The LLRs of the evidence from the different species\n",
    "28\t|Max_category\t|The strongest coupling class for this pair. This is also the class for which the LLRs are given.\n",
    "\n",
    "The following code block downloads the human functional coupling network."
   ]
  },
  {
   "cell_type": "code",
   "execution_count": 32,
   "metadata": {
    "ExecuteTime": {
     "end_time": "2017-11-24T04:18:15.771002Z",
     "start_time": "2017-11-24T04:16:45.156548Z"
    }
   },
   "outputs": [
    {
     "name": "stdout",
     "output_type": "stream",
     "text": [
      "Downloaded /projects/ooihs/ReNet/data/funcoup/download.action?type=network&fileName=FC4.0_H.sapiens_full.gz\n"
     ]
    }
   ],
   "source": [
    "data_directory = os.path.join(project_directory, 'data/funcoup')\n",
    "\n",
    "urls = ['http://funcoup.sbc.su.se/downloads/download.action?type=network&fileName=FC4.0_H.sapiens_full.gz']\n",
    "\n",
    "download_files(urls, data_directory)"
   ]
  },
  {
   "cell_type": "markdown",
   "metadata": {},
   "source": [
    "### [Human Integrated Protein-Protein Interaction rEference](http://cbdm-01.zdv.uni-mainz.de/~mschaefer/hippie/index.php)\n",
    "\n",
    "HIPPIE is a collection of human protein-protein interactions. HIPPIE scores the interaction based on the amount and reliability of evidence supporting them. One novel feature of HIPPIE is the assignment of quality scores to each experimental method. The experimental quality scores are used to reflect the reliability and error rate of each technique. The assessment may be subjective as no single score could be used to represent the data quality generated from different studies using the same experimental method.\n",
    "\n"
   ]
  },
  {
   "cell_type": "code",
   "execution_count": 33,
   "metadata": {
    "ExecuteTime": {
     "end_time": "2017-11-24T04:18:26.457845Z",
     "start_time": "2017-11-24T04:18:15.774735Z"
    }
   },
   "outputs": [
    {
     "name": "stdout",
     "output_type": "stream",
     "text": [
      "Downloaded /projects/ooihs/ReNet/data/hippie/hippie_current.txt\n",
      "Downloaded /projects/ooihs/ReNet/data/hippie/experimental_scores.tsv\n"
     ]
    }
   ],
   "source": [
    "data_directory = os.path.join(project_directory, 'data/hippie')\n",
    "\n",
    "urls = ['http://cbdm-01.zdv.uni-mainz.de/~mschaefer/hippie/hippie_current.txt',\n",
    "       'http://cbdm-01.zdv.uni-mainz.de/~mschaefer/hippie/RS/experimental_scores.tsv']\n",
    "\n",
    "download_files(urls, data_directory)"
   ]
  },
  {
   "cell_type": "markdown",
   "metadata": {},
   "source": [
    "### [HumanNet](http://www.functionalnet.org/humannet/)\n",
    "\n",
    "HumanNet was developed for understanding genome-wide associated data. "
   ]
  },
  {
   "cell_type": "code",
   "execution_count": 34,
   "metadata": {
    "ExecuteTime": {
     "end_time": "2017-11-24T04:18:50.280237Z",
     "start_time": "2017-11-24T04:18:26.461963Z"
    }
   },
   "outputs": [
    {
     "name": "stdout",
     "output_type": "stream",
     "text": [
      "Downloaded /projects/ooihs/ReNet/data/humannet/HumanNet.v1.benchmark.txt\n",
      "Downloaded /projects/ooihs/ReNet/data/humannet/HumanNet.v1.join.txt\n",
      "Downloaded /projects/ooihs/ReNet/data/humannet/HumanNet.v1.evidence_code.txt\n"
     ]
    }
   ],
   "source": [
    "data_directory = os.path.join(project_directory, 'data/humannet')\n",
    "\n",
    "urls = ['http://www.functionalnet.org/humannet/HumanNet.v1.benchmark.txt',\n",
    "        'http://www.functionalnet.org/humannet/HumanNet.v1.join.txt',\n",
    "        'http://www.functionalnet.org/humannet/HumanNet.v1.evidence_code.txt'\n",
    "       ]\n",
    "\n",
    "download_files(urls, data_directory)"
   ]
  },
  {
   "cell_type": "markdown",
   "metadata": {},
   "source": [
    "### [IRefIndex](http://irefindex.org)\n",
    "\n",
    "IRefIndex is one of the early efforts to consolidate protein-protein interactions from multiple resources. The interactions were collected from multiple resources, including BIND, BioGRID, CORUM, DIP, IntAct, HPRD, MATRIXDB, MINT, MPACGT, MPPI and MPIDB. No scoring scheme was used to evaluate the interactions.\n",
    "\n",
    "The last version was released on April 7, 2015, and can be downloaded using the following url, [http://irefindex.org/download/irefindex/data/archive/release_14.0/psi_mitab/MITAB2.6/](http://irefindex.org/download/irefindex/data/archive/release_14.0/psi_mitab/MITAB2.6/)"
   ]
  },
  {
   "cell_type": "code",
   "execution_count": 35,
   "metadata": {
    "ExecuteTime": {
     "end_time": "2017-11-24T04:19:32.337062Z",
     "start_time": "2017-11-24T04:18:50.282707Z"
    }
   },
   "outputs": [
    {
     "name": "stdout",
     "output_type": "stream",
     "text": [
      "Downloaded /projects/ooihs/ReNet/data/irefindex/9606.mitab.07042015.txt.zip\n"
     ]
    }
   ],
   "source": [
    "data_directory = os.path.join(project_directory, 'data/irefindex')\n",
    "\n",
    "urls = ['http://irefindex.org/download/irefindex/data/archive/release_14.0/psi_mitab/MITAB2.6/9606.mitab.07042015.txt.zip']\n",
    "\n",
    "download_files(urls, data_directory)"
   ]
  },
  {
   "cell_type": "markdown",
   "metadata": {},
   "source": [
    "### [STRING](https://string-db.org/)\n",
    "\n",
    "STRING is probably the largest collections of functional interactions for more than 2,000 organisms. The functional interactions were derived from computational predictions, co-expression, experimental data, literature and text mining. Information from different evidence types are combined in the naive Bayesian fashion.\n",
    "\n",
    "The complete data set is very large. Therefore, it is advisable to download the interaction data based on a specific organism. A number of different interaction formats are available for download. In this study, we used the protein network data with subscores per channel. This allows us to select a subject of interactions based on evidence types."
   ]
  },
  {
   "cell_type": "code",
   "execution_count": 36,
   "metadata": {
    "ExecuteTime": {
     "end_time": "2017-11-24T04:20:00.058016Z",
     "start_time": "2017-11-24T04:19:32.341064Z"
    }
   },
   "outputs": [
    {
     "name": "stdout",
     "output_type": "stream",
     "text": [
      "Downloaded /projects/ooihs/ReNet/data/string/9606.protein.links.full.v10.5.txt.gz\n"
     ]
    }
   ],
   "source": [
    "# STRING server returns HTTP 403 error when using the download_file function\n",
    "# The following solution is based on requests, with streaming\n",
    "def requests_file(url, output):\n",
    "    \"\"\"save the url to a output. The output can be a directory or\n",
    "    file. If the output is a directory, then save the filename pointed\n",
    "    by the url into the directory.\n",
    "    \n",
    "    Return the local file with complete path.\n",
    "    \"\"\"\n",
    "    try:\n",
    "        r = requests.get(url, stream=True)\n",
    "        r.raise_for_status()\n",
    "        localfile = output\n",
    "        if os.path.isdir(output):\n",
    "            localfile = os.path.join(output, url.split('/')[-1])\n",
    "        with open(localfile, 'wb') as ofhandle:\n",
    "            for chunk in r.iter_content(chunk_size=1024):\n",
    "                ofhandle.write(chunk)\n",
    "        return localfile\n",
    "    except:\n",
    "        return None\n",
    "\n",
    "url = 'https://stringdb-static.org/download/protein.links.full.v10.5/9606.protein.links.full.v10.5.txt.gz'\n",
    "\n",
    "data_directory = os.path.join(project_directory, 'data/string')\n",
    "\n",
    "if not os.path.isdir(data_directory):\n",
    "    os.makedirs(data_directory)\n",
    "    \n",
    "filename = requests_file(url, data_directory)\n",
    "if filename:\n",
    "    print('Downloaded {file}'.format(file=filename))\n",
    "else:\n",
    "    print('Failed {file}'.format(file=url))    "
   ]
  },
  {
   "cell_type": "markdown",
   "metadata": {},
   "source": [
    "### [InBioMap](https://www.intomics.com/inbio/map/#home)\n",
    "\n",
    "InBioMap is also a collection of publicly available human protein-protein interactions. The database is an extension of InWeb, which is used in the [DAPPLE](http://archive.broadinstitute.org/mpg/dapple/dapple.php). The interactions are scored using the reported studies.\n",
    "\n",
    "The data can be downloaded from the following url, [https://www.intomics.com/inbio/map/#downloads](https://www.intomics.com/inbio/map/#downloads). The download must be done using a web browser, as it requires an authorization."
   ]
  },
  {
   "cell_type": "markdown",
   "metadata": {},
   "source": [
    "## Other useful resources"
   ]
  },
  {
   "cell_type": "markdown",
   "metadata": {
    "collapsed": true
   },
   "source": [
    "### [UniProt](http://uniprot.org)\n",
    "\n",
    "The UniProt is the main resource for protein sequences. There are two major data collections in the UniProt database, Swiss-Prot and TrEMBL collections. The Swiss-Prot collection is manually annotated and reviewed. Therefore, it contains up-to-date functional annotations about a protein. On the other hand, the TrEMBL collection is automatically annotated through computational analysis and not reviewed. While the TrEMBL collection is the best place for exploring uncharacterized protein sequences, it might not be useful for functional studies. This is because inclusion of unreviewed information might increase noises during the data analysis, and could lead to miss-interpretation of the analysis results.\n",
    "\n",
    "For our study, we mainly focus on using protein information from the Swiss-Prot collection. The latest data is available in the following url, [ftp://ftp.uniprot.org/pub/databases/uniprot/current_release/knowledgebase/complete/](ftp://ftp.uniprot.org/pub/databases/uniprot/current_release/knowledgebase/complete/). \n"
   ]
  },
  {
   "cell_type": "code",
   "execution_count": 37,
   "metadata": {
    "ExecuteTime": {
     "end_time": "2017-11-24T04:33:05.767463Z",
     "start_time": "2017-11-24T04:20:00.061515Z"
    }
   },
   "outputs": [
    {
     "name": "stdout",
     "output_type": "stream",
     "text": [
      "Downloaded /projects/ooihs/ReNet/data/uniprot/uniprot_sprot.dat.gz\n"
     ]
    }
   ],
   "source": [
    "data_directory = os.path.join(project_directory, 'data/uniprot')\n",
    "\n",
    "urls = ['ftp://ftp.uniprot.org/pub/databases/uniprot/current_release/knowledgebase/complete/uniprot_sprot.dat.gz']\n",
    "\n",
    "download_files(urls, data_directory)"
   ]
  },
  {
   "cell_type": "markdown",
   "metadata": {
    "collapsed": true
   },
   "source": [
    "### [HUGO Gene Nomenclature Committee](https://www.genenames.org/)\n",
    "\n",
    "HGNC is a committee responsible for approving human gene symbols and names. The information will be used for standardizing the human proteins for data integration and comparison."
   ]
  },
  {
   "cell_type": "code",
   "execution_count": 38,
   "metadata": {
    "ExecuteTime": {
     "end_time": "2017-11-24T04:33:14.346767Z",
     "start_time": "2017-11-24T04:33:05.770543Z"
    }
   },
   "outputs": [
    {
     "name": "stdout",
     "output_type": "stream",
     "text": [
      "Downloaded /projects/ooihs/ReNet/data/hgnc/hgnc_complete_set.json\n"
     ]
    }
   ],
   "source": [
    "data_directory = os.path.join(project_directory, 'data/hgnc')\n",
    "\n",
    "urls = ['ftp://ftp.ebi.ac.uk/pub/databases/genenames/new/json/hgnc_complete_set.json']\n",
    "\n",
    "download_files(urls, data_directory)"
   ]
  },
  {
   "cell_type": "markdown",
   "metadata": {
    "collapsed": true
   },
   "source": [
    "##  [Gene Ontology](http://geneontology.org/)\n",
    "\n",
    "Gene Ontology is an initiative to provide consistent descriptions of genes and gene products across organisms. Gene Ontology Consortium only provides structured ontologies that describe gene products in terms of their associated biological processes, cellular components and molecular functions. These ontologies are provided in a species-independent manner. Therefore, the annotations for a particular organism has to be download separately. Here, we used the annotations for human provided by [EBI](http://geneontology.org/page/download-annotations)."
   ]
  },
  {
   "cell_type": "code",
   "execution_count": 39,
   "metadata": {
    "ExecuteTime": {
     "end_time": "2017-11-24T04:33:33.431400Z",
     "start_time": "2017-11-24T04:33:14.349402Z"
    }
   },
   "outputs": [
    {
     "name": "stdout",
     "output_type": "stream",
     "text": [
      "Downloaded /projects/ooihs/ReNet/data/go/go.obo\n",
      "Downloaded /projects/ooihs/ReNet/data/go/goa_human.gaf.gz\n"
     ]
    }
   ],
   "source": [
    "data_directory = os.path.join(project_directory, 'data/go')\n",
    "\n",
    "urls = [\n",
    "    'http://purl.obolibrary.org/obo/go.obo',\n",
    "    'http://geneontology.org/gene-associations/goa_human.gaf.gz'\n",
    "]\n",
    "\n",
    "download_files(urls, data_directory)"
   ]
  },
  {
   "cell_type": "code",
   "execution_count": null,
   "metadata": {
    "collapsed": true
   },
   "outputs": [],
   "source": []
  }
 ],
 "metadata": {
  "kernelspec": {
   "display_name": "Python 3",
   "language": "python",
   "name": "python3"
  },
  "language_info": {
   "codemirror_mode": {
    "name": "ipython",
    "version": 3
   },
   "file_extension": ".py",
   "mimetype": "text/x-python",
   "name": "python",
   "nbconvert_exporter": "python",
   "pygments_lexer": "ipython3",
   "version": "3.6.3"
  }
 },
 "nbformat": 4,
 "nbformat_minor": 2
}
