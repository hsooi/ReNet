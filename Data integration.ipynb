{
 "cells": [
  {
   "cell_type": "markdown",
   "metadata": {},
   "source": [
    "# Introduction\n",
    "\n",
    "\n",
    "Overall, we have collected interaction data from more than 30 resources. These resources can be grouped into two major classes, primary and integrated databases. Primary resources such as IntAct or BioGRID focus on collecting experimentally derived molecular interactions. These resources usually were designed for a specific need, therefore, may only contain a fraction of all publicly available data. On the other hand, integrated resources such as STRING aimed at reconstructing the complete interaction network by combining data from primary databases. \n",
    "\n",
    "Given that the existing biological data is noisy, the reconstructed networks are usually scored. The scores provide a means to filter unreliable interactions. However, the scores generated from different algorithms usually are incompatible with each other. These scores differ greatly in scale, range and distribution. Even if presented in the same scale or range, scores from two different approaches usually have different meanings. For example, both FunCoup and InBioMap give their scores between 0 and 1. However, FunCoup's score represents the likelihood that two proteins interact given the set of evidence considered. On the other hand, InBioMap calculates confidence scores by combining evidence such as the number interacting partners, the number of reporting publications and the community support for each publication in a heuristic manner. Therefore, the same interaction will be evaluated differently. Furthermore, it is important to be aware that each scoring scheme generally reflects the authors' belief of what constitute a reliable metric for evaluating protein interactions. The assessment is generally based on the number of evidence considered and how good the evidence in evaluating the interactions. As a result, all scoring schemes represent a biased view of the true protein interaction space. Given the heterogeneity and volume of biological data, it is infeasible for a single algorithm to consider all possible evidence to evaluate an interaction. Therefore, rather than relying on a single scoring method, researchers should consider combining information from various algorithms to assess the collected interactions.\n",
    "\n",
    "In the following sections, we show how to extract scores from various integrated databases. For the interactions collected from primary databases, we use the number of reporting publications as scores. This simple scoring scheme has been used in many studies and is based on the assumption that an interaction is more reliable if it can be reproduced by many publications. \n",
    "\n",
    "\n",
    "*Note:*\n",
    "* Be aware of evidence used to build a scoring system\n",
    "* Golden reference sets used to evaluate the scoring system\n",
    "* The underlying assumptions of the scoring system\n",
    "\n",
    "\n",
    "# Extract scored interactions from various integrated resources\n",
    "\n",
    "The following sections extract the scores of protein-protein interactions collected from various online resources: ComPPI, ConsensusPathDB (CPDB), FunCoup, GeneMANIA, HIPPIE, HumanNET, InBioMap, IRefIndex, and STRING.\n",
    "\n",
    "For the four functional interaction resources (GeneMANIA, FunCoup, HumanNET and STRING), only the interactions derived from physical interactions are used.\n",
    "\n",
    "During score extraction, self-interacting interactions will be excluded. While homodimerization is an important process in constructing a protein complex, it is less useful in our application."
   ]
  },
  {
   "cell_type": "code",
   "execution_count": 1,
   "metadata": {
    "ExecuteTime": {
     "end_time": "2017-11-25T14:51:38.855340Z",
     "start_time": "2017-11-25T14:51:38.610368Z"
    },
    "collapsed": true
   },
   "outputs": [],
   "source": [
    "import os\n",
    "import json\n",
    "from collections import defaultdict\n",
    "import itertools\n",
    "from src import misc\n",
    "from IPython.display import Image, display\n",
    "%matplotlib inline\n",
    "import matplotlib.pyplot as plt\n",
    "import numpy as np\n",
    "    \n",
    "project_directory = '/projects/ooihs/ReNet/'\n",
    "map_directory = os.path.join(project_directory, 'results/map/')\n",
    "final_directory = os.path.join(project_directory, 'results/final/')\n",
    "data_directory = os.path.join(project_directory, 'data/')"
   ]
  },
  {
   "cell_type": "markdown",
   "metadata": {},
   "source": [
    "## Using the number of publications as scores\n",
    "\n",
    "The primary assumption behind this scoring scheme is based on the reproducibility of an interaction. Here, we applied this scheme to IRefIndex and our own collection."
   ]
  },
  {
   "cell_type": "code",
   "execution_count": 2,
   "metadata": {
    "ExecuteTime": {
     "end_time": "2017-11-25T14:51:49.147553Z",
     "start_time": "2017-11-25T14:51:38.859817Z"
    }
   },
   "outputs": [
    {
     "name": "stdout",
     "output_type": "stream",
     "text": [
      "IRefIndex\n",
      "Counting publication supports ...\n",
      "Total number of interaction processed: 185273\n",
      "Total number of scored interactions: 181464\n",
      "\n",
      "Human\n",
      "Counting publication supports ...\n",
      "Total number of interaction processed: 504044\n",
      "Total number of scored interactions: 498451\n",
      "\n"
     ]
    }
   ],
   "source": [
    "# process the IRefIndex and Our own collection of protein-protein interactions\n",
    "db_list = ['IRefIndex', 'Human']\n",
    "\n",
    "for dbname in db_list:\n",
    "    print(dbname)\n",
    "    input_file = os.path.join(final_directory, \n",
    "                              'interaction.' + dbname.lower() + '.uniprot')\n",
    "\n",
    "    output_file = os.path.join(final_directory, 'score.' + dbname.lower())\n",
    "    misc.generate_publication_count_file(input_file, output_file,\n",
    "                                         exclude_self_interaction=True)\n",
    "    print()"
   ]
  },
  {
   "cell_type": "markdown",
   "metadata": {},
   "source": [
    "## FunCoup\n",
    "\n",
    "FunCoup integrates various biological information to infer the functional interactions between protein pairs. In our application, we are only interested in protein interactions with experimental supports. The selection criteria are based on the `Max_category` (the strongest coupling class) is equal to `PPI` and the corresponding functional interactions have `LLR_PIN` (log-likelihood ratios of protein interaction network) values of larger than 0."
   ]
  },
  {
   "cell_type": "code",
   "execution_count": 3,
   "metadata": {
    "ExecuteTime": {
     "end_time": "2017-11-25T14:54:47.921661Z",
     "start_time": "2017-11-25T14:51:49.149877Z"
    }
   },
   "outputs": [
    {
     "name": "stdout",
     "output_type": "stream",
     "text": [
      "Generate score file ...\n",
      "Total number of interaction processed: 5455662\n",
      "Total number of scored interactions: 455905\n"
     ]
    }
   ],
   "source": [
    "from src import funcoup\n",
    "\n",
    "dbname = 'FunCoup'\n",
    "input_file = os.path.join(final_directory, \n",
    "                          'interaction.' + dbname.lower() + '.uniprot')\n",
    "output_file = os.path.join(final_directory, 'score.' + dbname.lower())\n",
    "\n",
    "funcoup.generate_score_file(input_file, output_file, ppi=True, exclude_self_interaction=True)"
   ]
  },
  {
   "cell_type": "markdown",
   "metadata": {},
   "source": [
    "## GeneMANIA\n",
    "\n",
    "For GeneMANIA, we used only the interactions from `Physical_Interactions` studies (refer to [Data standardization](Data standardization.ipynb)). As the same interactions could appear in multiple studies, we used the highest weight for an interaction as the final score."
   ]
  },
  {
   "cell_type": "code",
   "execution_count": 4,
   "metadata": {
    "ExecuteTime": {
     "end_time": "2017-11-25T14:54:51.096086Z",
     "start_time": "2017-11-25T14:54:47.923883Z"
    }
   },
   "outputs": [
    {
     "name": "stdout",
     "output_type": "stream",
     "text": [
      "Generate score file ...\n",
      "Total number of interaction processed: 259319\n",
      "Total number of scored interactions: 259315\n"
     ]
    }
   ],
   "source": [
    "from src import genemania\n",
    "\n",
    "dbname = 'GeneMANIA'\n",
    "input_file = os.path.join(final_directory, \n",
    "                          'interaction.' + dbname.lower() + '.uniprot')\n",
    "\n",
    "output_file = os.path.join(final_directory, 'score.' + dbname.lower())\n",
    "genemania.generate_score_file(input_file, output_file, exclude_self_interaction=True)"
   ]
  },
  {
   "cell_type": "markdown",
   "metadata": {},
   "source": [
    "## HIPPIE\n",
    "\n",
    "The default scores were used."
   ]
  },
  {
   "cell_type": "code",
   "execution_count": 5,
   "metadata": {
    "ExecuteTime": {
     "end_time": "2017-11-25T14:54:57.295004Z",
     "start_time": "2017-11-25T14:54:51.098466Z"
    }
   },
   "outputs": [
    {
     "name": "stdout",
     "output_type": "stream",
     "text": [
      "Generate score file ...\n",
      "Total number of interaction processed: 324264\n",
      "Total number of scored interactions: 320225\n"
     ]
    }
   ],
   "source": [
    "from src import hippie\n",
    "        \n",
    "dbname = 'HIPPIE'    \n",
    "input_file = os.path.join(final_directory, \n",
    "                          'interaction.' + dbname.lower() + '.uniprot')\n",
    "output_file = os.path.join(final_directory, 'score.' + dbname.lower())\n",
    "hippie.generate_score_file(input_file, output_file, exclude_self_interaction=True)"
   ]
  },
  {
   "cell_type": "markdown",
   "metadata": {},
   "source": [
    "## HumanNet\n",
    "\n",
    "HumanNet also integrates various biological information to construct a human interaction network. Similarly, we only used interactions with experimental supports. The file [`HumanNet.v1.evidence_code.txt`](http://www.functionalnet.org/humannet/HumanNet.v1.evidence_code.txt) lists the evidence sources used in generating the network. Only interactions with the following evidence will be used in this study:\n",
    "\n",
    "* HS-LC = Literature curated human protein physical interactions\n",
    "* HS-MS = Human protein complexes from affinity purification/mass spectrometry\n",
    "* HS-YH = High-throughput yeast 2-hybrid assays among human genes"
   ]
  },
  {
   "cell_type": "code",
   "execution_count": 6,
   "metadata": {
    "ExecuteTime": {
     "end_time": "2017-11-25T14:55:04.013031Z",
     "start_time": "2017-11-25T14:54:57.297220Z"
    }
   },
   "outputs": [
    {
     "name": "stdout",
     "output_type": "stream",
     "text": [
      "Generate score file ...\n",
      "Total number of interaction processed: 457348\n",
      "Total number of scored interactions: 59913\n"
     ]
    }
   ],
   "source": [
    "from src import humannet\n",
    "\n",
    "dbname = 'HumanNet'\n",
    "input_file = os.path.join(final_directory, \n",
    "                          'interaction.' + dbname.lower() + '.uniprot')\n",
    "output_file = os.path.join(final_directory, 'score.' + dbname.lower())\n",
    "humannet.generate_score_file(input_file, output_file, ppi=True, exclude_self_interaction=True)        "
   ]
  },
  {
   "cell_type": "markdown",
   "metadata": {},
   "source": [
    "## InBioMap\n",
    "\n",
    "The default scores were used."
   ]
  },
  {
   "cell_type": "code",
   "execution_count": 7,
   "metadata": {
    "ExecuteTime": {
     "end_time": "2017-11-25T14:55:10.959050Z",
     "start_time": "2017-11-25T14:55:04.017160Z"
    }
   },
   "outputs": [
    {
     "name": "stdout",
     "output_type": "stream",
     "text": [
      "Generate score file ...\n",
      "Total number of interaction processed: 615154\n",
      "Total number of scored interactions: 615121\n"
     ]
    }
   ],
   "source": [
    "from src import inbiomap\n",
    "\n",
    "dbname = 'InBioMap'\n",
    "input_file = os.path.join(final_directory, \n",
    "                          'interaction.' + dbname.lower() + '.uniprot')\n",
    "output_file = os.path.join(final_directory, 'score.' + dbname.lower())\n",
    "inbiomap.generate_score_file(input_file, output_file, exclude_self_interaction=True)"
   ]
  },
  {
   "cell_type": "markdown",
   "metadata": {},
   "source": [
    "## STRING\n",
    "\n",
    "STRING provides data downloadable in multiple forms. Here, we use the protein network data with distinction between direct interactions and interologs (transferred from other organisms). This allows us to extract only the direct interactions with experimental supports. Here, only interaction with non-zero `experiments` and `database` evidence sources will be used."
   ]
  },
  {
   "cell_type": "code",
   "execution_count": 8,
   "metadata": {
    "ExecuteTime": {
     "end_time": "2017-11-25T14:56:23.813090Z",
     "start_time": "2017-11-25T14:55:10.961602Z"
    }
   },
   "outputs": [
    {
     "name": "stdout",
     "output_type": "stream",
     "text": [
      "Generate score file ...\n",
      "Total number of interaction processed: 4746181\n",
      "Total number of scored interactions: 257917\n"
     ]
    }
   ],
   "source": [
    "from src import string        \n",
    "                           \n",
    "dbname = 'STRING'\n",
    "input_file = os.path.join(final_directory, \n",
    "                          'interaction.' + dbname.lower() + '.uniprot')\n",
    "output_file = os.path.join(final_directory, 'score.' + dbname.lower())\n",
    "string.generate_score_file(input_file, output_file, ppi=True, exclude_self_interaction=True)        "
   ]
  },
  {
   "cell_type": "markdown",
   "metadata": {},
   "source": [
    "## CPDB\n",
    "\n",
    "The default scores were used."
   ]
  },
  {
   "cell_type": "code",
   "execution_count": 9,
   "metadata": {
    "ExecuteTime": {
     "end_time": "2017-11-25T14:56:28.571954Z",
     "start_time": "2017-11-25T14:56:23.815553Z"
    }
   },
   "outputs": [
    {
     "name": "stdout",
     "output_type": "stream",
     "text": [
      "Generate score file ...\n",
      "Total number of interaction processed: 261353\n",
      "Total number of scored interactions: 261353\n"
     ]
    }
   ],
   "source": [
    "from src import cpdb        \n",
    "                            \n",
    "dbname = 'CPDB'\n",
    "input_file = os.path.join(final_directory, \n",
    "                          'interaction.' + dbname.lower() + '.uniprot')\n",
    "output_file = os.path.join(final_directory, 'score.' + dbname.lower())\n",
    "cpdb.generate_score_file(input_file, output_file, exclude_self_interaction=True)        "
   ]
  },
  {
   "cell_type": "markdown",
   "metadata": {},
   "source": [
    "## ComPPI\n",
    "\n",
    "The default scores were used."
   ]
  },
  {
   "cell_type": "code",
   "execution_count": 10,
   "metadata": {
    "ExecuteTime": {
     "end_time": "2017-11-25T14:56:32.159652Z",
     "start_time": "2017-11-25T14:56:28.573724Z"
    }
   },
   "outputs": [
    {
     "name": "stdout",
     "output_type": "stream",
     "text": [
      "Generate score file ...\n",
      "Total number of interaction processed: 174858\n",
      "Total number of scored interactions: 174813\n"
     ]
    }
   ],
   "source": [
    "from src import comppi        \n",
    "                            \n",
    "dbname = 'ComPPI'\n",
    "input_file = os.path.join(final_directory, \n",
    "                          'interaction.' + dbname.lower() + '.uniprot')\n",
    "output_file = os.path.join(final_directory, 'score.' + dbname.lower())\n",
    "comppi.generate_score_file(input_file, output_file, exclude_self_interaction=True)        "
   ]
  },
  {
   "cell_type": "markdown",
   "metadata": {
    "collapsed": true
   },
   "source": [
    "## Merge IRefIndex to other primary interaction resources to increase the effectiveness of publication supports\n",
    "\n",
    "The comparative analysis of the selected resources showed that various scoring schemes used in the selected online resources generally are incompatible with each other (see [Comparative analysis](Comparative analysis.ipynb)). The highest correlation obtained is between our collection and IRefIndex, which is based on the simple publication count method. Therefore, it is reasonable to combined IRefIndex into our collection to increase the effectiveness of the counting method."
   ]
  },
  {
   "cell_type": "code",
   "execution_count": 11,
   "metadata": {
    "ExecuteTime": {
     "end_time": "2017-11-25T14:57:00.135986Z",
     "start_time": "2017-11-25T14:56:32.162011Z"
    }
   },
   "outputs": [
    {
     "name": "stdout",
     "output_type": "stream",
     "text": [
      "Combining interactions in datasets...\n",
      "...Processing bindtranslation\n",
      "...Processing biogrid\n",
      "...Processing cider\n",
      "...Processing deathdomain\n",
      "...Processing dip\n",
      "...Processing hprd\n",
      "...Processing htridb\n",
      "...Processing hupa\n",
      "...Processing huri\n",
      "...Processing innatedb\n",
      "...Processing instruct\n",
      "...Processing intact\n",
      "...Processing kegg\n",
      "...Processing matrixdb\n",
      "...Processing mint\n",
      "...Processing mppi\n",
      "...Processing pdzbase\n",
      "...Processing ppep\n",
      "...Processing reactome\n",
      "...Processing signalink\n",
      "...Processing signor\n",
      "...Processing spike\n",
      "...Processing synsysnet\n",
      "...Processing tcof\n",
      "...Processing trip\n",
      "...Processing irefindex\n",
      "Total number of interaction processed: 1061502\n",
      "Total number of unique interactions: 517969\n"
     ]
    }
   ],
   "source": [
    "# individual datasets\n",
    "datasets = ['bindtranslation', 'biogrid', 'cider', 'deathdomain', \n",
    "           'dip', 'hprd', 'htridb', 'hupa', 'huri',\n",
    "           'innatedb', 'instruct', 'intact', 'kegg',\n",
    "           'matrixdb', 'mint', 'mppi', 'pdzbase', 'ppep',\n",
    "           'reactome', 'signalink', 'signor', 'spike',\n",
    "           'synsysnet', 'tcof', 'trip'            \n",
    "]\n",
    "\n",
    "input_files = []\n",
    "\n",
    "for ds in datasets:\n",
    "    input_files.append(os.path.join(map_directory, 'interaction.' + ds + '.uniprot'))\n",
    "input_files.append(os.path.join(final_directory, 'interaction.irefindex.uniprot'))\n",
    "\n",
    "hgnc_file = os.path.join(data_directory, 'hgnc/hgnc_complete_set.json')\n",
    "hgnc = misc.load_hgnc_json(hgnc_file)\n",
    "\n",
    "output_file = os.path.join(final_directory, 'interaction.combined.uniprot')\n",
    "# combine and filter the interactions based on HGNC\n",
    "misc.combine_interaction_datasets(input_files, output_file, hgnc['uniprot'])\n"
   ]
  },
  {
   "cell_type": "markdown",
   "metadata": {},
   "source": [
    "## Remove retracted publications\n",
    "\n",
    "The scientific community is aware of the retracted publications, yet the removal of retracted publications is usually not well presented. Here, we showed a simple approach to remove the retracted publications of the collected interactions. \n",
    "\n",
    "We first retrieve the PMIDs of retracted publications from PUBMED, using the following query term: `\"retracted publication\"[pt] or \"retraction of publication\"[pt]`\n",
    "\n",
    "Then, all the retracted PMISs are removed from the collected interactions. An interaction will be removed from our collection if it does not have any publication supports after the removal process."
   ]
  },
  {
   "cell_type": "markdown",
   "metadata": {},
   "source": [
    "### Retrieve retracted publications from PUBMED"
   ]
  },
  {
   "cell_type": "code",
   "execution_count": 12,
   "metadata": {
    "ExecuteTime": {
     "end_time": "2017-11-25T14:57:30.153605Z",
     "start_time": "2017-11-25T14:57:00.138460Z"
    }
   },
   "outputs": [
    {
     "name": "stdout",
     "output_type": "stream",
     "text": [
      "Downloading retracted publications from PUBMED\n",
      "Total number of records to download: 11175\n",
      "... Downloading record 2001 to 4000\n",
      "... Downloading record 4001 to 6000\n",
      "... Downloading record 6001 to 8000\n",
      "... Downloading record 8001 to 10000\n",
      "... Downloading record 10001 to 11175\n"
     ]
    }
   ],
   "source": [
    "from src import pubmed\n",
    "\n",
    "output_file = os.path.join(map_directory, 'retracted.pubmed')\n",
    "pubmed.get_retracted_publication_batch(output_file)"
   ]
  },
  {
   "cell_type": "markdown",
   "metadata": {},
   "source": [
    "### Remove retracted publications from interactions\n",
    "\n",
    "For each record, we removed any publication with retracted Pubmed ID. After removal of retracted publications, interactions without any publication support will then be discharged."
   ]
  },
  {
   "cell_type": "code",
   "execution_count": 13,
   "metadata": {
    "ExecuteTime": {
     "end_time": "2017-11-25T14:57:54.210669Z",
     "start_time": "2017-11-25T14:57:30.157444Z"
    }
   },
   "outputs": [
    {
     "name": "stdout",
     "output_type": "stream",
     "text": [
      "Removing publications in dataset...\n",
      "...Loading retracted publications\n",
      "...Number of retracted publications: 11175\n",
      "...Processing interactions\n",
      "Total number of interaction processed: 517969\n",
      "Total number of final interactions: 517879\n",
      "Number of interactions removed: 90\n",
      "Number of retracted pmid found: 119\n",
      "Counting publication supports ...\n",
      "Total number of interaction processed: 517879\n",
      "Total number of scored interactions: 512190\n"
     ]
    }
   ],
   "source": [
    "\"\"\"remove retracted publications\"\"\"\n",
    "input_file = os.path.join(final_directory, 'interaction.combined.uniprot')\n",
    "output_file = os.path.join(final_directory, 'interaction.publication.uniprot')\n",
    "retracted_file = os.path.join(map_directory, 'retracted.pubmed')\n",
    "\n",
    "misc.remove_retracted_publication(input_file, output_file, retracted_file)\n",
    "\n",
    "# generate scores\n",
    "score_file = os.path.join(final_directory, 'score.publication')\n",
    "misc.generate_publication_count_file(output_file, score_file, exclude_self_interaction=True)"
   ]
  },
  {
   "cell_type": "markdown",
   "metadata": {},
   "source": [
    "## Construct golden positive reference set\n",
    "\n",
    "A golden reference set generally serves as a metric for evaluating the performance of a method. However, we could also use it to transform the scores obtained from different algorithms to a same basis for fair comparison and data integration. Generally, we want to re-weight the original scores into the likelihoods that an interaction occurs by calculating the fraction of interactions with a particular score appear in the golden reference set. Therefore, using the same  golden reference set allows us to standardized the heterogeneous scores obtained from different algorithms. This is also the basic principle behind the Bayesian-based data integration.\n",
    "\n",
    "We followed the existing practice of constructing a golden positive set by combining manually curated interactions and protein complexes. After the compilation, we then removed protein pairs that could not form direct binding. The following code blocks show the procedure."
   ]
  },
  {
   "cell_type": "markdown",
   "metadata": {},
   "source": [
    "### Combined manually curated interactions\n",
    "\n",
    "We first combine interactions from manually curated data sources."
   ]
  },
  {
   "cell_type": "code",
   "execution_count": 14,
   "metadata": {
    "ExecuteTime": {
     "end_time": "2017-11-25T14:58:04.195076Z",
     "start_time": "2017-11-25T14:57:54.212963Z"
    }
   },
   "outputs": [
    {
     "name": "stdout",
     "output_type": "stream",
     "text": [
      "Combining interactions in datasets...\n",
      "...Processing kegg\n",
      "...Processing trip\n",
      "...Processing spike\n",
      "...Processing pdzbase\n",
      "...Processing litbm\n",
      "...Processing ppep\n",
      "...Processing htridb\n",
      "...Processing matrixdb\n",
      "...Processing synsysnet\n",
      "...Processing tcof\n",
      "...Processing deathdomain\n",
      "...Processing signalink\n",
      "...Processing innatedb\n",
      "...Processing cider\n",
      "...Processing reactome\n",
      "...Processing signor\n",
      "Total number of interaction processed: 366878\n",
      "Total number of unique interactions: 266305\n"
     ]
    }
   ],
   "source": [
    "\"\"\"build manually curated human interactions\"\"\"\n",
    "datasets = ['kegg', 'trip', 'spike', 'pdzbase', 'litbm', \"ppep\",\n",
    "            'htridb', 'matrixdb', 'synsysnet', 'tcof', 'deathdomain', \n",
    "            'signalink', 'innatedb', 'cider', 'reactome', 'signor']\n",
    "\n",
    "input_files = []\n",
    "\n",
    "for ds in datasets:\n",
    "    input_files.append(os.path.join(map_directory, 'interaction.' + ds + '.uniprot'))\n",
    "    \n",
    "output_file = os.path.join(map_directory, 'interaction.manual_curated.uniprot')\n",
    "\n",
    "misc.combine_interaction_datasets(input_files, output_file, hgnc['uniprot'])\n"
   ]
  },
  {
   "cell_type": "markdown",
   "metadata": {},
   "source": [
    "### Build pair-wise associations from protein complexes\n",
    "\n",
    "Next, we build pair-wise associations from protein complexes in various databases."
   ]
  },
  {
   "cell_type": "code",
   "execution_count": 15,
   "metadata": {
    "ExecuteTime": {
     "end_time": "2017-11-25T14:58:04.667547Z",
     "start_time": "2017-11-25T14:58:04.197543Z"
    }
   },
   "outputs": [
    {
     "name": "stdout",
     "output_type": "stream",
     "text": [
      "Combining interactions in datasets...\n",
      "...Processing corum\n",
      "...Processing hprd\n",
      "...Processing humancyc\n",
      "...Processing hupa\n",
      "...Processing intact\n",
      "...Processing signor\n",
      "Total number of interaction processed: 64937\n",
      "Total number of unique interactions: 33362\n"
     ]
    }
   ],
   "source": [
    "\"\"\"build functional associations from pathway collections\"\"\"\n",
    "datasets = [\n",
    "    ('complex', 'corum'),\n",
    "    ('complex', 'hprd'),\n",
    "    ('complex', 'humancyc'),\n",
    "    ('complex', 'hupa'),\n",
    "    ('complex', 'intact'),\n",
    "    ('complex', 'signor')\n",
    "]\n",
    "\n",
    "input_files = []\n",
    "\n",
    "for ds in datasets:\n",
    "    dtype, db = ds\n",
    "    input_files.append(os.path.join(map_directory, dtype + '.' + db + '.uniprot'))\n",
    "\n",
    "output_file = os.path.join(map_directory, 'association.complex.uniprot')\n",
    "\n",
    "misc.build_pairwise_from_profile(input_files, output_file, hgnc['uniprot'], '9606')\n"
   ]
  },
  {
   "cell_type": "markdown",
   "metadata": {},
   "source": [
    "### Compile manually curated non-interacting interactions\n",
    "\n",
    "Similarly, we compiled a set of non-interacting interactions from the manually curated databases."
   ]
  },
  {
   "cell_type": "code",
   "execution_count": 16,
   "metadata": {
    "ExecuteTime": {
     "end_time": "2017-11-25T14:58:04.734249Z",
     "start_time": "2017-11-25T14:58:04.669804Z"
    }
   },
   "outputs": [
    {
     "name": "stdout",
     "output_type": "stream",
     "text": [
      "Combining interactions in datasets...\n",
      "...Processing negatome\n",
      "...Processing cider\n",
      "...Processing intact\n",
      "Total number of interaction processed: 2471\n",
      "Total number of unique interactions: 2468\n"
     ]
    }
   ],
   "source": [
    "\"\"\"build the negative interactome from Negatome and CiDER\"\"\"\n",
    "datasets = ['negatome', 'cider', 'intact']\n",
    "\n",
    "input_files = []\n",
    "\n",
    "for ds in datasets:\n",
    "    input_files.append(os.path.join(map_directory, 'notinteraction.' + ds + '.uniprot'))\n",
    "    \n",
    "output_file = os.path.join(map_directory, 'notinteraction.manual_curated.uniprot')\n",
    "\n",
    "misc.combine_interaction_datasets(input_files, output_file, hgnc['uniprot'])"
   ]
  },
  {
   "cell_type": "markdown",
   "metadata": {},
   "source": [
    "### Build a golden positive set by combining interacting pairs from manually curated interactions and protein-complexes\n",
    "\n",
    "Finally, we combined the manually curated interactions and protein complex pairs, and removed any non-interacting interactions to build the final golden positive set."
   ]
  },
  {
   "cell_type": "code",
   "execution_count": 17,
   "metadata": {
    "ExecuteTime": {
     "end_time": "2017-11-25T14:58:05.924569Z",
     "start_time": "2017-11-25T14:58:04.735963Z"
    }
   },
   "outputs": [
    {
     "name": "stdout",
     "output_type": "stream",
     "text": [
      "Processing interaction.manual_curated.uniprot\n",
      "Processing association.complex.uniprot\n",
      "Total number of interaction processed: 299667\n",
      "Total number of unique interactions: 291969\n",
      "Loading negative file notinteraction.manual_curated.uniprot\n",
      "Number of not interactions loaded: 2468\n",
      "Total number of interactions checked: 291969\n",
      "Total number of not interactions removed: 773\n",
      "Total number of interactions considered as golden positives: 291196\n"
     ]
    }
   ],
   "source": [
    "input_files = [\n",
    "    os.path.join(map_directory, 'interaction.manual_curated.uniprot'),\n",
    "    os.path.join(map_directory, 'association.complex.uniprot')\n",
    "]\n",
    "\n",
    "output_file = os.path.join(final_directory, 'goldenset.positive.uniprot')\n",
    "negative_file = os.path.join(map_directory, 'notinteraction.manual_curated.uniprot')\n",
    "misc.build_golden_positive_set(input_files, output_file, negative_file)"
   ]
  },
  {
   "cell_type": "markdown",
   "metadata": {},
   "source": [
    "## Calculate the likelihood ratio for each resources\n",
    "\n",
    "We can estimate the likelihood ratio for a particular score by calculating the fraction of interactions with that score appear in the golden positive and negative sets. However, the raw scores generated by the scoring methods may not be discrete. Furthermore, these scores differ in their range, scale and distribution as shown in the following example."
   ]
  },
  {
   "cell_type": "markdown",
   "metadata": {},
   "source": [
    "### Check the score distribution of each dataset"
   ]
  },
  {
   "cell_type": "code",
   "execution_count": 18,
   "metadata": {
    "ExecuteTime": {
     "end_time": "2017-11-25T14:58:11.054041Z",
     "start_time": "2017-11-25T14:58:05.926876Z"
    }
   },
   "outputs": [
    {
     "name": "stdout",
     "output_type": "stream",
     "text": [
      "Publication\n",
      "Min: 1.0\n",
      "Max: 412.0\n"
     ]
    },
    {
     "data": {
      "image/png": "[encoded data removed]",
      "text/plain": [
       "<matplotlib.figure.Figure at 0x7f5c971bb748>"
      ]
     },
     "metadata": {},
     "output_type": "display_data"
    },
    {
     "name": "stdout",
     "output_type": "stream",
     "text": [
      "\n",
      "ComPPI\n",
      "Min: 0.0\n",
      "Max: 1.0\n"
     ]
    },
    {
     "data": {
      "image/png": "[encoded data removed]",
      "text/plain": [
       "<matplotlib.figure.Figure at 0x7f5c974f8d68>"
      ]
     },
     "metadata": {},
     "output_type": "display_data"
    },
    {
     "name": "stdout",
     "output_type": "stream",
     "text": [
      "\n",
      "CPDB\n",
      "Min: 0.00373759\n",
      "Max: 1.0\n"
     ]
    },
    {
     "data": {
      "image/png": "[encoded data removed]",
      "text/plain": [
       "<matplotlib.figure.Figure at 0x7f5c9b171f98>"
      ]
     },
     "metadata": {},
     "output_type": "display_data"
    },
    {
     "name": "stdout",
     "output_type": "stream",
     "text": [
      "\n",
      "FunCoup\n",
      "Min: 0.1\n",
      "Max: 1.0\n"
     ]
    },
    {
     "data": {
      "image/png": "[encoded data removed]",
      "text/plain": [
       "<matplotlib.figure.Figure at 0x7f5c9b862fd0>"
      ]
     },
     "metadata": {},
     "output_type": "display_data"
    },
    {
     "name": "stdout",
     "output_type": "stream",
     "text": [
      "\n",
      "GeneMANIA\n",
      "Min: 0.00018\n",
      "Max: 1.0\n"
     ]
    },
    {
     "data": {
      "image/png": "[encoded data removed]",
      "text/plain": [
       "<matplotlib.figure.Figure at 0x7f5c99406470>"
      ]
     },
     "metadata": {},
     "output_type": "display_data"
    },
    {
     "name": "stdout",
     "output_type": "stream",
     "text": [
      "\n",
      "HIPPIE\n",
      "Min: 0.0\n",
      "Max: 1.0\n"
     ]
    },
    {
     "data": {
      "image/png": "[encoded data removed]",
      "text/plain": [
       "<matplotlib.figure.Figure at 0x7f5c9aaf46d8>"
      ]
     },
     "metadata": {},
     "output_type": "display_data"
    },
    {
     "name": "stdout",
     "output_type": "stream",
     "text": [
      "\n",
      "HumanNET\n",
      "Min: 0.409053285915692\n",
      "Max: 4.25685629760062\n"
     ]
    },
    {
     "data": {
      "image/png": "[encoded data removed]",
      "text/plain": [
       "<matplotlib.figure.Figure at 0x7f5c9b60e390>"
      ]
     },
     "metadata": {},
     "output_type": "display_data"
    },
    {
     "name": "stdout",
     "output_type": "stream",
     "text": [
      "\n",
      "InBioMap\n",
      "Min: 0.139\n",
      "Max: 1.0\n"
     ]
    },
    {
     "data": {
      "image/png": "[encoded data removed]",
      "text/plain": [
       "<matplotlib.figure.Figure at 0x7f5c99465208>"
      ]
     },
     "metadata": {},
     "output_type": "display_data"
    },
    {
     "name": "stdout",
     "output_type": "stream",
     "text": [
      "\n",
      "STRING\n",
      "Min: 0.36\n",
      "Max: 0.999\n"
     ]
    },
    {
     "data": {
      "image/png": "[encoded data removed]",
      "text/plain": [
       "<matplotlib.figure.Figure at 0x7f5c9aa6add8>"
      ]
     },
     "metadata": {},
     "output_type": "display_data"
    },
    {
     "name": "stdout",
     "output_type": "stream",
     "text": [
      "\n"
     ]
    }
   ],
   "source": [
    "datasets = ['Publication', 'ComPPI', 'CPDB', 'FunCoup', 'GeneMANIA', \n",
    "            'HIPPIE', 'HumanNET', 'InBioMap', 'STRING']\n",
    "\n",
    "for ds in datasets:\n",
    "    scores = []\n",
    "    input_file = os.path.join(final_directory, 'score.' + ds.lower())\n",
    "    with open(input_file) as ifh:\n",
    "        for line in ifh:\n",
    "            col = line.strip().split('\\t')\n",
    "            scores.append(float(col[2]))\n",
    "    print(ds)\n",
    "    print('Min:', min(scores))\n",
    "    print('Max:', max(scores))\n",
    "   \n",
    "    plt.hist(scores, bins=20)\n",
    "    plt.title('Score distribution - ' + ds)\n",
    "    plt.show()\n",
    "    print()\n",
    "    "
   ]
  },
  {
   "cell_type": "markdown",
   "metadata": {
    "collapsed": true
   },
   "source": [
    "### Calculate the likelihood ratio\n",
    "\n",
    "As shown in above example, we need a way to group the interactions with similar scores together for each algorithm. For CPDB, FunCoup, GeneMANIA, HIPPIE, InBIoMap, and STRING, we split the scores evenly into 10 bins between 0 and 1. For HumanNet, the scores are normalized to range between 0 and 1, and grouped into 10 bins. For the publication count, the following bins were used, 1, 2-3, 4-5, 6-7, 8-9, 10-14, 15-19, >= 20.\n",
    "\n",
    "Given that the true golden positive set is unknown, the collected golden positives might still contain noises. Therefore, we randomly sampled 90% of the complied golden positives as the golden positive set. Similarly, the true golden negative set is also unknown. Many existing studies used incompatible biological information to generate golden negative sets. For example, using protein pairs co-localized to distinct cellular compartments as the golden negative set. However, the constructed golden negative set is biased toward a particular form of negative interactions. Furthermore, it excludes all negative interactions co-localized to the same compartment or annotation.\n",
    "\n",
    "The true negative space is significantly larger than the true positive space. Therefore, the chance of randomly select a true interaction from the complete space is very small. Based on this assumption, we generated a randomized background of size 100 times the randomly sampled golden positive set as the golden negative set."
   ]
  },
  {
   "cell_type": "code",
   "execution_count": 19,
   "metadata": {
    "ExecuteTime": {
     "end_time": "2017-11-25T15:29:07.789523Z",
     "start_time": "2017-11-25T14:58:11.056696Z"
    }
   },
   "outputs": [
    {
     "name": "stdout",
     "output_type": "stream",
     "text": [
      "Calculationg likelihood ratio - Publication\n",
      "Calculationg likelihood ratio - CPDB\n",
      "Calculationg likelihood ratio - ComPPI\n",
      "Calculationg likelihood ratio - FunCoup\n",
      "Calculationg likelihood ratio - GeneMANIA\n",
      "Calculationg likelihood ratio - HIPPIE\n",
      "Calculationg likelihood ratio - HumanNET\n",
      "Calculationg likelihood ratio - InBioMap\n",
      "Calculationg likelihood ratio - STRING\n"
     ]
    }
   ],
   "source": [
    "from src import likelihood_ratio\n",
    "\n",
    "lr_directory = os.path.join(project_directory, 'results/lr')\n",
    "if not os.path.isdir(lr_directory):\n",
    "    os.makedirs(lr_directory)\n",
    "    \n",
    "positive_file = os.path.join(final_directory, 'goldenset.positive.uniprot')\n",
    "positive_sample_size = '90' # use 90% of the compiled golden positive set\n",
    "negative_sample_size = '100' # generate the 100x positive goldenset positive\n",
    "\n",
    "datasets = [('Publication', '2'), # publication count bins\n",
    "            ('CPDB', '1'), # 10 bins between 0 and 1\n",
    "            ('ComPPI', '1'),\n",
    "            ('FunCoup', '1'), \n",
    "            ('GeneMANIA', '1'), \n",
    "            ('HIPPIE', '1'), \n",
    "            ('HumanNET', '4'), # normalized to 0 and 1 and grouped into 10 bins\n",
    "            ('InBioMap', '1'), \n",
    "            ('STRING', '1')]\n",
    "\n",
    "random_seed = '103819834'\n",
    "for ds in datasets:\n",
    "    fname, mode = ds\n",
    "    print('Calculationg likelihood ratio -', fname)\n",
    "    score_file = os.path.join(final_directory, 'score.' + fname.lower())\n",
    "    output_file = os.path.join(lr_directory, 'likelihood.' + fname.lower())\n",
    "    args = [positive_file,\n",
    "            positive_sample_size,\n",
    "            score_file,\n",
    "            output_file,\n",
    "            random_seed,\n",
    "            negative_sample_size,\n",
    "            mode]\n",
    "    likelihood_ratio.output_likelihood_ratio(args)"
   ]
  },
  {
   "cell_type": "markdown",
   "metadata": {},
   "source": [
    "### Display the calculated likelihood ratios\n",
    "\n",
    "Generally, we would expect the higher the scores, the higher the corresponding likelihood ratios. This is generally true for most of the cases as shown below. The estimation of the likelihood ratio provides a means for users to select the high confidence interactions for data analysis. Generally, users should compile a golden positive set that is relevant to their study. After re-weighting, users can then use interactions with a particular likelihood ratio cutoff as the high confidence set."
   ]
  },
  {
   "cell_type": "code",
   "execution_count": 20,
   "metadata": {
    "ExecuteTime": {
     "end_time": "2017-11-25T15:29:09.613527Z",
     "start_time": "2017-11-25T15:29:07.793947Z"
    }
   },
   "outputs": [
    {
     "name": "stdout",
     "output_type": "stream",
     "text": [
      "Publication\n"
     ]
    },
    {
     "data": {
      "text/html": [
       "<div>\n",
       "<style>\n",
       "    .dataframe thead tr:only-child th {\n",
       "        text-align: right;\n",
       "    }\n",
       "\n",
       "    .dataframe thead th {\n",
       "        text-align: left;\n",
       "    }\n",
       "\n",
       "    .dataframe tbody tr th {\n",
       "        vertical-align: top;\n",
       "    }\n",
       "</style>\n",
       "<table border=\"1\" class=\"dataframe\">\n",
       "  <thead>\n",
       "    <tr style=\"text-align: right;\">\n",
       "      <th></th>\n",
       "      <th>Number of positives</th>\n",
       "      <th>Number of negatives</th>\n",
       "      <th>P(bin|pos)</th>\n",
       "      <th>P(bin|neg)</th>\n",
       "      <th>Likelihood Ratio</th>\n",
       "    </tr>\n",
       "  </thead>\n",
       "  <tbody>\n",
       "    <tr>\n",
       "      <th>1 -   1</th>\n",
       "      <td>149139</td>\n",
       "      <td>33037</td>\n",
       "      <td>0.615890</td>\n",
       "      <td>0.831287</td>\n",
       "      <td>0.740888</td>\n",
       "    </tr>\n",
       "    <tr>\n",
       "      <th>2 -   3</th>\n",
       "      <td>76296</td>\n",
       "      <td>5907</td>\n",
       "      <td>0.315075</td>\n",
       "      <td>0.148634</td>\n",
       "      <td>2.119808</td>\n",
       "    </tr>\n",
       "    <tr>\n",
       "      <th>4 -   5</th>\n",
       "      <td>9829</td>\n",
       "      <td>435</td>\n",
       "      <td>0.040590</td>\n",
       "      <td>0.010946</td>\n",
       "      <td>3.708359</td>\n",
       "    </tr>\n",
       "    <tr>\n",
       "      <th>6 -   7</th>\n",
       "      <td>3126</td>\n",
       "      <td>181</td>\n",
       "      <td>0.012909</td>\n",
       "      <td>0.004554</td>\n",
       "      <td>2.834471</td>\n",
       "    </tr>\n",
       "    <tr>\n",
       "      <th>8 -   9</th>\n",
       "      <td>1403</td>\n",
       "      <td>100</td>\n",
       "      <td>0.005794</td>\n",
       "      <td>0.002516</td>\n",
       "      <td>2.302604</td>\n",
       "    </tr>\n",
       "    <tr>\n",
       "      <th>10 -  14</th>\n",
       "      <td>1404</td>\n",
       "      <td>51</td>\n",
       "      <td>0.005798</td>\n",
       "      <td>0.001283</td>\n",
       "      <td>4.518129</td>\n",
       "    </tr>\n",
       "    <tr>\n",
       "      <th>15 -  19</th>\n",
       "      <td>517</td>\n",
       "      <td>8</td>\n",
       "      <td>0.002135</td>\n",
       "      <td>0.000201</td>\n",
       "      <td>10.606259</td>\n",
       "    </tr>\n",
       "    <tr>\n",
       "      <th>&gt;= 20</th>\n",
       "      <td>438</td>\n",
       "      <td>23</td>\n",
       "      <td>0.001809</td>\n",
       "      <td>0.000579</td>\n",
       "      <td>3.125417</td>\n",
       "    </tr>\n",
       "  </tbody>\n",
       "</table>\n",
       "</div>"
      ],
      "text/plain": [
       "          Number of positives  Number of negatives  P(bin|pos)  P(bin|neg)  \\\n",
       "1 -   1                149139                33037    0.615890    0.831287   \n",
       "2 -   3                 76296                 5907    0.315075    0.148634   \n",
       "4 -   5                  9829                  435    0.040590    0.010946   \n",
       "6 -   7                  3126                  181    0.012909    0.004554   \n",
       "8 -   9                  1403                  100    0.005794    0.002516   \n",
       "10 -  14                 1404                   51    0.005798    0.001283   \n",
       "15 -  19                  517                    8    0.002135    0.000201   \n",
       ">= 20                     438                   23    0.001809    0.000579   \n",
       "\n",
       "          Likelihood Ratio  \n",
       "1 -   1           0.740888  \n",
       "2 -   3           2.119808  \n",
       "4 -   5           3.708359  \n",
       "6 -   7           2.834471  \n",
       "8 -   9           2.302604  \n",
       "10 -  14          4.518129  \n",
       "15 -  19         10.606259  \n",
       ">= 20             3.125417  "
      ]
     },
     "metadata": {},
     "output_type": "display_data"
    },
    {
     "name": "stdout",
     "output_type": "stream",
     "text": [
      "\n"
     ]
    },
    {
     "data": {
      "image/png": "[encoded data removed]",
      "text/plain": [
       "<matplotlib.figure.Figure at 0x7f5c9af8b2b0>"
      ]
     },
     "metadata": {},
     "output_type": "display_data"
    },
    {
     "name": "stdout",
     "output_type": "stream",
     "text": [
      "\n",
      "CPDB\n"
     ]
    },
    {
     "data": {
      "text/html": [
       "<div>\n",
       "<style>\n",
       "    .dataframe thead tr:only-child th {\n",
       "        text-align: right;\n",
       "    }\n",
       "\n",
       "    .dataframe thead th {\n",
       "        text-align: left;\n",
       "    }\n",
       "\n",
       "    .dataframe tbody tr th {\n",
       "        vertical-align: top;\n",
       "    }\n",
       "</style>\n",
       "<table border=\"1\" class=\"dataframe\">\n",
       "  <thead>\n",
       "    <tr style=\"text-align: right;\">\n",
       "      <th></th>\n",
       "      <th>Number of positives</th>\n",
       "      <th>Number of negatives</th>\n",
       "      <th>P(bin|pos)</th>\n",
       "      <th>P(bin|neg)</th>\n",
       "      <th>Likelihood Ratio</th>\n",
       "    </tr>\n",
       "  </thead>\n",
       "  <tbody>\n",
       "    <tr>\n",
       "      <th>[ 0.00,  0.10)</th>\n",
       "      <td>14387</td>\n",
       "      <td>5866</td>\n",
       "      <td>0.148049</td>\n",
       "      <td>0.238001</td>\n",
       "      <td>0.622055</td>\n",
       "    </tr>\n",
       "    <tr>\n",
       "      <th>[ 0.10,  0.20)</th>\n",
       "      <td>2753</td>\n",
       "      <td>811</td>\n",
       "      <td>0.028330</td>\n",
       "      <td>0.032905</td>\n",
       "      <td>0.860966</td>\n",
       "    </tr>\n",
       "    <tr>\n",
       "      <th>[ 0.20,  0.30)</th>\n",
       "      <td>2539</td>\n",
       "      <td>823</td>\n",
       "      <td>0.026128</td>\n",
       "      <td>0.033391</td>\n",
       "      <td>0.782462</td>\n",
       "    </tr>\n",
       "    <tr>\n",
       "      <th>[ 0.30,  0.40)</th>\n",
       "      <td>2171</td>\n",
       "      <td>718</td>\n",
       "      <td>0.022341</td>\n",
       "      <td>0.029131</td>\n",
       "      <td>0.766895</td>\n",
       "    </tr>\n",
       "    <tr>\n",
       "      <th>[ 0.40,  0.50)</th>\n",
       "      <td>2233</td>\n",
       "      <td>820</td>\n",
       "      <td>0.022979</td>\n",
       "      <td>0.033270</td>\n",
       "      <td>0.690678</td>\n",
       "    </tr>\n",
       "    <tr>\n",
       "      <th>[ 0.50,  0.60)</th>\n",
       "      <td>3925</td>\n",
       "      <td>1425</td>\n",
       "      <td>0.040390</td>\n",
       "      <td>0.057816</td>\n",
       "      <td>0.698595</td>\n",
       "    </tr>\n",
       "    <tr>\n",
       "      <th>[ 0.60,  0.70)</th>\n",
       "      <td>2902</td>\n",
       "      <td>974</td>\n",
       "      <td>0.029863</td>\n",
       "      <td>0.039518</td>\n",
       "      <td>0.755682</td>\n",
       "    </tr>\n",
       "    <tr>\n",
       "      <th>[ 0.70,  0.80)</th>\n",
       "      <td>3441</td>\n",
       "      <td>1050</td>\n",
       "      <td>0.035410</td>\n",
       "      <td>0.042602</td>\n",
       "      <td>0.831182</td>\n",
       "    </tr>\n",
       "    <tr>\n",
       "      <th>[ 0.80,  0.90)</th>\n",
       "      <td>5507</td>\n",
       "      <td>1644</td>\n",
       "      <td>0.056670</td>\n",
       "      <td>0.066702</td>\n",
       "      <td>0.849599</td>\n",
       "    </tr>\n",
       "    <tr>\n",
       "      <th>[ 0.90,  1.00]</th>\n",
       "      <td>57319</td>\n",
       "      <td>10516</td>\n",
       "      <td>0.589841</td>\n",
       "      <td>0.426665</td>\n",
       "      <td>1.382447</td>\n",
       "    </tr>\n",
       "  </tbody>\n",
       "</table>\n",
       "</div>"
      ],
      "text/plain": [
       "                Number of positives  Number of negatives  P(bin|pos)  \\\n",
       "[ 0.00,  0.10)                14387                 5866    0.148049   \n",
       "[ 0.10,  0.20)                 2753                  811    0.028330   \n",
       "[ 0.20,  0.30)                 2539                  823    0.026128   \n",
       "[ 0.30,  0.40)                 2171                  718    0.022341   \n",
       "[ 0.40,  0.50)                 2233                  820    0.022979   \n",
       "[ 0.50,  0.60)                 3925                 1425    0.040390   \n",
       "[ 0.60,  0.70)                 2902                  974    0.029863   \n",
       "[ 0.70,  0.80)                 3441                 1050    0.035410   \n",
       "[ 0.80,  0.90)                 5507                 1644    0.056670   \n",
       "[ 0.90,  1.00]                57319                10516    0.589841   \n",
       "\n",
       "                P(bin|neg)  Likelihood Ratio  \n",
       "[ 0.00,  0.10)    0.238001          0.622055  \n",
       "[ 0.10,  0.20)    0.032905          0.860966  \n",
       "[ 0.20,  0.30)    0.033391          0.782462  \n",
       "[ 0.30,  0.40)    0.029131          0.766895  \n",
       "[ 0.40,  0.50)    0.033270          0.690678  \n",
       "[ 0.50,  0.60)    0.057816          0.698595  \n",
       "[ 0.60,  0.70)    0.039518          0.755682  \n",
       "[ 0.70,  0.80)    0.042602          0.831182  \n",
       "[ 0.80,  0.90)    0.066702          0.849599  \n",
       "[ 0.90,  1.00]    0.426665          1.382447  "
      ]
     },
     "metadata": {},
     "output_type": "display_data"
    },
    {
     "name": "stdout",
     "output_type": "stream",
     "text": [
      "\n"
     ]
    },
    {
     "data": {
      "image/png": "[encoded data removed]",
      "text/plain": [
       "<matplotlib.figure.Figure at 0x7f5c97270c88>"
      ]
     },
     "metadata": {},
     "output_type": "display_data"
    },
    {
     "name": "stdout",
     "output_type": "stream",
     "text": [
      "\n",
      "ComPPI\n"
     ]
    },
    {
     "data": {
      "text/html": [
       "<div>\n",
       "<style>\n",
       "    .dataframe thead tr:only-child th {\n",
       "        text-align: right;\n",
       "    }\n",
       "\n",
       "    .dataframe thead th {\n",
       "        text-align: left;\n",
       "    }\n",
       "\n",
       "    .dataframe tbody tr th {\n",
       "        vertical-align: top;\n",
       "    }\n",
       "</style>\n",
       "<table border=\"1\" class=\"dataframe\">\n",
       "  <thead>\n",
       "    <tr style=\"text-align: right;\">\n",
       "      <th></th>\n",
       "      <th>Number of positives</th>\n",
       "      <th>Number of negatives</th>\n",
       "      <th>P(bin|pos)</th>\n",
       "      <th>P(bin|neg)</th>\n",
       "      <th>Likelihood Ratio</th>\n",
       "    </tr>\n",
       "  </thead>\n",
       "  <tbody>\n",
       "    <tr>\n",
       "      <th>[ 0.00,  0.10)</th>\n",
       "      <td>2502</td>\n",
       "      <td>376</td>\n",
       "      <td>0.028536</td>\n",
       "      <td>0.042708</td>\n",
       "      <td>0.668158</td>\n",
       "    </tr>\n",
       "    <tr>\n",
       "      <th>[ 0.10,  0.20)</th>\n",
       "      <td>8</td>\n",
       "      <td>1</td>\n",
       "      <td>0.000091</td>\n",
       "      <td>0.000114</td>\n",
       "      <td>0.803285</td>\n",
       "    </tr>\n",
       "    <tr>\n",
       "      <th>[ 0.20,  0.30)</th>\n",
       "      <td>1064</td>\n",
       "      <td>141</td>\n",
       "      <td>0.012135</td>\n",
       "      <td>0.016015</td>\n",
       "      <td>0.757708</td>\n",
       "    </tr>\n",
       "    <tr>\n",
       "      <th>[ 0.30,  0.40)</th>\n",
       "      <td>36</td>\n",
       "      <td>8</td>\n",
       "      <td>0.000411</td>\n",
       "      <td>0.000909</td>\n",
       "      <td>0.451848</td>\n",
       "    </tr>\n",
       "    <tr>\n",
       "      <th>[ 0.40,  0.50)</th>\n",
       "      <td>266</td>\n",
       "      <td>28</td>\n",
       "      <td>0.003034</td>\n",
       "      <td>0.003180</td>\n",
       "      <td>0.953901</td>\n",
       "    </tr>\n",
       "    <tr>\n",
       "      <th>[ 0.50,  0.60)</th>\n",
       "      <td>499</td>\n",
       "      <td>58</td>\n",
       "      <td>0.005691</td>\n",
       "      <td>0.006588</td>\n",
       "      <td>0.863877</td>\n",
       "    </tr>\n",
       "    <tr>\n",
       "      <th>[ 0.60,  0.70)</th>\n",
       "      <td>2019</td>\n",
       "      <td>303</td>\n",
       "      <td>0.023027</td>\n",
       "      <td>0.034416</td>\n",
       "      <td>0.669073</td>\n",
       "    </tr>\n",
       "    <tr>\n",
       "      <th>[ 0.70,  0.80)</th>\n",
       "      <td>2940</td>\n",
       "      <td>392</td>\n",
       "      <td>0.033531</td>\n",
       "      <td>0.044525</td>\n",
       "      <td>0.753079</td>\n",
       "    </tr>\n",
       "    <tr>\n",
       "      <th>[ 0.80,  0.90)</th>\n",
       "      <td>3403</td>\n",
       "      <td>467</td>\n",
       "      <td>0.038812</td>\n",
       "      <td>0.053044</td>\n",
       "      <td>0.731686</td>\n",
       "    </tr>\n",
       "    <tr>\n",
       "      <th>[ 0.90,  1.00]</th>\n",
       "      <td>74943</td>\n",
       "      <td>7030</td>\n",
       "      <td>0.854733</td>\n",
       "      <td>0.798501</td>\n",
       "      <td>1.070423</td>\n",
       "    </tr>\n",
       "  </tbody>\n",
       "</table>\n",
       "</div>"
      ],
      "text/plain": [
       "                Number of positives  Number of negatives  P(bin|pos)  \\\n",
       "[ 0.00,  0.10)                 2502                  376    0.028536   \n",
       "[ 0.10,  0.20)                    8                    1    0.000091   \n",
       "[ 0.20,  0.30)                 1064                  141    0.012135   \n",
       "[ 0.30,  0.40)                   36                    8    0.000411   \n",
       "[ 0.40,  0.50)                  266                   28    0.003034   \n",
       "[ 0.50,  0.60)                  499                   58    0.005691   \n",
       "[ 0.60,  0.70)                 2019                  303    0.023027   \n",
       "[ 0.70,  0.80)                 2940                  392    0.033531   \n",
       "[ 0.80,  0.90)                 3403                  467    0.038812   \n",
       "[ 0.90,  1.00]                74943                 7030    0.854733   \n",
       "\n",
       "                P(bin|neg)  Likelihood Ratio  \n",
       "[ 0.00,  0.10)    0.042708          0.668158  \n",
       "[ 0.10,  0.20)    0.000114          0.803285  \n",
       "[ 0.20,  0.30)    0.016015          0.757708  \n",
       "[ 0.30,  0.40)    0.000909          0.451848  \n",
       "[ 0.40,  0.50)    0.003180          0.953901  \n",
       "[ 0.50,  0.60)    0.006588          0.863877  \n",
       "[ 0.60,  0.70)    0.034416          0.669073  \n",
       "[ 0.70,  0.80)    0.044525          0.753079  \n",
       "[ 0.80,  0.90)    0.053044          0.731686  \n",
       "[ 0.90,  1.00]    0.798501          1.070423  "
      ]
     },
     "metadata": {},
     "output_type": "display_data"
    },
    {
     "name": "stdout",
     "output_type": "stream",
     "text": [
      "\n"
     ]
    },
    {
     "data": {
      "image/png": "[encoded data removed]",
      "text/plain": [
       "<matplotlib.figure.Figure at 0x7f5c99703128>"
      ]
     },
     "metadata": {},
     "output_type": "display_data"
    },
    {
     "name": "stdout",
     "output_type": "stream",
     "text": [
      "\n",
      "FunCoup\n"
     ]
    },
    {
     "data": {
      "text/html": [
       "<div>\n",
       "<style>\n",
       "    .dataframe thead tr:only-child th {\n",
       "        text-align: right;\n",
       "    }\n",
       "\n",
       "    .dataframe thead th {\n",
       "        text-align: left;\n",
       "    }\n",
       "\n",
       "    .dataframe tbody tr th {\n",
       "        vertical-align: top;\n",
       "    }\n",
       "</style>\n",
       "<table border=\"1\" class=\"dataframe\">\n",
       "  <thead>\n",
       "    <tr style=\"text-align: right;\">\n",
       "      <th></th>\n",
       "      <th>Number of positives</th>\n",
       "      <th>Number of negatives</th>\n",
       "      <th>P(bin|pos)</th>\n",
       "      <th>P(bin|neg)</th>\n",
       "      <th>Likelihood Ratio</th>\n",
       "    </tr>\n",
       "  </thead>\n",
       "  <tbody>\n",
       "    <tr>\n",
       "      <th>[ 0.10,  0.20)</th>\n",
       "      <td>4779</td>\n",
       "      <td>4934</td>\n",
       "      <td>0.066573</td>\n",
       "      <td>0.082618</td>\n",
       "      <td>0.805796</td>\n",
       "    </tr>\n",
       "    <tr>\n",
       "      <th>[ 0.20,  0.30)</th>\n",
       "      <td>3433</td>\n",
       "      <td>3469</td>\n",
       "      <td>0.047823</td>\n",
       "      <td>0.058087</td>\n",
       "      <td>0.823298</td>\n",
       "    </tr>\n",
       "    <tr>\n",
       "      <th>[ 0.30,  0.40)</th>\n",
       "      <td>2846</td>\n",
       "      <td>2924</td>\n",
       "      <td>0.039646</td>\n",
       "      <td>0.048961</td>\n",
       "      <td>0.809739</td>\n",
       "    </tr>\n",
       "    <tr>\n",
       "      <th>[ 0.40,  0.50)</th>\n",
       "      <td>2663</td>\n",
       "      <td>2632</td>\n",
       "      <td>0.037096</td>\n",
       "      <td>0.044072</td>\n",
       "      <td>0.841730</td>\n",
       "    </tr>\n",
       "    <tr>\n",
       "      <th>[ 0.50,  0.60)</th>\n",
       "      <td>2729</td>\n",
       "      <td>2650</td>\n",
       "      <td>0.038016</td>\n",
       "      <td>0.044373</td>\n",
       "      <td>0.856732</td>\n",
       "    </tr>\n",
       "    <tr>\n",
       "      <th>[ 0.60,  0.70)</th>\n",
       "      <td>3027</td>\n",
       "      <td>3011</td>\n",
       "      <td>0.042167</td>\n",
       "      <td>0.050418</td>\n",
       "      <td>0.836352</td>\n",
       "    </tr>\n",
       "    <tr>\n",
       "      <th>[ 0.70,  0.80)</th>\n",
       "      <td>3552</td>\n",
       "      <td>3490</td>\n",
       "      <td>0.049480</td>\n",
       "      <td>0.058438</td>\n",
       "      <td>0.846710</td>\n",
       "    </tr>\n",
       "    <tr>\n",
       "      <th>[ 0.80,  0.90)</th>\n",
       "      <td>5332</td>\n",
       "      <td>5026</td>\n",
       "      <td>0.074276</td>\n",
       "      <td>0.084158</td>\n",
       "      <td>0.882582</td>\n",
       "    </tr>\n",
       "    <tr>\n",
       "      <th>[ 0.90,  1.00]</th>\n",
       "      <td>43425</td>\n",
       "      <td>31585</td>\n",
       "      <td>0.604923</td>\n",
       "      <td>0.528876</td>\n",
       "      <td>1.143790</td>\n",
       "    </tr>\n",
       "  </tbody>\n",
       "</table>\n",
       "</div>"
      ],
      "text/plain": [
       "                Number of positives  Number of negatives  P(bin|pos)  \\\n",
       "[ 0.10,  0.20)                 4779                 4934    0.066573   \n",
       "[ 0.20,  0.30)                 3433                 3469    0.047823   \n",
       "[ 0.30,  0.40)                 2846                 2924    0.039646   \n",
       "[ 0.40,  0.50)                 2663                 2632    0.037096   \n",
       "[ 0.50,  0.60)                 2729                 2650    0.038016   \n",
       "[ 0.60,  0.70)                 3027                 3011    0.042167   \n",
       "[ 0.70,  0.80)                 3552                 3490    0.049480   \n",
       "[ 0.80,  0.90)                 5332                 5026    0.074276   \n",
       "[ 0.90,  1.00]                43425                31585    0.604923   \n",
       "\n",
       "                P(bin|neg)  Likelihood Ratio  \n",
       "[ 0.10,  0.20)    0.082618          0.805796  \n",
       "[ 0.20,  0.30)    0.058087          0.823298  \n",
       "[ 0.30,  0.40)    0.048961          0.809739  \n",
       "[ 0.40,  0.50)    0.044072          0.841730  \n",
       "[ 0.50,  0.60)    0.044373          0.856732  \n",
       "[ 0.60,  0.70)    0.050418          0.836352  \n",
       "[ 0.70,  0.80)    0.058438          0.846710  \n",
       "[ 0.80,  0.90)    0.084158          0.882582  \n",
       "[ 0.90,  1.00]    0.528876          1.143790  "
      ]
     },
     "metadata": {},
     "output_type": "display_data"
    },
    {
     "name": "stdout",
     "output_type": "stream",
     "text": [
      "\n"
     ]
    },
    {
     "data": {
      "image/png": "[encoded data removed]",
      "text/plain": [
       "<matplotlib.figure.Figure at 0x7f5c972294e0>"
      ]
     },
     "metadata": {},
     "output_type": "display_data"
    },
    {
     "name": "stdout",
     "output_type": "stream",
     "text": [
      "\n",
      "GeneMANIA\n"
     ]
    },
    {
     "data": {
      "text/html": [
       "<div>\n",
       "<style>\n",
       "    .dataframe thead tr:only-child th {\n",
       "        text-align: right;\n",
       "    }\n",
       "\n",
       "    .dataframe thead th {\n",
       "        text-align: left;\n",
       "    }\n",
       "\n",
       "    .dataframe tbody tr th {\n",
       "        vertical-align: top;\n",
       "    }\n",
       "</style>\n",
       "<table border=\"1\" class=\"dataframe\">\n",
       "  <thead>\n",
       "    <tr style=\"text-align: right;\">\n",
       "      <th></th>\n",
       "      <th>Number of positives</th>\n",
       "      <th>Number of negatives</th>\n",
       "      <th>P(bin|pos)</th>\n",
       "      <th>P(bin|neg)</th>\n",
       "      <th>Likelihood Ratio</th>\n",
       "    </tr>\n",
       "  </thead>\n",
       "  <tbody>\n",
       "    <tr>\n",
       "      <th>[ 0.00,  0.10)</th>\n",
       "      <td>56207</td>\n",
       "      <td>18688</td>\n",
       "      <td>0.624044</td>\n",
       "      <td>0.732891</td>\n",
       "      <td>0.851482</td>\n",
       "    </tr>\n",
       "    <tr>\n",
       "      <th>[ 0.10,  0.20)</th>\n",
       "      <td>15334</td>\n",
       "      <td>3731</td>\n",
       "      <td>0.170247</td>\n",
       "      <td>0.146319</td>\n",
       "      <td>1.163531</td>\n",
       "    </tr>\n",
       "    <tr>\n",
       "      <th>[ 0.20,  0.30)</th>\n",
       "      <td>7467</td>\n",
       "      <td>1394</td>\n",
       "      <td>0.082903</td>\n",
       "      <td>0.054669</td>\n",
       "      <td>1.516461</td>\n",
       "    </tr>\n",
       "    <tr>\n",
       "      <th>[ 0.30,  0.40)</th>\n",
       "      <td>4054</td>\n",
       "      <td>702</td>\n",
       "      <td>0.045010</td>\n",
       "      <td>0.027530</td>\n",
       "      <td>1.634912</td>\n",
       "    </tr>\n",
       "    <tr>\n",
       "      <th>[ 0.40,  0.50)</th>\n",
       "      <td>2365</td>\n",
       "      <td>368</td>\n",
       "      <td>0.026258</td>\n",
       "      <td>0.014432</td>\n",
       "      <td>1.819412</td>\n",
       "    </tr>\n",
       "    <tr>\n",
       "      <th>[ 0.50,  0.60)</th>\n",
       "      <td>1591</td>\n",
       "      <td>249</td>\n",
       "      <td>0.017664</td>\n",
       "      <td>0.009765</td>\n",
       "      <td>1.808917</td>\n",
       "    </tr>\n",
       "    <tr>\n",
       "      <th>[ 0.60,  0.70)</th>\n",
       "      <td>946</td>\n",
       "      <td>129</td>\n",
       "      <td>0.010503</td>\n",
       "      <td>0.005059</td>\n",
       "      <td>2.076105</td>\n",
       "    </tr>\n",
       "    <tr>\n",
       "      <th>[ 0.70,  0.80)</th>\n",
       "      <td>876</td>\n",
       "      <td>94</td>\n",
       "      <td>0.009726</td>\n",
       "      <td>0.003686</td>\n",
       "      <td>2.638299</td>\n",
       "    </tr>\n",
       "    <tr>\n",
       "      <th>[ 0.80,  0.90)</th>\n",
       "      <td>458</td>\n",
       "      <td>58</td>\n",
       "      <td>0.005085</td>\n",
       "      <td>0.002275</td>\n",
       "      <td>2.235555</td>\n",
       "    </tr>\n",
       "    <tr>\n",
       "      <th>[ 0.90,  1.00]</th>\n",
       "      <td>771</td>\n",
       "      <td>86</td>\n",
       "      <td>0.008560</td>\n",
       "      <td>0.003373</td>\n",
       "      <td>2.538071</td>\n",
       "    </tr>\n",
       "  </tbody>\n",
       "</table>\n",
       "</div>"
      ],
      "text/plain": [
       "                Number of positives  Number of negatives  P(bin|pos)  \\\n",
       "[ 0.00,  0.10)                56207                18688    0.624044   \n",
       "[ 0.10,  0.20)                15334                 3731    0.170247   \n",
       "[ 0.20,  0.30)                 7467                 1394    0.082903   \n",
       "[ 0.30,  0.40)                 4054                  702    0.045010   \n",
       "[ 0.40,  0.50)                 2365                  368    0.026258   \n",
       "[ 0.50,  0.60)                 1591                  249    0.017664   \n",
       "[ 0.60,  0.70)                  946                  129    0.010503   \n",
       "[ 0.70,  0.80)                  876                   94    0.009726   \n",
       "[ 0.80,  0.90)                  458                   58    0.005085   \n",
       "[ 0.90,  1.00]                  771                   86    0.008560   \n",
       "\n",
       "                P(bin|neg)  Likelihood Ratio  \n",
       "[ 0.00,  0.10)    0.732891          0.851482  \n",
       "[ 0.10,  0.20)    0.146319          1.163531  \n",
       "[ 0.20,  0.30)    0.054669          1.516461  \n",
       "[ 0.30,  0.40)    0.027530          1.634912  \n",
       "[ 0.40,  0.50)    0.014432          1.819412  \n",
       "[ 0.50,  0.60)    0.009765          1.808917  \n",
       "[ 0.60,  0.70)    0.005059          2.076105  \n",
       "[ 0.70,  0.80)    0.003686          2.638299  \n",
       "[ 0.80,  0.90)    0.002275          2.235555  \n",
       "[ 0.90,  1.00]    0.003373          2.538071  "
      ]
     },
     "metadata": {},
     "output_type": "display_data"
    },
    {
     "name": "stdout",
     "output_type": "stream",
     "text": [
      "\n"
     ]
    },
    {
     "data": {
      "image/png": "[encoded data removed]",
      "text/plain": [
       "<matplotlib.figure.Figure at 0x7f5c9a6ad8d0>"
      ]
     },
     "metadata": {},
     "output_type": "display_data"
    },
    {
     "name": "stdout",
     "output_type": "stream",
     "text": [
      "\n",
      "HIPPIE\n"
     ]
    },
    {
     "data": {
      "text/html": [
       "<div>\n",
       "<style>\n",
       "    .dataframe thead tr:only-child th {\n",
       "        text-align: right;\n",
       "    }\n",
       "\n",
       "    .dataframe thead th {\n",
       "        text-align: left;\n",
       "    }\n",
       "\n",
       "    .dataframe tbody tr th {\n",
       "        vertical-align: top;\n",
       "    }\n",
       "</style>\n",
       "<table border=\"1\" class=\"dataframe\">\n",
       "  <thead>\n",
       "    <tr style=\"text-align: right;\">\n",
       "      <th></th>\n",
       "      <th>Number of positives</th>\n",
       "      <th>Number of negatives</th>\n",
       "      <th>P(bin|pos)</th>\n",
       "      <th>P(bin|neg)</th>\n",
       "      <th>Likelihood Ratio</th>\n",
       "    </tr>\n",
       "  </thead>\n",
       "  <tbody>\n",
       "    <tr>\n",
       "      <th>[ 0.00,  0.10)</th>\n",
       "      <td>2376</td>\n",
       "      <td>495</td>\n",
       "      <td>0.022416</td>\n",
       "      <td>0.015370</td>\n",
       "      <td>1.458454</td>\n",
       "    </tr>\n",
       "    <tr>\n",
       "      <th>[ 0.10,  0.20)</th>\n",
       "      <td>48</td>\n",
       "      <td>9</td>\n",
       "      <td>0.000453</td>\n",
       "      <td>0.000279</td>\n",
       "      <td>1.620504</td>\n",
       "    </tr>\n",
       "    <tr>\n",
       "      <th>[ 0.20,  0.30)</th>\n",
       "      <td>24</td>\n",
       "      <td>5</td>\n",
       "      <td>0.000226</td>\n",
       "      <td>0.000155</td>\n",
       "      <td>1.458454</td>\n",
       "    </tr>\n",
       "    <tr>\n",
       "      <th>[ 0.30,  0.40)</th>\n",
       "      <td>2</td>\n",
       "      <td>1</td>\n",
       "      <td>0.000019</td>\n",
       "      <td>0.000031</td>\n",
       "      <td>0.607689</td>\n",
       "    </tr>\n",
       "    <tr>\n",
       "      <th>[ 0.40,  0.50)</th>\n",
       "      <td>3698</td>\n",
       "      <td>4136</td>\n",
       "      <td>0.034888</td>\n",
       "      <td>0.128423</td>\n",
       "      <td>0.271668</td>\n",
       "    </tr>\n",
       "    <tr>\n",
       "      <th>[ 0.50,  0.60)</th>\n",
       "      <td>11360</td>\n",
       "      <td>1349</td>\n",
       "      <td>0.107175</td>\n",
       "      <td>0.041887</td>\n",
       "      <td>2.558691</td>\n",
       "    </tr>\n",
       "    <tr>\n",
       "      <th>[ 0.60,  0.70)</th>\n",
       "      <td>41877</td>\n",
       "      <td>19866</td>\n",
       "      <td>0.395085</td>\n",
       "      <td>0.616842</td>\n",
       "      <td>0.640496</td>\n",
       "    </tr>\n",
       "    <tr>\n",
       "      <th>[ 0.70,  0.80)</th>\n",
       "      <td>28921</td>\n",
       "      <td>5656</td>\n",
       "      <td>0.272852</td>\n",
       "      <td>0.175619</td>\n",
       "      <td>1.553658</td>\n",
       "    </tr>\n",
       "    <tr>\n",
       "      <th>[ 0.80,  0.90)</th>\n",
       "      <td>13832</td>\n",
       "      <td>611</td>\n",
       "      <td>0.130497</td>\n",
       "      <td>0.018972</td>\n",
       "      <td>6.878523</td>\n",
       "    </tr>\n",
       "    <tr>\n",
       "      <th>[ 0.90,  1.00]</th>\n",
       "      <td>3857</td>\n",
       "      <td>78</td>\n",
       "      <td>0.036389</td>\n",
       "      <td>0.002422</td>\n",
       "      <td>15.024722</td>\n",
       "    </tr>\n",
       "  </tbody>\n",
       "</table>\n",
       "</div>"
      ],
      "text/plain": [
       "                Number of positives  Number of negatives  P(bin|pos)  \\\n",
       "[ 0.00,  0.10)                 2376                  495    0.022416   \n",
       "[ 0.10,  0.20)                   48                    9    0.000453   \n",
       "[ 0.20,  0.30)                   24                    5    0.000226   \n",
       "[ 0.30,  0.40)                    2                    1    0.000019   \n",
       "[ 0.40,  0.50)                 3698                 4136    0.034888   \n",
       "[ 0.50,  0.60)                11360                 1349    0.107175   \n",
       "[ 0.60,  0.70)                41877                19866    0.395085   \n",
       "[ 0.70,  0.80)                28921                 5656    0.272852   \n",
       "[ 0.80,  0.90)                13832                  611    0.130497   \n",
       "[ 0.90,  1.00]                 3857                   78    0.036389   \n",
       "\n",
       "                P(bin|neg)  Likelihood Ratio  \n",
       "[ 0.00,  0.10)    0.015370          1.458454  \n",
       "[ 0.10,  0.20)    0.000279          1.620504  \n",
       "[ 0.20,  0.30)    0.000155          1.458454  \n",
       "[ 0.30,  0.40)    0.000031          0.607689  \n",
       "[ 0.40,  0.50)    0.128423          0.271668  \n",
       "[ 0.50,  0.60)    0.041887          2.558691  \n",
       "[ 0.60,  0.70)    0.616842          0.640496  \n",
       "[ 0.70,  0.80)    0.175619          1.553658  \n",
       "[ 0.80,  0.90)    0.018972          6.878523  \n",
       "[ 0.90,  1.00]    0.002422         15.024722  "
      ]
     },
     "metadata": {},
     "output_type": "display_data"
    },
    {
     "name": "stdout",
     "output_type": "stream",
     "text": [
      "\n"
     ]
    },
    {
     "data": {
      "image/png": "[encoded data removed]",
      "text/plain": [
       "<matplotlib.figure.Figure at 0x7f5c9a5c6320>"
      ]
     },
     "metadata": {},
     "output_type": "display_data"
    },
    {
     "name": "stdout",
     "output_type": "stream",
     "text": [
      "\n",
      "HumanNET\n"
     ]
    },
    {
     "data": {
      "text/html": [
       "<div>\n",
       "<style>\n",
       "    .dataframe thead tr:only-child th {\n",
       "        text-align: right;\n",
       "    }\n",
       "\n",
       "    .dataframe thead th {\n",
       "        text-align: left;\n",
       "    }\n",
       "\n",
       "    .dataframe tbody tr th {\n",
       "        vertical-align: top;\n",
       "    }\n",
       "</style>\n",
       "<table border=\"1\" class=\"dataframe\">\n",
       "  <thead>\n",
       "    <tr style=\"text-align: right;\">\n",
       "      <th></th>\n",
       "      <th>Number of positives</th>\n",
       "      <th>Number of negatives</th>\n",
       "      <th>P(bin|pos)</th>\n",
       "      <th>P(bin|neg)</th>\n",
       "      <th>Likelihood Ratio</th>\n",
       "    </tr>\n",
       "  </thead>\n",
       "  <tbody>\n",
       "    <tr>\n",
       "      <th>[ 0.00,  0.10)</th>\n",
       "      <td>1047</td>\n",
       "      <td>7</td>\n",
       "      <td>0.026301</td>\n",
       "      <td>0.009409</td>\n",
       "      <td>2.795447</td>\n",
       "    </tr>\n",
       "    <tr>\n",
       "      <th>[ 0.10,  0.20)</th>\n",
       "      <td>8360</td>\n",
       "      <td>42</td>\n",
       "      <td>0.210008</td>\n",
       "      <td>0.056452</td>\n",
       "      <td>3.720142</td>\n",
       "    </tr>\n",
       "    <tr>\n",
       "      <th>[ 0.20,  0.30)</th>\n",
       "      <td>6396</td>\n",
       "      <td>35</td>\n",
       "      <td>0.160671</td>\n",
       "      <td>0.047043</td>\n",
       "      <td>3.415411</td>\n",
       "    </tr>\n",
       "    <tr>\n",
       "      <th>[ 0.30,  0.40)</th>\n",
       "      <td>10563</td>\n",
       "      <td>206</td>\n",
       "      <td>0.265349</td>\n",
       "      <td>0.276882</td>\n",
       "      <td>0.958347</td>\n",
       "    </tr>\n",
       "    <tr>\n",
       "      <th>[ 0.40,  0.50)</th>\n",
       "      <td>3953</td>\n",
       "      <td>246</td>\n",
       "      <td>0.099302</td>\n",
       "      <td>0.330645</td>\n",
       "      <td>0.300327</td>\n",
       "    </tr>\n",
       "    <tr>\n",
       "      <th>[ 0.50,  0.60)</th>\n",
       "      <td>3299</td>\n",
       "      <td>119</td>\n",
       "      <td>0.082873</td>\n",
       "      <td>0.159946</td>\n",
       "      <td>0.518129</td>\n",
       "    </tr>\n",
       "    <tr>\n",
       "      <th>[ 0.60,  0.70)</th>\n",
       "      <td>2007</td>\n",
       "      <td>48</td>\n",
       "      <td>0.050417</td>\n",
       "      <td>0.064516</td>\n",
       "      <td>0.781464</td>\n",
       "    </tr>\n",
       "    <tr>\n",
       "      <th>[ 0.70,  0.80)</th>\n",
       "      <td>1843</td>\n",
       "      <td>23</td>\n",
       "      <td>0.046297</td>\n",
       "      <td>0.030914</td>\n",
       "      <td>1.497615</td>\n",
       "    </tr>\n",
       "    <tr>\n",
       "      <th>[ 0.80,  0.90)</th>\n",
       "      <td>1912</td>\n",
       "      <td>14</td>\n",
       "      <td>0.048031</td>\n",
       "      <td>0.018817</td>\n",
       "      <td>2.552480</td>\n",
       "    </tr>\n",
       "    <tr>\n",
       "      <th>[ 0.90,  1.00]</th>\n",
       "      <td>428</td>\n",
       "      <td>4</td>\n",
       "      <td>0.010752</td>\n",
       "      <td>0.005376</td>\n",
       "      <td>1.999799</td>\n",
       "    </tr>\n",
       "  </tbody>\n",
       "</table>\n",
       "</div>"
      ],
      "text/plain": [
       "                Number of positives  Number of negatives  P(bin|pos)  \\\n",
       "[ 0.00,  0.10)                 1047                    7    0.026301   \n",
       "[ 0.10,  0.20)                 8360                   42    0.210008   \n",
       "[ 0.20,  0.30)                 6396                   35    0.160671   \n",
       "[ 0.30,  0.40)                10563                  206    0.265349   \n",
       "[ 0.40,  0.50)                 3953                  246    0.099302   \n",
       "[ 0.50,  0.60)                 3299                  119    0.082873   \n",
       "[ 0.60,  0.70)                 2007                   48    0.050417   \n",
       "[ 0.70,  0.80)                 1843                   23    0.046297   \n",
       "[ 0.80,  0.90)                 1912                   14    0.048031   \n",
       "[ 0.90,  1.00]                  428                    4    0.010752   \n",
       "\n",
       "                P(bin|neg)  Likelihood Ratio  \n",
       "[ 0.00,  0.10)    0.009409          2.795447  \n",
       "[ 0.10,  0.20)    0.056452          3.720142  \n",
       "[ 0.20,  0.30)    0.047043          3.415411  \n",
       "[ 0.30,  0.40)    0.276882          0.958347  \n",
       "[ 0.40,  0.50)    0.330645          0.300327  \n",
       "[ 0.50,  0.60)    0.159946          0.518129  \n",
       "[ 0.60,  0.70)    0.064516          0.781464  \n",
       "[ 0.70,  0.80)    0.030914          1.497615  \n",
       "[ 0.80,  0.90)    0.018817          2.552480  \n",
       "[ 0.90,  1.00]    0.005376          1.999799  "
      ]
     },
     "metadata": {},
     "output_type": "display_data"
    },
    {
     "name": "stdout",
     "output_type": "stream",
     "text": [
      "\n"
     ]
    },
    {
     "data": {
      "image/png": "[encoded data removed]",
      "text/plain": [
       "<matplotlib.figure.Figure at 0x7f5c99fcfeb8>"
      ]
     },
     "metadata": {},
     "output_type": "display_data"
    },
    {
     "name": "stdout",
     "output_type": "stream",
     "text": [
      "\n",
      "InBioMap\n"
     ]
    },
    {
     "data": {
      "text/html": [
       "<div>\n",
       "<style>\n",
       "    .dataframe thead tr:only-child th {\n",
       "        text-align: right;\n",
       "    }\n",
       "\n",
       "    .dataframe thead th {\n",
       "        text-align: left;\n",
       "    }\n",
       "\n",
       "    .dataframe tbody tr th {\n",
       "        vertical-align: top;\n",
       "    }\n",
       "</style>\n",
       "<table border=\"1\" class=\"dataframe\">\n",
       "  <thead>\n",
       "    <tr style=\"text-align: right;\">\n",
       "      <th></th>\n",
       "      <th>Number of positives</th>\n",
       "      <th>Number of negatives</th>\n",
       "      <th>P(bin|pos)</th>\n",
       "      <th>P(bin|neg)</th>\n",
       "      <th>Likelihood Ratio</th>\n",
       "    </tr>\n",
       "  </thead>\n",
       "  <tbody>\n",
       "    <tr>\n",
       "      <th>[ 0.10,  0.20)</th>\n",
       "      <td>59616</td>\n",
       "      <td>53283</td>\n",
       "      <td>0.543520</td>\n",
       "      <td>0.708513</td>\n",
       "      <td>0.767128</td>\n",
       "    </tr>\n",
       "    <tr>\n",
       "      <th>[ 0.20,  0.30)</th>\n",
       "      <td>6433</td>\n",
       "      <td>1365</td>\n",
       "      <td>0.058650</td>\n",
       "      <td>0.018151</td>\n",
       "      <td>3.231280</td>\n",
       "    </tr>\n",
       "    <tr>\n",
       "      <th>[ 0.30,  0.40)</th>\n",
       "      <td>7640</td>\n",
       "      <td>1651</td>\n",
       "      <td>0.069654</td>\n",
       "      <td>0.021954</td>\n",
       "      <td>3.172780</td>\n",
       "    </tr>\n",
       "    <tr>\n",
       "      <th>[ 0.40,  0.50)</th>\n",
       "      <td>2287</td>\n",
       "      <td>296</td>\n",
       "      <td>0.020851</td>\n",
       "      <td>0.003936</td>\n",
       "      <td>5.297466</td>\n",
       "    </tr>\n",
       "    <tr>\n",
       "      <th>[ 0.50,  0.60)</th>\n",
       "      <td>606</td>\n",
       "      <td>68</td>\n",
       "      <td>0.005525</td>\n",
       "      <td>0.000904</td>\n",
       "      <td>6.110228</td>\n",
       "    </tr>\n",
       "    <tr>\n",
       "      <th>[ 0.60,  0.70)</th>\n",
       "      <td>803</td>\n",
       "      <td>85</td>\n",
       "      <td>0.007321</td>\n",
       "      <td>0.001130</td>\n",
       "      <td>6.477245</td>\n",
       "    </tr>\n",
       "    <tr>\n",
       "      <th>[ 0.70,  0.80)</th>\n",
       "      <td>207</td>\n",
       "      <td>19</td>\n",
       "      <td>0.001887</td>\n",
       "      <td>0.000253</td>\n",
       "      <td>7.469825</td>\n",
       "    </tr>\n",
       "    <tr>\n",
       "      <th>[ 0.80,  0.90)</th>\n",
       "      <td>99</td>\n",
       "      <td>17</td>\n",
       "      <td>0.000903</td>\n",
       "      <td>0.000226</td>\n",
       "      <td>3.992822</td>\n",
       "    </tr>\n",
       "    <tr>\n",
       "      <th>[ 0.90,  1.00]</th>\n",
       "      <td>31994</td>\n",
       "      <td>18420</td>\n",
       "      <td>0.291690</td>\n",
       "      <td>0.244934</td>\n",
       "      <td>1.190893</td>\n",
       "    </tr>\n",
       "  </tbody>\n",
       "</table>\n",
       "</div>"
      ],
      "text/plain": [
       "                Number of positives  Number of negatives  P(bin|pos)  \\\n",
       "[ 0.10,  0.20)                59616                53283    0.543520   \n",
       "[ 0.20,  0.30)                 6433                 1365    0.058650   \n",
       "[ 0.30,  0.40)                 7640                 1651    0.069654   \n",
       "[ 0.40,  0.50)                 2287                  296    0.020851   \n",
       "[ 0.50,  0.60)                  606                   68    0.005525   \n",
       "[ 0.60,  0.70)                  803                   85    0.007321   \n",
       "[ 0.70,  0.80)                  207                   19    0.001887   \n",
       "[ 0.80,  0.90)                   99                   17    0.000903   \n",
       "[ 0.90,  1.00]                31994                18420    0.291690   \n",
       "\n",
       "                P(bin|neg)  Likelihood Ratio  \n",
       "[ 0.10,  0.20)    0.708513          0.767128  \n",
       "[ 0.20,  0.30)    0.018151          3.231280  \n",
       "[ 0.30,  0.40)    0.021954          3.172780  \n",
       "[ 0.40,  0.50)    0.003936          5.297466  \n",
       "[ 0.50,  0.60)    0.000904          6.110228  \n",
       "[ 0.60,  0.70)    0.001130          6.477245  \n",
       "[ 0.70,  0.80)    0.000253          7.469825  \n",
       "[ 0.80,  0.90)    0.000226          3.992822  \n",
       "[ 0.90,  1.00]    0.244934          1.190893  "
      ]
     },
     "metadata": {},
     "output_type": "display_data"
    },
    {
     "name": "stdout",
     "output_type": "stream",
     "text": [
      "\n"
     ]
    },
    {
     "data": {
      "image/png": "[encoded data removed]",
      "text/plain": [
       "<matplotlib.figure.Figure at 0x7f5c987fa470>"
      ]
     },
     "metadata": {},
     "output_type": "display_data"
    },
    {
     "name": "stdout",
     "output_type": "stream",
     "text": [
      "\n",
      "STRING\n"
     ]
    },
    {
     "data": {
      "text/html": [
       "<div>\n",
       "<style>\n",
       "    .dataframe thead tr:only-child th {\n",
       "        text-align: right;\n",
       "    }\n",
       "\n",
       "    .dataframe thead th {\n",
       "        text-align: left;\n",
       "    }\n",
       "\n",
       "    .dataframe tbody tr th {\n",
       "        vertical-align: top;\n",
       "    }\n",
       "</style>\n",
       "<table border=\"1\" class=\"dataframe\">\n",
       "  <thead>\n",
       "    <tr style=\"text-align: right;\">\n",
       "      <th></th>\n",
       "      <th>Number of positives</th>\n",
       "      <th>Number of negatives</th>\n",
       "      <th>P(bin|pos)</th>\n",
       "      <th>P(bin|neg)</th>\n",
       "      <th>Likelihood Ratio</th>\n",
       "    </tr>\n",
       "  </thead>\n",
       "  <tbody>\n",
       "    <tr>\n",
       "      <th>[ 0.30,  0.40)</th>\n",
       "      <td>15</td>\n",
       "      <td>398</td>\n",
       "      <td>0.000277</td>\n",
       "      <td>0.012410</td>\n",
       "      <td>0.022340</td>\n",
       "    </tr>\n",
       "    <tr>\n",
       "      <th>[ 0.40,  0.50)</th>\n",
       "      <td>18</td>\n",
       "      <td>145</td>\n",
       "      <td>0.000333</td>\n",
       "      <td>0.004521</td>\n",
       "      <td>0.073584</td>\n",
       "    </tr>\n",
       "    <tr>\n",
       "      <th>[ 0.50,  0.60)</th>\n",
       "      <td>76</td>\n",
       "      <td>571</td>\n",
       "      <td>0.001405</td>\n",
       "      <td>0.017804</td>\n",
       "      <td>0.078897</td>\n",
       "    </tr>\n",
       "    <tr>\n",
       "      <th>[ 0.60,  0.70)</th>\n",
       "      <td>66</td>\n",
       "      <td>143</td>\n",
       "      <td>0.001220</td>\n",
       "      <td>0.004459</td>\n",
       "      <td>0.273583</td>\n",
       "    </tr>\n",
       "    <tr>\n",
       "      <th>[ 0.70,  0.80)</th>\n",
       "      <td>115</td>\n",
       "      <td>455</td>\n",
       "      <td>0.002125</td>\n",
       "      <td>0.014187</td>\n",
       "      <td>0.149819</td>\n",
       "    </tr>\n",
       "    <tr>\n",
       "      <th>[ 0.80,  0.90)</th>\n",
       "      <td>10487</td>\n",
       "      <td>1036</td>\n",
       "      <td>0.193823</td>\n",
       "      <td>0.032302</td>\n",
       "      <td>6.000288</td>\n",
       "    </tr>\n",
       "    <tr>\n",
       "      <th>[ 0.90,  1.00]</th>\n",
       "      <td>43329</td>\n",
       "      <td>29324</td>\n",
       "      <td>0.800817</td>\n",
       "      <td>0.914318</td>\n",
       "      <td>0.875863</td>\n",
       "    </tr>\n",
       "  </tbody>\n",
       "</table>\n",
       "</div>"
      ],
      "text/plain": [
       "                Number of positives  Number of negatives  P(bin|pos)  \\\n",
       "[ 0.30,  0.40)                   15                  398    0.000277   \n",
       "[ 0.40,  0.50)                   18                  145    0.000333   \n",
       "[ 0.50,  0.60)                   76                  571    0.001405   \n",
       "[ 0.60,  0.70)                   66                  143    0.001220   \n",
       "[ 0.70,  0.80)                  115                  455    0.002125   \n",
       "[ 0.80,  0.90)                10487                 1036    0.193823   \n",
       "[ 0.90,  1.00]                43329                29324    0.800817   \n",
       "\n",
       "                P(bin|neg)  Likelihood Ratio  \n",
       "[ 0.30,  0.40)    0.012410          0.022340  \n",
       "[ 0.40,  0.50)    0.004521          0.073584  \n",
       "[ 0.50,  0.60)    0.017804          0.078897  \n",
       "[ 0.60,  0.70)    0.004459          0.273583  \n",
       "[ 0.70,  0.80)    0.014187          0.149819  \n",
       "[ 0.80,  0.90)    0.032302          6.000288  \n",
       "[ 0.90,  1.00]    0.914318          0.875863  "
      ]
     },
     "metadata": {},
     "output_type": "display_data"
    },
    {
     "name": "stdout",
     "output_type": "stream",
     "text": [
      "\n"
     ]
    },
    {
     "data": {
      "image/png": "[encoded data removed]",
      "text/plain": [
       "<matplotlib.figure.Figure at 0x7f5c9b0a6358>"
      ]
     },
     "metadata": {},
     "output_type": "display_data"
    },
    {
     "name": "stdout",
     "output_type": "stream",
     "text": [
      "\n"
     ]
    }
   ],
   "source": [
    "lrtables = {}\n",
    "\n",
    "def plot_likelihood_ratio(lrtable, title='', rotation=0):\n",
    "    \"\"\"Plot the likelihood ratio.\n",
    "    \n",
    "    A simple utility to plot the likelihood ratios as a bar chart.\n",
    "\n",
    "    Args:\n",
    "        lrtable (pandas dataframe): The likelihood ratio table\n",
    "        title (str): The title of the plot\n",
    "        rotation (int): Rotate the x-axis labels\n",
    "        \n",
    "    Returns:\n",
    "        none\n",
    "\n",
    "    \"\"\"\n",
    "    fig, ax = plt.subplots()\n",
    "    \n",
    "    ind = np.arange(len(lrtable.index))\n",
    "    width = 0.5\n",
    "    \n",
    "    bars  = ax.bar(ind, lrtable['Likelihood Ratio'], width, color='b')\n",
    "    \n",
    "    ax.set_title(title)\n",
    "    ax.set_xlabel('Bins')\n",
    "    ax.set_ylabel('Likelihood Ratio')\n",
    "    ax.set_xticks(ind)\n",
    "    ax.set_xticklabels(list(lrtable.index), rotation=rotation)\n",
    "    \n",
    "    plt.show()\n",
    "    \n",
    "\n",
    "for ds in datasets:\n",
    "    fname, mode = ds\n",
    "    input_file = os.path.join(lr_directory, 'likelihood.' + fname.lower())\n",
    "    lrtables[fname] = likelihood_ratio.load_likelihood_ratio_table(input_file)\n",
    "    \n",
    "    print(fname)\n",
    "    display(lrtables[fname])\n",
    "    print()\n",
    "    plot_likelihood_ratio(lrtables[fname], fname, 45)\n",
    "    print()"
   ]
  },
  {
   "cell_type": "markdown",
   "metadata": {},
   "source": [
    "## Integrate the network using a Naive Bayesian-based approach\n",
    "\n",
    "After obtaining the likelihood ratio from each resource, we combined them in a naive Bayesian fashion. The resulted interaction network is a representation of the joint probability distribution among the resources. If we know the true number of protein interactions, then the prior odds of finding a positive interaction is given as:\n",
    "\n",
    "$$ O_{prior} = \\frac{P(pos)}{P(neg)},$$\n",
    "\n",
    "where $P(pos)$ and $P(neg)$ are the probability of finding a positive or negative interaction respectively. The prior odds is generally unknown. Therefore, we are interested in finding the posterior odds of an interaction occurs after considering the given evidence. The Bayesian formalism provides an elegant way to calculate the posterior odds,\n",
    "\n",
    "$$ O_{posterior} = \\frac{P(pos|f_1,...,f_n)}{P(neg|f_1,...,f_n)}$$\n",
    "\n",
    "Using the Bayes' rule, the above equation can be rewritten as,\n",
    "\n",
    "\n",
    "\\begin{align}\n",
    "O_{posterior} &= \\frac{P(pos|f_1,...,f_n)}{P(neg|f_1,...,f_n)} \\\\\n",
    " &= \\frac{\\frac{P(f_1,...,f_n|pos) \\times P(pos)}{P(f1,...,fn)}}{\\frac{P(f1,...,f_n|neg) \\times P(neg)}{P(f1,...,fn)}} \\\\\n",
    " &= \\frac{P(f_1,...,f_n|pos) \\times P(pos)}{P(f1,...,f_n|neg) \\times P(neg)} \\\\\n",
    " &= \\frac{P(pos)}{P(neg)} \\times \\frac{P(f_1,...,f_n|pos)}{P(f_1,...,f_n|neg)} \\\\\n",
    " &= O_{prior} \\times LR(f_1,...,f_n)\n",
    "\\end{align}\n",
    "\n",
    "Given that $O_{prior}$ is a constant for an organism, we are interested in finding the $O_{posterior}$, which is directly proportional to the likelihood ratio, $LR(f_1,...,f_n)$. Calculating the $LR$ is generally a computational intensive task. However, under the assumption that all considered features are conditionally independent (naive assumption), the $LR(f_1,...,f_n)$ can be calculated as the product of the individual likelihood ratio.\n",
    "\n",
    "The comparative analysis result showed that the considered features are generally not well correlated. Therefore, we could integrate the network using the Naive Bayesian approach."
   ]
  },
  {
   "cell_type": "code",
   "execution_count": 21,
   "metadata": {
    "ExecuteTime": {
     "end_time": "2017-11-25T15:31:38.232217Z",
     "start_time": "2017-11-25T15:29:09.615789Z"
    }
   },
   "outputs": [
    {
     "name": "stdout",
     "output_type": "stream",
     "text": [
      "Processing  /projects/ooihs/ReNet/results/final/score.publication\n",
      "Processing  /projects/ooihs/ReNet/results/final/score.cpdb\n",
      "Processing  /projects/ooihs/ReNet/results/final/score.comppi\n",
      "Processing  /projects/ooihs/ReNet/results/final/score.funcoup\n",
      "Processing  /projects/ooihs/ReNet/results/final/score.genemania\n",
      "Processing  /projects/ooihs/ReNet/results/final/score.hippie\n",
      "Processing  /projects/ooihs/ReNet/results/final/score.humannet\n",
      "Processing  /projects/ooihs/ReNet/results/final/score.inbiomap\n",
      "Processing  /projects/ooihs/ReNet/results/final/score.string\n",
      "Total number of interactions: 1231170\n"
     ]
    }
   ],
   "source": [
    "input_files = []\n",
    "for ds in datasets:\n",
    "    fname, mode = ds\n",
    "    score_file = os.path.join(final_directory, 'score.' + fname.lower())\n",
    "    input_files.append(score_file)\n",
    "\n",
    "output_file = os.path.join(final_directory, 'integrated.network.uniprot')\n",
    "likelihood_ratio.build_lr_network(input_files, lr_directory, output_file)"
   ]
  },
  {
   "cell_type": "code",
   "execution_count": null,
   "metadata": {
    "collapsed": true
   },
   "outputs": [],
   "source": []
  }
 ],
 "metadata": {
  "kernelspec": {
   "display_name": "Python 3",
   "language": "python",
   "name": "python3"
  },
  "language_info": {
   "codemirror_mode": {
    "name": "ipython",
    "version": 3
   },
   "file_extension": ".py",
   "mimetype": "text/x-python",
   "name": "python",
   "nbconvert_exporter": "python",
   "pygments_lexer": "ipython3",
   "version": "3.6.3"
  }
 },
 "nbformat": 4,
 "nbformat_minor": 2
}
