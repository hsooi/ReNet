{
 "cells": [
  {
   "cell_type": "markdown",
   "metadata": {},
   "source": [
    "# Data processing and standardization\n",
    "\n",
    "Generally, an interaction is defined as a functional relationship between two biological molecules. Our main focus is to build a protein-protein interaction network between all available human proteins. \n",
    "\n",
    "The existing interactions are represented using different gene identifiers. For example, GeneMANIA and FunCoup use Ensembl, HumanNET utilizes Entrez, and HIPPIE employs UniProt. Therefore, there is a need to consolidate these interactions using a single naming scheme to facilitate data integration and analysis. "
   ]
  },
  {
   "cell_type": "markdown",
   "metadata": {},
   "source": [
    "## Build UniProt accession mapping for naming standardization\n",
    "\n",
    "We used the UniProt accession as the main identifiers for all proteins. As our knowledge growth, the identifiers for the existing proteins might be changed or removed. Therefore, we mapped the individual identifiers to the UniProt primary accession for unification."
   ]
  },
  {
   "cell_type": "code",
   "execution_count": 1,
   "metadata": {
    "ExecuteTime": {
     "end_time": "2017-11-24T12:33:48.215461Z",
     "start_time": "2017-11-24T12:33:48.208877Z"
    },
    "collapsed": true
   },
   "outputs": [],
   "source": [
    "import os\n",
    "import sys\n",
    "\n",
    "def hline(number=78):\n",
    "    \"\"\"A basic function to draw a line\"\"\"\n",
    "    print(number * '-')\n",
    "    print()"
   ]
  },
  {
   "cell_type": "markdown",
   "metadata": {},
   "source": [
    "The UniProt database contains two primary collections, SwissProt and TrEMBL. The SwissProt collection is based on the manual curation process, while the TrEMBL collection is based on electronic annotation. The size of the TrEMBL collection is very large. Therefore, we provided a fast disk-based key-value mapping using the `rocksdb` library. \n",
    "\n",
    "The `uniprot` module contains a function `build_mapping_rdb`, which could be used to build the database for identifier conversion. The main input to this function is the UniProt collections in the flat file format. In this study, we only used the SwissProt collection. Users could build TrEMBL collection if needed."
   ]
  },
  {
   "cell_type": "code",
   "execution_count": 2,
   "metadata": {
    "ExecuteTime": {
     "end_time": "2017-11-24T12:38:28.481947Z",
     "start_time": "2017-11-24T12:33:51.853758Z"
    },
    "collapsed": true
   },
   "outputs": [],
   "source": [
    "from src import uniprot, misc\n",
    "\n",
    "project_directory = '/projects/ooihs/ReNet/'\n",
    "sprot_file = os.path.join(project_directory,\n",
    "                          'data/uniprot/uniprot_sprot.dat.gz')\n",
    "sprot_db = os.path.join(project_directory, 'results/sprot')\n",
    "\n",
    "data_directory = os.path.join(project_directory, 'data/')\n",
    "map_directory = os.path.join(project_directory, 'results/map/')\n",
    "final_directory = os.path.join(project_directory, 'results/final/')\n",
    "\n",
    "if not os.path.isdir(map_directory):\n",
    "    os.makedirs(map_directory)\n",
    "\n",
    "if not os.path.isdir(final_directory):\n",
    "    os.makedirs(final_directory)\n",
    "    \n",
    "uniprot.build_mapping_rdb(sprot_file, sprot_db, {'9606'})"
   ]
  },
  {
   "cell_type": "markdown",
   "metadata": {},
   "source": [
    "## Uncompressing the downloaded files\n",
    "\n",
    "*Note:*\n",
    "* HumanCyc: copy `human.tar.gz` to `data/humancyc` directory\n",
    "* HPRD: copy `HPRD_FLAT_FILES_041310.tar.gz` to `data/hprd` directory\n",
    "* DIP: copy `dip20170205.txt.gz` to `data/dip` directory\n",
    "* InBioMap: copy `InBio_Map_core_2016_09_12.tar.gz` to `data/inbiomap` directory"
   ]
  },
  {
   "cell_type": "code",
   "execution_count": 3,
   "metadata": {
    "ExecuteTime": {
     "end_time": "2017-11-24T12:54:33.963945Z",
     "start_time": "2017-11-24T12:53:50.067636Z"
    },
    "collapsed": true
   },
   "outputs": [],
   "source": [
    "%%capture\n",
    "%cd {data_directory} \n",
    "%cd bindtranslation\n",
    "!tar -zxvf BINDTranslation_v1_mitab_AllSpecies.tar.gz\n",
    "%cd ../humancyc\n",
    "!tar -zxvf human.tar.gz\n",
    "%cd ../hprd\n",
    "!tar -zxvf HPRD_FLAT_FILES_041310.tar.gz\n",
    "%cd ../intact\n",
    "!unzip -o intact.zip\n",
    "%cd ../biogrid\n",
    "!unzip -o BIOGRID-ALL-3.4.154.mitab.zip\n",
    "%cd ../mppi\n",
    "!gunzip mppi.gz\n",
    "%cd ../hupa\n",
    "!unzip -o HUPA_RELEASE_2.0.zip\n",
    "%cd ../spike\n",
    "!unzip -o LatestSpikeDB.xml.zip\n",
    "%cd ../corum\n",
    "!unzip -o allComplexes.txt.zip\n",
    "%cd ../inbiomap\n",
    "!tar -zxvf InBio_Map_core_2016_09_12.tar.gz\n",
    "%cd ../irefindex\n",
    "!unzip -o 9606.mitab.07042015.txt.zip\n",
    "%cd ../.."
   ]
  },
  {
   "cell_type": "markdown",
   "metadata": {},
   "source": [
    "# Converting of the interaction data into internal formats\n",
    "\n",
    "Besides naming scheme, each interaction resource also uses a different format to represent the molecular interactions. Therefore, there is a need to convert the external data formats into the same data format for integration or comparison.\n",
    "\n",
    "Our internal representation is a simple tab-separated format, for both interactions and the participants. The interaction file has three columns, with the first and second columns represent the interacting genes or proteins in their primary names. The third column is a [JSON](https://en.wikipedia.org/wiki/JSON) object containing useful information. The participant file stores all unique genes or proteins in the interaction file, with their second names. "
   ]
  },
  {
   "cell_type": "markdown",
   "metadata": {},
   "source": [
    "## Process the collected interactions"
   ]
  },
  {
   "cell_type": "markdown",
   "metadata": {},
   "source": [
    "### Molecular interactions"
   ]
  },
  {
   "cell_type": "markdown",
   "metadata": {},
   "source": [
    "#### Process the molecular interactions given in psi-mitab format\n",
    "\n",
    "The Proteomics Standards Initiative (PSI) provides community standards for representing molecular interaction data. Two representations are available for molecular interactions, PSI-MI XML and PSI-MI TAB. The `mitab` module processes  molecular interactions defined in the PSI-MI tabular format. In our application, we mainly focused on extracting and processing information such as identifiers, tanomony, interaction types, publications, and experimental methods.\n",
    "\n",
    "The following databases provides molecular interaction in the psi-mi tab formats:\n",
    "\n",
    "* [IntAct](http://www.ebi.ac.uk/intact/)\n",
    "* [DIP](http://dip.doe-mbi.ucla.edu/dip/Main.cgi)\n",
    "* [MINT](http://mint.bio.uniroma2.it/)\n",
    "* [BioGRID](https://thebiogrid.org/)\n",
    "* [InnateDB](http://innatedb.com/)\n",
    "* [MatrixDB](http://matrixdb.univ-lyon1.fr/)\n",
    "* [Reactome](http://reactome.org/)\n",
    "* [BINDTranslation](http://download.baderlab.org/BINDTranslation/)\n",
    "* [CCSB HuRI](http://interactome.baderlab.org/)\n",
    "\n",
    "\n",
    "*Note:*\n",
    "\n",
    "* Many of the databases contain interactions derived from various organisms. In this example, only human interactions will be processed. \n",
    "* Not all identifiers can be converted to the corresponding UniProt accessions. For example, rna, mirna or protein complexes cannot be converted."
   ]
  },
  {
   "cell_type": "code",
   "execution_count": 4,
   "metadata": {
    "ExecuteTime": {
     "end_time": "2017-11-24T13:02:51.835787Z",
     "start_time": "2017-11-24T13:00:06.028719Z"
    }
   },
   "outputs": [
    {
     "name": "stdout",
     "output_type": "stream",
     "text": [
      "Processing intact\n",
      "Total number of interaction processed: 790620\n",
      "Total number of unique interactions: 502251\n",
      "Total number of unique interactors: 101718\n",
      "\n",
      "Converting participants to uniprot accessions\n",
      "Total interactors: 101718\n",
      "Total interactors with valid conversion: 20322\n",
      "Conversion rate: 19.98%\n",
      "\n",
      "Converting interactions to uniprot accession\n",
      "Total interactions: 502251\n",
      "Interactions with valid uniprot accession: 152967\n",
      "Conversion rate: 30.46%\n",
      "------------------------------------------------------------------------------\n",
      "\n",
      "Processing dip\n",
      "Total number of interaction processed: 76881\n",
      "Total number of unique interactions: 76877\n",
      "Total number of unique interactors: 28255\n",
      "\n",
      "Converting participants to uniprot accessions\n",
      "Total interactors: 28255\n",
      "Total interactors with valid conversion: 3636\n",
      "Conversion rate: 12.87%\n",
      "\n",
      "Converting interactions to uniprot accession\n",
      "Total interactions: 76877\n",
      "Interactions with valid uniprot accession: 5542\n",
      "Conversion rate: 7.21%\n",
      "------------------------------------------------------------------------------\n",
      "\n",
      "Processing mint\n",
      "Total number of interaction processed: 126060\n",
      "Total number of unique interactions: 67947\n",
      "Total number of unique interactors: 25530\n",
      "\n",
      "Converting participants to uniprot accessions\n",
      "Total interactors: 25530\n",
      "Total interactors with valid conversion: 7117\n",
      "Conversion rate: 27.88%\n",
      "\n",
      "Converting interactions to uniprot accession\n",
      "Total interactions: 67947\n",
      "Interactions with valid uniprot accession: 17519\n",
      "Conversion rate: 25.78%\n",
      "------------------------------------------------------------------------------\n",
      "\n",
      "Processing biogrid\n",
      "Total number of interaction processed: 1482647\n",
      "Total number of unique interactions: 1145537\n",
      "Total number of unique interactors: 67371\n",
      "\n",
      "Converting participants to uniprot accessions\n",
      "Total interactors: 67371\n",
      "Total interactors with valid conversion: 16182\n",
      "Conversion rate: 24.02%\n",
      "\n",
      "Converting interactions to uniprot accession\n",
      "Total interactions: 1145537\n",
      "Interactions with valid uniprot accession: 261997\n",
      "Conversion rate: 22.87%\n",
      "------------------------------------------------------------------------------\n",
      "\n",
      "Processing innatedb\n",
      "Total number of interaction processed: 33295\n",
      "Total number of unique interactions: 19940\n",
      "Total number of unique interactors: 8974\n",
      "\n",
      "Converting participants to uniprot accessions\n",
      "Total interactors: 8974\n",
      "Total interactors with valid conversion: 5691\n",
      "Conversion rate: 63.42%\n",
      "\n",
      "Converting interactions to uniprot accession\n",
      "Total interactions: 19940\n",
      "Interactions with valid uniprot accession: 13471\n",
      "Conversion rate: 67.56%\n",
      "------------------------------------------------------------------------------\n",
      "\n",
      "Processing matrixdb\n",
      "Total number of interaction processed: 67599\n",
      "Total number of unique interactions: 35429\n",
      "Total number of unique interactors: 11679\n",
      "\n",
      "Converting participants to uniprot accessions\n",
      "Total interactors: 11679\n",
      "Total interactors with valid conversion: 9470\n",
      "Conversion rate: 81.09%\n",
      "\n",
      "Converting interactions to uniprot accession\n",
      "Total interactions: 35429\n",
      "Interactions with valid uniprot accession: 30778\n",
      "Conversion rate: 86.87%\n",
      "------------------------------------------------------------------------------\n",
      "\n",
      "Processing reactome\n",
      "Total number of interaction processed: 24710\n",
      "Total number of unique interactions: 16463\n",
      "Total number of unique interactors: 12045\n",
      "\n",
      "Converting participants to uniprot accessions\n",
      "Total interactors: 12045\n",
      "Total interactors with valid conversion: 5398\n",
      "Conversion rate: 44.82%\n",
      "\n",
      "Converting interactions to uniprot accession\n",
      "Total interactions: 16463\n",
      "Interactions with valid uniprot accession: 4657\n",
      "Conversion rate: 28.29%\n",
      "------------------------------------------------------------------------------\n",
      "\n",
      "Processing bindtranslation\n",
      "Total number of interaction processed: 35567\n",
      "Total number of unique interactions: 28114\n",
      "Total number of unique interactors: 18183\n",
      "\n",
      "Converting participants to uniprot accessions\n",
      "Total interactors: 18183\n",
      "Total interactors with valid conversion: 11645\n",
      "Conversion rate: 64.04%\n",
      "\n",
      "Converting interactions to uniprot accession\n",
      "Total interactions: 28114\n",
      "Interactions with valid uniprot accession: 12738\n",
      "Conversion rate: 45.31%\n",
      "------------------------------------------------------------------------------\n",
      "\n",
      "Processing huri\n",
      "Total number of interaction processed: 123160\n",
      "Total number of unique interactions: 26264\n",
      "Total number of unique interactors: 9334\n",
      "\n",
      "Converting participants to uniprot accessions\n",
      "Total interactors: 9334\n",
      "Total interactors with valid conversion: 8922\n",
      "Conversion rate: 95.59%\n",
      "\n",
      "Converting interactions to uniprot accession\n",
      "Total interactions: 26264\n",
      "Interactions with valid uniprot accession: 23982\n",
      "Conversion rate: 91.31%\n",
      "------------------------------------------------------------------------------\n",
      "\n"
     ]
    }
   ],
   "source": [
    "from src import mitab\n",
    "\n",
    "def process_mitab(data_directory, output_directory):\n",
    "    \"\"\"process the list of interaction files in mitab format\"\"\"\n",
    "    \n",
    "    # each database has a list of input files\n",
    "    data_files = {\n",
    "        'intact': [os.path.join(data_directory,\n",
    "                                'intact/intact.txt')],\n",
    "        'dip': [os.path.join(data_directory,\n",
    "                             'dip/dip20170205.txt.gz')],\n",
    "        'mint': [os.path.join(data_directory,\n",
    "                              'mint/MINT_MiTab.txt')],\n",
    "        'biogrid': [os.path.join(data_directory,\n",
    "                                 'biogrid/BIOGRID-ALL-3.4.154.mitab.txt')],\n",
    "        'innatedb': [os.path.join(data_directory,\n",
    "                                  'innatedb/innatedb_all.mitab.gz')],\n",
    "        'matrixdb': [os.path.join(data_directory,\n",
    "                                  'matrixdb/matrixdb_FULL.tab.gz')],\n",
    "        'reactome': [os.path.join(data_directory,\n",
    "                                  'reactome/reactome.homo_sapiens.interactions.psi-mitab.txt')]\n",
    "    }\n",
    "\n",
    "    # add in BINDTranslation\n",
    "    file_list = []\n",
    "    file_directory = os.path.join(data_directory, 'bindtranslation')\n",
    "    # only process human interactions\n",
    "    file_list.append(os.path.join(file_directory, 'taxid9606_PSIMI25.tsv'))\n",
    "    data_files['bindtranslation'] = file_list\n",
    "    \n",
    "    # add in CCSB HuRI collections, now in PSI-MI Tab format\n",
    "    file_list = []\n",
    "    file_directory = os.path.join(data_directory, 'huri')\n",
    "    for filename in os.listdir(file_directory):\n",
    "        if filename.endswith('.psi'):\n",
    "            file_list.append(os.path.join(file_directory, filename))\n",
    "    data_files['huri'] = file_list\n",
    "\n",
    "    # start the extraction process\n",
    "    for dbname in data_files:\n",
    "        # extract the interactions\n",
    "        mitab.process(data_files[dbname], output_directory, dbname)\n",
    "        print()\n",
    "        \n",
    "        # convert the interactor to uniprot mapping\n",
    "        uniprot.convert_participant(output_directory, 'interaction', dbname, sprot_db)\n",
    "        print()\n",
    "        \n",
    "        # convert the interaction to uniprot mapping\n",
    "        uniprot.convert_interaction(output_directory, dbname, 'interaction')\n",
    "        \n",
    "        hline()\n",
    "        \n",
    "process_mitab(data_directory, map_directory)"
   ]
  },
  {
   "cell_type": "markdown",
   "metadata": {},
   "source": [
    "#### HTRIdb"
   ]
  },
  {
   "cell_type": "code",
   "execution_count": 5,
   "metadata": {
    "ExecuteTime": {
     "end_time": "2017-11-24T13:03:01.343912Z",
     "start_time": "2017-11-24T13:02:51.837778Z"
    }
   },
   "outputs": [
    {
     "name": "stdout",
     "output_type": "stream",
     "text": [
      "Processing HTRIdb\n",
      "Total number of interaction processed: 251356\n",
      "Total number of unique interactions: 149879\n",
      "Total number of unique interactors: 19406\n",
      "\n",
      "Converting participants to uniprot accessions\n",
      "Total interactors: 19406\n",
      "Total interactors with valid conversion: 17685\n",
      "Conversion rate: 91.13%\n",
      "\n",
      "Converting interactions to uniprot accession\n",
      "Total interactions: 149879\n",
      "Interactions with valid uniprot accession: 147429\n",
      "Conversion rate: 98.37%\n"
     ]
    }
   ],
   "source": [
    "from src import htridb\n",
    "\n",
    "\"\"\"process the interactions from HTRIdb\"\"\"\n",
    "htridb_file = os.path.join(data_directory, 'htridb/htridb_with_ppi.csv')\n",
    "\n",
    "htridb.process_interaction(htridb_file, map_directory)\n",
    "print()\n",
    "\n",
    "uniprot.convert_participant(map_directory, 'interaction', 'htridb', sprot_db) \n",
    "print()\n",
    "\n",
    "uniprot.convert_interaction(map_directory, 'htridb') "
   ]
  },
  {
   "cell_type": "markdown",
   "metadata": {},
   "source": [
    "#### INstruct"
   ]
  },
  {
   "cell_type": "code",
   "execution_count": 6,
   "metadata": {
    "ExecuteTime": {
     "end_time": "2017-11-24T13:03:03.267150Z",
     "start_time": "2017-11-24T13:03:01.346449Z"
    }
   },
   "outputs": [
    {
     "name": "stdout",
     "output_type": "stream",
     "text": [
      "Processing INstruct\n",
      "Total number of interaction processed: 11470\n",
      "Total number of unique interactions: 6585\n",
      "Total number of unique interactors: 3627\n",
      "\n",
      "Converting participants to uniprot accessions\n",
      "Total interactors: 3627\n",
      "Total interactors with valid conversion: 3627\n",
      "Conversion rate: 100.00%\n",
      "\n",
      "Converting interactions to uniprot accession\n",
      "Total interactions: 6585\n",
      "Interactions with valid uniprot accession: 6585\n",
      "Conversion rate: 100.00%\n"
     ]
    }
   ],
   "source": [
    "from src import instruct\n",
    "\n",
    "\"\"\"process the interactions from INstruct\"\"\"\n",
    "instruct_directory = os.path.join(data_directory, 'instruct')\n",
    "\n",
    "instruct.process(instruct_directory, map_directory)\n",
    "print()\n",
    "\n",
    "uniprot.convert_participant(map_directory, 'interaction', 'instruct',  sprot_db)\n",
    "print()\n",
    "\n",
    "uniprot.convert_interaction(map_directory, 'instruct')\n"
   ]
  },
  {
   "cell_type": "markdown",
   "metadata": {},
   "source": [
    "#### MPPI"
   ]
  },
  {
   "cell_type": "code",
   "execution_count": 7,
   "metadata": {
    "ExecuteTime": {
     "end_time": "2017-11-24T13:03:07.245211Z",
     "start_time": "2017-11-24T13:03:03.269306Z"
    }
   },
   "outputs": [
    {
     "name": "stdout",
     "output_type": "stream",
     "text": [
      "Processing MPPI\n",
      "Total number of interaction processed: 1814\n",
      "Total number of unique interactions: 913\n",
      "Total number of unique interactors: 953\n",
      "\n",
      "Converting participants to uniprot accessions\n",
      "Total interactors: 953\n",
      "Total interactors with valid conversion: 493\n",
      "Conversion rate: 51.73%\n",
      "\n",
      "Converting interactions to uniprot accession\n",
      "Total interactions: 913\n",
      "Interactions with valid uniprot accession: 383\n",
      "Conversion rate: 41.95%\n"
     ]
    }
   ],
   "source": [
    "from src import mppi\n",
    "\n",
    "\"\"\"process the interactions from MPPI\"\"\"\n",
    "mppi_file = os.path.join(data_directory, 'mppi/mppi')\n",
    "\n",
    "mppi.process(mppi_file, map_directory)\n",
    "print()\n",
    "\n",
    "uniprot.convert_participant(map_directory, 'interaction', 'mppi', sprot_db)\n",
    "print()\n",
    "\n",
    "uniprot.convert_interaction(map_directory, 'mppi')"
   ]
  },
  {
   "cell_type": "markdown",
   "metadata": {
    "collapsed": true
   },
   "source": [
    "#### SynSysNet"
   ]
  },
  {
   "cell_type": "code",
   "execution_count": 8,
   "metadata": {
    "ExecuteTime": {
     "end_time": "2017-11-24T13:03:09.028816Z",
     "start_time": "2017-11-24T13:03:07.247941Z"
    }
   },
   "outputs": [
    {
     "name": "stdout",
     "output_type": "stream",
     "text": [
      "Processing SynSysNet\n",
      "Total number of interaction processed: 4638\n",
      "Total number of unique interactions: 4638\n",
      "Total number of unique interactors: 882\n",
      "\n",
      "Converting participants to uniprot accessions\n",
      "Total interactors: 882\n",
      "Total interactors with valid conversion: 882\n",
      "Conversion rate: 100.00%\n",
      "\n",
      "Converting interactions to uniprot accession\n",
      "Total interactions: 4638\n",
      "Interactions with valid uniprot accession: 4638\n",
      "Conversion rate: 100.00%\n"
     ]
    }
   ],
   "source": [
    "from src import synsysnet\n",
    "\n",
    "\"\"\"process the interactions from SynSysNet\"\"\"\n",
    "synsysnet_directory = os.path.join(data_directory, 'synsysnet')\n",
    "\n",
    "synsysnet.process(synsysnet_directory, map_directory)\n",
    "print()\n",
    "\n",
    "uniprot.convert_participant(map_directory, 'interaction', 'synsysnet', sprot_db)\n",
    "print()\n",
    "\n",
    "uniprot.convert_interaction(map_directory, 'synsysnet')"
   ]
  },
  {
   "cell_type": "markdown",
   "metadata": {},
   "source": [
    "#### TcoF (Dragon database of transcription co-factors and transcription factor interacting proteins)"
   ]
  },
  {
   "cell_type": "code",
   "execution_count": 9,
   "metadata": {
    "ExecuteTime": {
     "end_time": "2017-11-24T13:03:11.012740Z",
     "start_time": "2017-11-24T13:03:09.030924Z"
    }
   },
   "outputs": [
    {
     "name": "stdout",
     "output_type": "stream",
     "text": [
      "Processing TcoF\n",
      "Total number of interaction processed: 15948\n",
      "Total number of unique interactions: 7045\n",
      "Total number of unique interactors: 3012\n",
      "\n",
      "Converting participants to uniprot accessions\n",
      "Total interactors: 3012\n",
      "Total interactors with valid conversion: 3012\n",
      "Conversion rate: 100.00%\n",
      "\n",
      "Converting interactions to uniprot accession\n",
      "Total interactions: 7045\n",
      "Interactions with valid uniprot accession: 7045\n",
      "Conversion rate: 100.00%\n"
     ]
    }
   ],
   "source": [
    "from src import tcof\n",
    "\n",
    "\"\"\"process the interactions from Dragon TcoF\"\"\"\n",
    "tcof_file = os.path.join(data_directory, 'tcof/tcof_ppi_20100927.txt')\n",
    "\n",
    "tcof.process(tcof_file, map_directory)\n",
    "print()\n",
    "\n",
    "uniprot.convert_participant(map_directory, 'interaction', 'tcof', sprot_db)\n",
    "print()\n",
    "\n",
    "uniprot.convert_interaction(map_directory, 'tcof')\n"
   ]
  },
  {
   "cell_type": "markdown",
   "metadata": {},
   "source": [
    "#### HPRD"
   ]
  },
  {
   "cell_type": "code",
   "execution_count": 10,
   "metadata": {
    "ExecuteTime": {
     "end_time": "2017-11-24T13:03:17.061944Z",
     "start_time": "2017-11-24T13:03:11.014898Z"
    }
   },
   "outputs": [
    {
     "name": "stdout",
     "output_type": "stream",
     "text": [
      "Processing HPRD interactions\n",
      "Total number of interaction processed: 39175\n",
      "Total number of unique interactions: 39142\n",
      "Total number of unique interactors: 9673\n",
      "\n",
      "Converting participants to uniprot accessions\n",
      "Total interactors: 9673\n",
      "Total interactors with valid conversion: 9650\n",
      "Conversion rate: 99.76%\n",
      "\n",
      "Converting interactions to uniprot accession\n",
      "Total interactions: 39142\n",
      "Interactions with valid uniprot accession: 39084\n",
      "Conversion rate: 99.85%\n",
      "------------------------------------------------------------------------------\n",
      "\n",
      "Processing HPRD complexes\n",
      "Total number of records processed: 7325\n",
      "Total number of unique complexes: 1521\n",
      "Total number of unique molecules: 2742\n",
      "\n",
      "Converting participants to uniprot accessions\n",
      "Total interactors: 2742\n",
      "Total interactors with valid conversion: 2739\n",
      "Conversion rate: 99.89%\n",
      "\n",
      "Converting profiles to uniprot accession\n",
      "Total profiles: 1521\n",
      "Profiles with valid uniprot accession: 1521\n",
      "Conversion rate: 100.00%\n"
     ]
    }
   ],
   "source": [
    "from src import hprd\n",
    "\n",
    "\"\"\"process the interactions from HTRD\"\"\"\n",
    "hprd_directory = os.path.join(data_directory, 'hprd/FLAT_FILES_041210')\n",
    "\n",
    "hprd.process_interaction(hprd_directory, map_directory)\n",
    "print()\n",
    "\n",
    "uniprot.convert_participant(map_directory, 'interaction', 'hprd', sprot_db)\n",
    "print()\n",
    "\n",
    "uniprot.convert_interaction(map_directory, 'hprd')\n",
    "\n",
    "hline()\n",
    "hprd.process_complex(hprd_directory, map_directory)\n",
    "print()\n",
    "\n",
    "uniprot.convert_participant(map_directory, 'complex', 'hprd', sprot_db)\n",
    "print()\n",
    "\n",
    "uniprot.convert_profile(map_directory, 'complex', 'hprd')\n"
   ]
  },
  {
   "cell_type": "markdown",
   "metadata": {},
   "source": [
    "#### HUPA"
   ]
  },
  {
   "cell_type": "code",
   "execution_count": 11,
   "metadata": {
    "ExecuteTime": {
     "end_time": "2017-11-24T13:03:20.623823Z",
     "start_time": "2017-11-24T13:03:17.063915Z"
    }
   },
   "outputs": [
    {
     "name": "stdout",
     "output_type": "stream",
     "text": [
      "Processing HUPA interactions\n",
      "Total number of interaction processed: 4606\n",
      "Total number of unique interactions: 4569\n",
      "Total number of unique interactors: 1965\n",
      "\n",
      "Converting participants to uniprot accessions\n",
      "Total interactors: 1965\n",
      "Total interactors with valid conversion: 1957\n",
      "Conversion rate: 99.59%\n",
      "\n",
      "Converting interactions to uniprot accession\n",
      "Total interactions: 4569\n",
      "Interactions with valid uniprot accession: 4561\n",
      "Conversion rate: 99.82%\n",
      "------------------------------------------------------------------------------\n",
      "\n",
      "Processing HUPA complexes\n",
      "Total number of records processed: 11\n",
      "Total number of unique complexes: 1\n",
      "Total number of unique molecules: 11\n",
      "\n",
      "Converting participants to uniprot accessions\n",
      "Total interactors: 11\n",
      "Total interactors with valid conversion: 11\n",
      "Conversion rate: 100.00%\n",
      "\n",
      "Converting profiles to uniprot accession\n",
      "Total profiles: 1\n",
      "Profiles with valid uniprot accession: 1\n",
      "Conversion rate: 100.00%\n"
     ]
    }
   ],
   "source": [
    "from src import hupa\n",
    "\n",
    "\"\"\"process the interactions from HUPA\"\"\"\n",
    "# hupa needs to access some information from HPRD\n",
    "hupa_directory = os.path.join(data_directory, 'hupa')\n",
    "\n",
    "hupa.process_interaction(hprd_directory, hupa_directory, map_directory)\n",
    "print()\n",
    "\n",
    "uniprot.convert_participant(map_directory, 'interaction', 'hupa', sprot_db)\n",
    "print()\n",
    "\n",
    "uniprot.convert_interaction(map_directory, 'hupa')\n",
    "\n",
    "hline()\n",
    "hupa.process_complex(hprd_directory, hupa_directory, map_directory)\n",
    "print()\n",
    "\n",
    "uniprot.convert_participant(map_directory, 'complex', 'hupa', sprot_db)\n",
    "print()\n",
    "\n",
    "uniprot.convert_profile(map_directory, 'complex', 'hupa')\n"
   ]
  },
  {
   "cell_type": "markdown",
   "metadata": {},
   "source": [
    "#### CIDeR"
   ]
  },
  {
   "cell_type": "code",
   "execution_count": 12,
   "metadata": {
    "ExecuteTime": {
     "end_time": "2017-11-24T13:03:23.202201Z",
     "start_time": "2017-11-24T13:03:20.625565Z"
    }
   },
   "outputs": [
    {
     "name": "stdout",
     "output_type": "stream",
     "text": [
      "Total number of lines: 54467\n",
      "After clean up: 52217\n",
      "Processing CIDeR interactions\n",
      "Total number of interaction processed: 7542\n",
      "Total number of unique interactions: 5123\n",
      "Total number of unique interactors: 2490\n",
      "Total number of negative interactions: 590\n",
      "\n",
      "Converting participants to uniprot accessions\n",
      "Total interactors: 2490\n",
      "Total interactors with valid conversion: 2426\n",
      "Conversion rate: 97.43%\n",
      "\n",
      "Converting interactions to uniprot accession\n",
      "Total interactions: 5123\n",
      "Interactions with valid uniprot accession: 5052\n",
      "Conversion rate: 98.61%\n"
     ]
    }
   ],
   "source": [
    "from src import cider\n",
    "\n",
    "\"\"\"process the interactions from CIDeR\"\"\"\n",
    "cider_file = os.path.join(data_directory, 'cider/cider.csv')\n",
    "cider_update_file = cider_file + '.updated'\n",
    "\n",
    "# the download file contains some unintentional corrupted lines\n",
    "# the clean up function fixes the issues.\n",
    "cider.clean_up_cider_file(cider_file, cider_update_file)\n",
    "\n",
    "cider.process_interaction(cider_update_file, map_directory)\n",
    "print()\n",
    "\n",
    "uniprot.convert_participant(map_directory, 'interaction', 'cider', sprot_db)\n",
    "print()\n",
    "\n",
    "uniprot.convert_interaction(map_directory, 'cider')"
   ]
  },
  {
   "cell_type": "markdown",
   "metadata": {},
   "source": [
    "#### SPIKE"
   ]
  },
  {
   "cell_type": "code",
   "execution_count": 13,
   "metadata": {
    "ExecuteTime": {
     "end_time": "2017-11-24T13:03:37.837304Z",
     "start_time": "2017-11-24T13:03:23.204453Z"
    }
   },
   "outputs": [
    {
     "name": "stdout",
     "output_type": "stream",
     "text": [
      "Processing SPIKE interactions\n",
      "Total number of interaction processed: 44752\n",
      "Total number of unique interactions: 43393\n",
      "Total number of unique interactors: 10621\n",
      "\n",
      "Converting participants to uniprot accessions\n",
      "Total interactors: 10621\n",
      "Total interactors with valid conversion: 9486\n",
      "Conversion rate: 89.31%\n",
      "\n",
      "Converting interactions to uniprot accession\n",
      "Total interactions: 43393\n",
      "Interactions with valid uniprot accession: 39930\n",
      "Conversion rate: 92.02%\n"
     ]
    }
   ],
   "source": [
    "from src import spike\n",
    "\n",
    "\"\"\"process molecular interactions from SPIKE\"\"\"\n",
    "spike_directory = os.path.join(data_directory, 'spike')\n",
    "spike.process_interaction(spike_directory, map_directory)\n",
    "print()\n",
    "\n",
    "uniprot.convert_participant(map_directory, 'interaction', 'spike', sprot_db)\n",
    "print()\n",
    "\n",
    "uniprot.convert_interaction(map_directory, 'spike')"
   ]
  },
  {
   "cell_type": "markdown",
   "metadata": {},
   "source": [
    "#### SIGNOR 2.0"
   ]
  },
  {
   "cell_type": "code",
   "execution_count": 14,
   "metadata": {
    "ExecuteTime": {
     "end_time": "2017-11-24T13:03:46.515733Z",
     "start_time": "2017-11-24T13:03:37.839911Z"
    }
   },
   "outputs": [
    {
     "name": "stdout",
     "output_type": "stream",
     "text": [
      "Processing SIGNOR interactions\n",
      "Total number of interaction processed: 19167\n",
      "Total number of unique interactions: 9733\n",
      "Total number of unique interactors: 3783\n",
      "\n",
      "Converting participants to uniprot accessions\n",
      "Total interactors: 3783\n",
      "Total interactors with valid conversion: 3775\n",
      "Conversion rate: 99.79%\n",
      "\n",
      "Converting interactions to uniprot accession\n",
      "Total interactions: 9733\n",
      "Interactions with valid uniprot accession: 9709\n",
      "Conversion rate: 99.75%\n",
      "------------------------------------------------------------------------------\n",
      "\n",
      "Loading SIGNOR protein families\n",
      "Processing SIGNOR complexes\n",
      "Total number of unique complexes: 179\n",
      "Total number of unique molecules: 334\n",
      "\n",
      "Converting participants to uniprot accessions\n",
      "Total interactors: 334\n",
      "Total interactors with valid conversion: 334\n",
      "Conversion rate: 100.00%\n",
      "\n",
      "Converting profiles to uniprot accession\n",
      "Total profiles: 179\n",
      "Profiles with valid uniprot accession: 179\n",
      "Conversion rate: 100.00%\n"
     ]
    }
   ],
   "source": [
    "from src import signor\n",
    "\n",
    "\"\"\"process molecular interactions and protein complexes\"\"\"\n",
    "signor_directory = os.path.join(data_directory, 'signor')\n",
    "interaction_file = os.path.join(signor_directory, 'signor.xlsx')\n",
    "signor.process_interaction(interaction_file, map_directory)\n",
    "\n",
    "print()\n",
    "uniprot.convert_participant(map_directory, 'interaction', 'signor', sprot_db)\n",
    "print()\n",
    "\n",
    "uniprot.convert_interaction(map_directory, 'signor')\n",
    "\n",
    "complex_file = os.path.join(signor_directory, 'signor_complexes.csv')\n",
    "family_file = os.path.join(signor_directory, 'signor_family.csv')\n",
    "hgnc_file = os.path.join(data_directory, 'hgnc/hgnc_complete_set.json')\n",
    "hgnc = misc.load_hgnc_json(hgnc_file)\n",
    "\n",
    "hline()\n",
    "signor.process_complex(complex_file, family_file, hgnc, map_directory)\n",
    "print()\n",
    "\n",
    "uniprot.convert_participant(map_directory, 'complex', 'signor', sprot_db)\n",
    "print()\n",
    "\n",
    "uniprot.convert_profile(map_directory, 'complex', 'signor')"
   ]
  },
  {
   "cell_type": "markdown",
   "metadata": {},
   "source": [
    "#### PDZBase"
   ]
  },
  {
   "cell_type": "code",
   "execution_count": 15,
   "metadata": {
    "ExecuteTime": {
     "end_time": "2017-11-24T13:03:56.431833Z",
     "start_time": "2017-11-24T13:03:46.517566Z"
    }
   },
   "outputs": [
    {
     "name": "stdout",
     "output_type": "stream",
     "text": [
      "Processing PDZBase\n",
      "Downloading the interactions from PDZBase\n",
      "Total number of interaction processed: 339\n",
      "Total number of unique interactions: 276\n",
      "Total number of unique interactors: 311\n",
      "\n",
      "Converting participants to uniprot accessions\n",
      "Total interactors: 311\n",
      "Total interactors with valid conversion: 124\n",
      "Conversion rate: 39.87%\n",
      "\n",
      "Converting interactions to uniprot accession\n",
      "Total interactions: 276\n",
      "Interactions with valid uniprot accession: 103\n",
      "Conversion rate: 37.32%\n"
     ]
    }
   ],
   "source": [
    "from src import pdzbase\n",
    "\n",
    "\"\"\"process the interactions from PDZBase\"\"\"\n",
    "pdzbase.process(map_directory)\n",
    "print()\n",
    "\n",
    "uniprot.convert_participant(map_directory, 'interaction', 'pdzbase', sprot_db)\n",
    "print()\n",
    "\n",
    "uniprot.convert_interaction(map_directory, 'pdzbase')"
   ]
  },
  {
   "cell_type": "markdown",
   "metadata": {},
   "source": [
    "#### TRIP"
   ]
  },
  {
   "cell_type": "code",
   "execution_count": 16,
   "metadata": {
    "ExecuteTime": {
     "end_time": "2017-11-24T13:17:36.848381Z",
     "start_time": "2017-11-24T13:03:56.434546Z"
    }
   },
   "outputs": [
    {
     "name": "stdout",
     "output_type": "stream",
     "text": [
      "Processing TRIP\n",
      "Total number of interaction processed: 2813\n",
      "Total number of unique interactions: 718\n",
      "Total number of unique interactors: 472\n",
      "\n",
      "Converting participants to uniprot accessions\n",
      "Total interactors: 472\n",
      "Total interactors with valid conversion: 397\n",
      "Conversion rate: 84.11%\n",
      "\n",
      "Converting interactions to uniprot accession\n",
      "Total interactions: 718\n",
      "Interactions with valid uniprot accession: 587\n",
      "Conversion rate: 81.75%\n"
     ]
    }
   ],
   "source": [
    "from src import trip\n",
    "\n",
    "\"\"\"process the interactions from TRIP\"\"\"\n",
    "# issue with unicode during processing the trip file, need to change\n",
    "# the system encoding to utf8\n",
    "trip_file = os.path.join(data_directory, 'trip/20150806.csv')\n",
    "\n",
    "trip.process(trip_file, map_directory)\n",
    "print()\n",
    "\n",
    "uniprot.convert_participant(map_directory, 'interaction', 'trip', sprot_db)\n",
    "print()\n",
    "\n",
    "uniprot.convert_interaction(map_directory, 'trip')"
   ]
  },
  {
   "cell_type": "markdown",
   "metadata": {},
   "source": [
    "#### DeathDomain"
   ]
  },
  {
   "cell_type": "code",
   "execution_count": 17,
   "metadata": {
    "ExecuteTime": {
     "end_time": "2017-11-24T13:20:06.969736Z",
     "start_time": "2017-11-24T13:17:36.850327Z"
    }
   },
   "outputs": [
    {
     "name": "stdout",
     "output_type": "stream",
     "text": [
      "Processing DeathDomain\n",
      "Processing family: CARD\n",
      "Processing family: DD\n",
      "Processing family: DED\n",
      "Processing family: PYD\n",
      "Total number of interaction processed: 1964\n",
      "Total number of unique interactions: 181\n",
      "Total number of unique interactors: 75\n",
      "\n",
      "Converting participants to uniprot accessions\n",
      "Total interactors: 75\n",
      "Total interactors with valid conversion: 75\n",
      "Conversion rate: 100.00%\n",
      "\n",
      "Converting interactions to uniprot accession\n",
      "Total interactions: 181\n",
      "Interactions with valid uniprot accession: 181\n",
      "Conversion rate: 100.00%\n"
     ]
    }
   ],
   "source": [
    "from src import deathdomain\n",
    "\n",
    "deathdomain.process(map_directory)\n",
    "print()\n",
    "\n",
    "uniprot.convert_participant(map_directory, 'interaction', 'deathdomain', sprot_db)\n",
    "print()\n",
    "\n",
    "uniprot.convert_interaction(map_directory, 'deathdomain')\n",
    "    "
   ]
  },
  {
   "cell_type": "markdown",
   "metadata": {},
   "source": [
    "#### PepCyber: P~Pep"
   ]
  },
  {
   "cell_type": "code",
   "execution_count": 18,
   "metadata": {
    "ExecuteTime": {
     "end_time": "2017-11-24T13:20:15.348148Z",
     "start_time": "2017-11-24T13:20:06.972368Z"
    }
   },
   "outputs": [
    {
     "name": "stdout",
     "output_type": "stream",
     "text": [
      "Processing PepCyber ~ PPep interactions\n",
      "Total number of interaction processed: 9529\n",
      "Total number of unique interactions: 3563\n",
      "Total number of unique interactors: 1383\n",
      "\n",
      "Converting participants to uniprot accessions\n",
      "Total interactors: 1383\n",
      "Total interactors with valid conversion: 1016\n",
      "Conversion rate: 73.46%\n",
      "\n",
      "Converting interactions to uniprot accession\n",
      "Total interactions: 3563\n",
      "Interactions with valid uniprot accession: 2805\n",
      "Conversion rate: 78.73%\n"
     ]
    }
   ],
   "source": [
    "from src import ppep\n",
    "\n",
    "\"\"\"process the protein complexes from PPep\"\"\"\n",
    "ppep_data = os.path.join(data_directory, 'ppep')\n",
    "\n",
    "ppep.process(ppep_data, map_directory)\n",
    "print()\n",
    "\n",
    "uniprot.convert_participant(map_directory, 'interaction', 'ppep', sprot_db)\n",
    "print()\n",
    "uniprot.convert_interaction(map_directory, 'ppep')\n"
   ]
  },
  {
   "cell_type": "markdown",
   "metadata": {
    "collapsed": true
   },
   "source": [
    "#### KEGG (Kyoto Encyclopedia of Genes and Genomes)\n"
   ]
  },
  {
   "cell_type": "code",
   "execution_count": 19,
   "metadata": {
    "ExecuteTime": {
     "end_time": "2017-11-24T13:20:38.531025Z",
     "start_time": "2017-11-24T13:20:15.351282Z"
    }
   },
   "outputs": [
    {
     "name": "stdout",
     "output_type": "stream",
     "text": [
      "Processing KEGG interactions\n",
      "Number of pathways processed: 322\n",
      "Total number of unique interactions: 43658\n",
      "Total number of unique interactors: 4991\n",
      "\n",
      "Converting participants to uniprot accessions\n",
      "Total interactors: 4991\n",
      "Total interactors with valid conversion: 4862\n",
      "Conversion rate: 97.42%\n",
      "\n",
      "Converting interactions to uniprot accession\n",
      "Total interactions: 43658\n",
      "Interactions with valid uniprot accession: 42990\n",
      "Conversion rate: 98.47%\n",
      "\n",
      "Processing KEGG Pathway Collection\n",
      "Total number of records processed: 322\n",
      "Total number of unique diseases: 313\n",
      "Total number of unique molecules: 7281\n",
      "\n",
      "Converting participants to uniprot accessions\n",
      "Total interactors: 7281\n",
      "Total interactors with valid conversion: 7071\n",
      "Conversion rate: 97.12%\n",
      "\n",
      "Converting profiles to uniprot accession\n",
      "Total profiles: 313\n",
      "Profiles with valid uniprot accession: 313\n",
      "Conversion rate: 100.00%\n",
      "\n"
     ]
    }
   ],
   "source": [
    "from src import kegg\n",
    "\n",
    "\"\"\"process various collections of KEGG database\"\"\"\n",
    "kegg_directory = os.path.join(data_directory, 'kegg')\n",
    "\n",
    "kegg.process_interaction(kegg_directory, map_directory)\n",
    "print()\n",
    "\n",
    "uniprot.convert_participant(map_directory, 'interaction', 'kegg', sprot_db)\n",
    "print()\n",
    "\n",
    "uniprot.convert_interaction(map_directory, 'kegg')\n",
    "print()\n",
    "\n",
    "# process the kegg pathway so that we can use it for enrichment analysis\n",
    "kegg.process_pathway(kegg_directory, map_directory)\n",
    "print()\n",
    "\n",
    "uniprot.convert_participant(map_directory, 'pathway', 'kegg', sprot_db)\n",
    "print()\n",
    "\n",
    "uniprot.convert_profile(map_directory, 'pathway', 'kegg')\n",
    "print()"
   ]
  },
  {
   "cell_type": "markdown",
   "metadata": {},
   "source": [
    "#### SignaLink"
   ]
  },
  {
   "cell_type": "code",
   "execution_count": 20,
   "metadata": {
    "ExecuteTime": {
     "end_time": "2017-11-24T13:21:03.703351Z",
     "start_time": "2017-11-24T13:20:38.533556Z"
    }
   },
   "outputs": [
    {
     "name": "stdout",
     "output_type": "stream",
     "text": [
      "Converting Signalink sqldump\n",
      "\n",
      "Processing Signalink interactions\n",
      "Total number of interaction processed: 363998\n",
      "Total number of unique interactions: 305201\n",
      "Total number of unique interactors: 9202\n",
      "\n",
      "Converting participants to uniprot accessions\n",
      "Total interactors: 9202\n",
      "Total interactors with valid conversion: 4400\n",
      "Conversion rate: 47.82%\n",
      "\n",
      "Converting interactions to uniprot accession\n",
      "Total interactions: 305201\n",
      "Interactions with valid uniprot accession: 98306\n",
      "Conversion rate: 32.21%\n"
     ]
    }
   ],
   "source": [
    "from src import signalink\n",
    "import importlib\n",
    "importlib.reload(signalink)\n",
    "\n",
    "\"\"\"process pathway information from Signalink\"\"\"\n",
    "signalink_directory = os.path.join(data_directory, 'signalink')\n",
    "signalink.sql_to_tsv(signalink_directory)\n",
    "print()\n",
    "\n",
    "signalink.process_interaction(signalink_directory, map_directory)\n",
    "print()\n",
    "\n",
    "uniprot.convert_participant(map_directory, 'interaction', 'signalink', sprot_db)\n",
    "print()\n",
    "\n",
    "uniprot.convert_interaction(map_directory, 'signalink')"
   ]
  },
  {
   "cell_type": "markdown",
   "metadata": {},
   "source": [
    "### Protein Complexes"
   ]
  },
  {
   "cell_type": "markdown",
   "metadata": {},
   "source": [
    "#### CORUM"
   ]
  },
  {
   "cell_type": "code",
   "execution_count": 21,
   "metadata": {
    "ExecuteTime": {
     "end_time": "2017-11-24T13:21:12.043171Z",
     "start_time": "2017-11-24T13:21:03.705342Z"
    }
   },
   "outputs": [
    {
     "name": "stdout",
     "output_type": "stream",
     "text": [
      "Processing CORUM complexes\n",
      "Total number of unique complexes: 3633\n",
      "Total number of unique molecules: 5349\n",
      "\n",
      "Converting participants to uniprot accessions\n",
      "Total interactors: 5349\n",
      "Total interactors with valid conversion: 3312\n",
      "Conversion rate: 61.92%\n",
      "\n",
      "Converting profiles to uniprot accession\n",
      "Total profiles: 3633\n",
      "Profiles with valid uniprot accession: 2538\n",
      "Conversion rate: 69.86%\n"
     ]
    }
   ],
   "source": [
    "from src import corum\n",
    "\n",
    "\"\"\"process the protein complexes from CORUM\"\"\"\n",
    "corum_file = os.path.join(data_directory, 'corum/allComplexes.txt')\n",
    "corum.process_complex(corum_file, map_directory)\n",
    "print()\n",
    "\n",
    "uniprot.convert_participant(map_directory, 'complex', 'corum', sprot_db)\n",
    "print()\n",
    "\n",
    "uniprot.convert_profile(map_directory, 'complex', 'corum')\n"
   ]
  },
  {
   "cell_type": "markdown",
   "metadata": {},
   "source": [
    "#### INTACT"
   ]
  },
  {
   "cell_type": "code",
   "execution_count": 22,
   "metadata": {
    "ExecuteTime": {
     "end_time": "2017-11-24T13:21:13.952946Z",
     "start_time": "2017-11-24T13:21:12.045079Z"
    }
   },
   "outputs": [
    {
     "name": "stdout",
     "output_type": "stream",
     "text": [
      "Processing INTACT complexes\n",
      "Total number of unique complexes: 614\n",
      "Total number of unique molecules: 951\n",
      "\n",
      "Converting participants to uniprot accessions\n",
      "Total interactors: 951\n",
      "Total interactors with valid conversion: 946\n",
      "Conversion rate: 99.47%\n",
      "\n",
      "Converting profiles to uniprot accession\n",
      "Total profiles: 614\n",
      "Profiles with valid uniprot accession: 614\n",
      "Conversion rate: 100.00%\n"
     ]
    }
   ],
   "source": [
    "from src import intact\n",
    "\n",
    "\"\"\"process the protein complexes from INTACT\"\"\"\n",
    "complex_file = os.path.join(data_directory, 'intact/homo_sapiens.tsv')\n",
    "intact.process_complex(complex_file, map_directory)\n",
    "print()\n",
    "\n",
    "uniprot.convert_participant(map_directory, 'complex', 'intact', sprot_db)\n",
    "print()\n",
    "\n",
    "uniprot.convert_profile(map_directory, 'complex', 'intact')\n"
   ]
  },
  {
   "cell_type": "markdown",
   "metadata": {},
   "source": [
    "#### HumanCyc"
   ]
  },
  {
   "cell_type": "code",
   "execution_count": 23,
   "metadata": {
    "ExecuteTime": {
     "end_time": "2017-11-24T13:21:15.571003Z",
     "start_time": "2017-11-24T13:21:13.954796Z"
    }
   },
   "outputs": [
    {
     "name": "stdout",
     "output_type": "stream",
     "text": [
      "Processing HumanCyc complex\n",
      "Total number of records processed: 28\n",
      "Total number of unique diseases: 26\n",
      "Total number of unique molecules: 50\n",
      "\n",
      "Converting participants to uniprot accessions\n",
      "Total interactors: 50\n",
      "Total interactors with valid conversion: 50\n",
      "Conversion rate: 100.00%\n",
      "\n",
      "Converting profiles to uniprot accession\n",
      "Total profiles: 26\n",
      "Profiles with valid uniprot accession: 26\n",
      "Conversion rate: 100.00%\n"
     ]
    }
   ],
   "source": [
    "from src import humancyc\n",
    "\n",
    "\"\"\"process various information from HumanCyc\"\"\"\n",
    "humancyc_directory = os.path.join(data_directory, 'humancyc/20.0')\n",
    "\n",
    "humancyc.process_profile(humancyc_directory, map_directory, 'complex')\n",
    "print()\n",
    "\n",
    "uniprot.convert_participant(map_directory, 'complex', 'humancyc', sprot_db)\n",
    "print()\n",
    "\n",
    "uniprot.convert_profile(map_directory, 'complex', 'humancyc')"
   ]
  },
  {
   "cell_type": "markdown",
   "metadata": {},
   "source": [
    "### Manually curated interactions\n",
    "\n",
    "These interactions could be used to build a golden positive set."
   ]
  },
  {
   "cell_type": "markdown",
   "metadata": {
    "collapsed": true
   },
   "source": [
    "#### HuRI collection\n",
    "\n",
    "The file `LitBM-17` is a manually curated interactions."
   ]
  },
  {
   "cell_type": "code",
   "execution_count": 24,
   "metadata": {
    "ExecuteTime": {
     "end_time": "2017-11-24T13:21:18.723383Z",
     "start_time": "2017-11-24T13:21:15.572954Z"
    }
   },
   "outputs": [
    {
     "name": "stdout",
     "output_type": "stream",
     "text": [
      "Processing litbm\n",
      "Total number of interaction processed: 53504\n",
      "Total number of unique interactions: 8703\n",
      "Total number of unique interactors: 4971\n",
      "\n",
      "Converting participants to uniprot accessions\n",
      "Total interactors: 4971\n",
      "Total interactors with valid conversion: 4962\n",
      "Conversion rate: 99.82%\n",
      "\n",
      "Converting interactions to uniprot accession\n",
      "Total interactions: 8703\n",
      "Interactions with valid uniprot accession: 8692\n",
      "Conversion rate: 99.87%\n"
     ]
    }
   ],
   "source": [
    "input_files = [os.path.join(data_directory, 'huri/LitBM-17.psi')]\n",
    "mitab.process(input_files, map_directory, 'litbm')\n",
    "print()\n",
    "\n",
    "uniprot.convert_participant(map_directory, 'interaction', 'litbm', sprot_db)\n",
    "print()\n",
    "\n",
    "uniprot.convert_interaction(map_directory, 'litbm')\n"
   ]
  },
  {
   "cell_type": "markdown",
   "metadata": {},
   "source": [
    "## Negative interactions\n",
    "\n",
    "These negative interactions are not occurring under a particular condition. At present, there is no single experimental method that could detect negative interactions. "
   ]
  },
  {
   "cell_type": "markdown",
   "metadata": {},
   "source": [
    "### Nagatome"
   ]
  },
  {
   "cell_type": "code",
   "execution_count": 25,
   "metadata": {
    "ExecuteTime": {
     "end_time": "2017-11-24T13:21:20.711766Z",
     "start_time": "2017-11-24T13:21:18.725880Z"
    }
   },
   "outputs": [
    {
     "name": "stdout",
     "output_type": "stream",
     "text": [
      "Processing Negatome\n",
      "Total number of interaction processed: 6532\n",
      "Total number of unique interactions: 5867\n",
      "Total number of unique interactors: 3375\n",
      "\n",
      "Converting participants to uniprot accessions\n",
      "Total interactors: 3375\n",
      "Total interactors with valid conversion: 1226\n",
      "Conversion rate: 36.33%\n",
      "\n",
      "Converting interactions to uniprot accession\n",
      "Total interactions: 5867\n",
      "Interactions with valid uniprot accession: 1560\n",
      "Conversion rate: 26.59%\n"
     ]
    }
   ],
   "source": [
    "from src import negatome\n",
    "\n",
    "\"\"\"process negative interactions from Negatome\"\"\"\n",
    "negatome_file = os.path.join(data_directory, 'negatome/combined.txt')\n",
    "negatome.process(negatome_file, map_directory)\n",
    "print()\n",
    "\n",
    "uniprot.convert_participant(map_directory, 'notinteraction', 'negatome', sprot_db)\n",
    "print()\n",
    "\n",
    "uniprot.convert_interaction(map_directory, 'negatome', 'notinteraction')\n"
   ]
  },
  {
   "cell_type": "markdown",
   "metadata": {},
   "source": [
    "### CIDeR\n",
    "\n",
    "During the processing of the CIDeR collection (Step above), we also reported negative interactions with \"NOT\" as it quantifier. Here, we only standardize the reported negative interactions."
   ]
  },
  {
   "cell_type": "code",
   "execution_count": 26,
   "metadata": {
    "ExecuteTime": {
     "end_time": "2017-11-24T13:21:22.661340Z",
     "start_time": "2017-11-24T13:21:20.714021Z"
    }
   },
   "outputs": [
    {
     "name": "stdout",
     "output_type": "stream",
     "text": [
      "Converting participants to uniprot accessions\n",
      "Total interactors: 2490\n",
      "Total interactors with valid conversion: 2426\n",
      "Conversion rate: 97.43%\n",
      "Converting interactions to uniprot accession\n",
      "Total interactions: 590\n",
      "Interactions with valid uniprot accession: 589\n",
      "Conversion rate: 99.83%\n"
     ]
    }
   ],
   "source": [
    "# negative interaction part\n",
    "uniprot.convert_participant(map_directory, 'notinteraction', 'cider', sprot_db)\n",
    "\n",
    "uniprot.convert_interaction(map_directory, 'cider', 'notinteraction')\n"
   ]
  },
  {
   "cell_type": "markdown",
   "metadata": {},
   "source": [
    "### IntAct\n",
    "\n",
    "IntAct also provides negative interactions. Similarly, we can process the file using the `mitab` module."
   ]
  },
  {
   "cell_type": "code",
   "execution_count": 27,
   "metadata": {
    "ExecuteTime": {
     "end_time": "2017-11-24T13:21:24.235309Z",
     "start_time": "2017-11-24T13:21:22.663378Z"
    }
   },
   "outputs": [
    {
     "name": "stdout",
     "output_type": "stream",
     "text": [
      "Processing intact\n",
      "Total number of interaction processed: 959\n",
      "Total number of unique interactions: 914\n",
      "Total number of unique interactors: 712\n",
      "\n",
      "Converting participants to uniprot accessions\n",
      "Total interactors: 712\n",
      "Total interactors with valid conversion: 505\n",
      "Conversion rate: 70.93%\n",
      "\n",
      "Converting interactions to uniprot accession\n",
      "Total interactions: 914\n",
      "Interactions with valid uniprot accession: 372\n",
      "Conversion rate: 40.70%\n"
     ]
    }
   ],
   "source": [
    "\"\"\"process negative interactions from IntAct\"\"\"\n",
    "input_file = [os.path.join(data_directory, 'intact/intact_negative.txt')]\n",
    "mitab.process(input_file, map_directory, 'intact', 'notinteraction', 'NOT')\n",
    "print()\n",
    "\n",
    "uniprot.convert_participant(map_directory, 'notinteraction', 'intact', sprot_db)\n",
    "print()\n",
    "\n",
    "uniprot.convert_interaction(map_directory, 'intact', 'notinteraction')"
   ]
  },
  {
   "cell_type": "markdown",
   "metadata": {
    "collapsed": true
   },
   "source": [
    "### Extract Human Interactions"
   ]
  },
  {
   "cell_type": "code",
   "execution_count": 28,
   "metadata": {
    "ExecuteTime": {
     "end_time": "2017-11-24T13:21:50.098319Z",
     "start_time": "2017-11-24T13:21:24.238407Z"
    }
   },
   "outputs": [
    {
     "name": "stdout",
     "output_type": "stream",
     "text": [
      "Combining interactions in datasets...\n",
      "...Processing bindtranslation\n",
      "...Processing biogrid\n",
      "...Processing cider\n",
      "...Processing deathdomain\n",
      "...Processing dip\n",
      "...Processing hprd\n",
      "...Processing htridb\n",
      "...Processing hupa\n",
      "...Processing huri\n",
      "...Processing innatedb\n",
      "...Processing instruct\n",
      "...Processing intact\n",
      "...Processing kegg\n",
      "...Processing matrixdb\n",
      "...Processing mint\n",
      "...Processing mppi\n",
      "...Processing pdzbase\n",
      "...Processing ppep\n",
      "...Processing reactome\n",
      "...Processing signalink\n",
      "...Processing signor\n",
      "...Processing spike\n",
      "...Processing synsysnet\n",
      "...Processing tcof\n",
      "...Processing trip\n",
      "Total number of interaction processed: 876229\n",
      "Total number of unique interactions: 504044\n"
     ]
    }
   ],
   "source": [
    "datasets = ['bindtranslation', 'biogrid', 'cider', 'deathdomain', \n",
    "           'dip', 'hprd', 'htridb', 'hupa', 'huri',\n",
    "           'innatedb', 'instruct', 'intact', 'kegg',\n",
    "           'matrixdb', 'mint', 'mppi', 'pdzbase', 'ppep',\n",
    "           'reactome', 'signalink', 'signor', 'spike',\n",
    "           'synsysnet', 'tcof', 'trip'\n",
    "]\n",
    "\n",
    "input_files = []\n",
    "\n",
    "for ds in datasets:\n",
    "    input_files.append(os.path.join(map_directory, 'interaction.' + ds + '.uniprot'))\n",
    "\n",
    "hgnc_file = os.path.join(data_directory, 'hgnc/hgnc_complete_set.json')\n",
    "hgnc = misc.load_hgnc_json(hgnc_file)\n",
    "\n",
    "output_file = os.path.join(final_directory, 'interaction.human.uniprot')\n",
    "\n",
    "# combine and filter the interactions based on HGNC\n",
    "misc.combine_interaction_datasets(input_files, output_file, hgnc['uniprot'])"
   ]
  },
  {
   "cell_type": "markdown",
   "metadata": {
    "collapsed": true
   },
   "source": [
    "## Interactions from other integrated resouces"
   ]
  },
  {
   "cell_type": "markdown",
   "metadata": {},
   "source": [
    "### ComPPI\n",
    "\n",
    "The conversion rate of ComPPI is generally very low, due to the fact that many of the proteins are obtained from UniProt/TrEMBL collection. Generally, our application excludes these unreviewed proteins."
   ]
  },
  {
   "cell_type": "code",
   "execution_count": 29,
   "metadata": {
    "ExecuteTime": {
     "end_time": "2017-11-24T13:22:11.174961Z",
     "start_time": "2017-11-24T13:21:50.100617Z"
    }
   },
   "outputs": [
    {
     "name": "stdout",
     "output_type": "stream",
     "text": [
      "Processing ComPPI\n",
      "Total number of interaction processed: 385481\n",
      "Total number of unique interactions: 385481\n",
      "Total number of unique interactors: 23265\n",
      "\n",
      "Converting participants to uniprot accessions\n",
      "Total interactors: 23265\n",
      "Total interactors with valid conversion: 15929\n",
      "Conversion rate: 68.47%\n",
      "\n",
      "Converting interactions to uniprot accession\n",
      "Total interactions: 385481\n",
      "Interactions with valid uniprot accession: 181793\n",
      "Conversion rate: 47.16%\n"
     ]
    }
   ],
   "source": [
    "from src import comppi\n",
    "\n",
    "input_file = os.path.join(data_directory, 'comppi/comppi--interactions--tax_hsapiens_loc_all.txt.gz')\n",
    "comppi.process(input_file, map_directory)\n",
    "\n",
    "print()\n",
    "uniprot.convert_participant(map_directory, 'interaction', 'comppi', sprot_db)\n",
    "print()\n",
    "uniprot.convert_interaction(map_directory, 'comppi', 'interaction')"
   ]
  },
  {
   "cell_type": "markdown",
   "metadata": {},
   "source": [
    "### ConsensusPathDB (CPDB)"
   ]
  },
  {
   "cell_type": "code",
   "execution_count": 30,
   "metadata": {
    "ExecuteTime": {
     "end_time": "2017-11-24T13:22:29.733971Z",
     "start_time": "2017-11-24T13:22:11.177359Z"
    }
   },
   "outputs": [
    {
     "name": "stdout",
     "output_type": "stream",
     "text": [
      "Processing ConsensusPathDB\n",
      "Total number of interaction processed: 291415\n",
      "Total number of unique interactions: 272998\n",
      "Total number of unique interactors: 17941\n",
      "\n",
      "Converting participants to uniprot accessions\n",
      "Total interactors: 17941\n",
      "Total interactors with valid conversion: 16296\n",
      "Conversion rate: 90.83%\n",
      "\n",
      "Converting interactions to uniprot accession\n",
      "Total interactions: 272998\n",
      "Interactions with valid uniprot accession: 261435\n",
      "Conversion rate: 95.76%\n"
     ]
    }
   ],
   "source": [
    "from src import cpdb\n",
    "\n",
    "input_file = os.path.join(data_directory, 'cpdb/ConsensusPathDB_human_PPI.gz')\n",
    "cpdb.process(input_file, map_directory)\n",
    "\n",
    "print()\n",
    "uniprot.convert_participant(map_directory, 'interaction', 'cpdb', sprot_db)\n",
    "print()\n",
    "uniprot.convert_interaction(map_directory, 'cpdb', 'interaction')"
   ]
  },
  {
   "cell_type": "markdown",
   "metadata": {},
   "source": [
    "### GeneMANIA"
   ]
  },
  {
   "cell_type": "code",
   "execution_count": 31,
   "metadata": {
    "ExecuteTime": {
     "end_time": "2017-11-24T13:22:46.682042Z",
     "start_time": "2017-11-24T13:22:29.736297Z"
    }
   },
   "outputs": [
    {
     "name": "stdout",
     "output_type": "stream",
     "text": [
      "Protein interactions from selected publications\n",
      "Processing GeneMANIA\n",
      "Total number of interaction processed: 596213\n",
      "Total number of unique interactions: 265427\n",
      "Total number of unique interactors: 16341\n",
      "\n",
      "Converting participants to uniprot accessions\n",
      "Total interactors: 16341\n",
      "Total interactors with valid conversion: 16070\n",
      "Conversion rate: 98.34%\n",
      "\n",
      "Converting interactions to uniprot accession\n",
      "Total interactions: 265427\n",
      "Interactions with valid uniprot accession: 259919\n",
      "Conversion rate: 97.92%\n"
     ]
    }
   ],
   "source": [
    "from src import genemania\n",
    "\n",
    "print('Protein interactions from selected publications')\n",
    "genemania_directory = os.path.join(data_directory, 'genemania/Homo_sapiens/')\n",
    "genemania.process(genemania_directory, map_directory, '9606', 'PPI', 'interaction', ['Physical_Interactions'])\n",
    "print()\n",
    "\n",
    "uniprot.convert_participant(map_directory, 'interaction', 'genemania', sprot_db)\n",
    "print()\n",
    "\n",
    "uniprot.convert_interaction(map_directory, 'genemania', 'interaction')"
   ]
  },
  {
   "cell_type": "markdown",
   "metadata": {},
   "source": [
    "### FunCoup"
   ]
  },
  {
   "cell_type": "code",
   "execution_count": 32,
   "metadata": {
    "ExecuteTime": {
     "end_time": "2017-11-24T13:32:12.648113Z",
     "start_time": "2017-11-24T13:22:46.684381Z"
    }
   },
   "outputs": [
    {
     "name": "stdout",
     "output_type": "stream",
     "text": [
      "Processing FunCoup\n",
      "Total number of interaction processed: 6403719\n",
      "Total number of unique interactions: 6403719\n",
      "Total number of unique interactors: 18355\n",
      "\n",
      "Converting participants to uniprot accessions\n",
      "Total interactors: 18355\n",
      "Total interactors with valid conversion: 18064\n",
      "Conversion rate: 98.41%\n",
      "\n",
      "Converting interactions to uniprot accession\n",
      "Total interactions: 6403719\n",
      "Interactions with valid uniprot accession: 6351280\n",
      "Conversion rate: 99.18%\n"
     ]
    }
   ],
   "source": [
    "from src import funcoup\n",
    "\n",
    "input_file = os.path.join(data_directory, 'funcoup/FC4.0_H.sapiens_full.gz')\n",
    "funcoup.process(input_file, map_directory)\n",
    "\n",
    "print()\n",
    "uniprot.convert_participant(map_directory, 'interaction', 'funcoup', sprot_db)\n",
    "print()\n",
    "uniprot.convert_interaction(map_directory, 'funcoup', 'interaction')"
   ]
  },
  {
   "cell_type": "markdown",
   "metadata": {},
   "source": [
    "### HumanNET"
   ]
  },
  {
   "cell_type": "code",
   "execution_count": 33,
   "metadata": {
    "ExecuteTime": {
     "end_time": "2017-11-24T13:32:36.322868Z",
     "start_time": "2017-11-24T13:32:12.650303Z"
    }
   },
   "outputs": [
    {
     "name": "stdout",
     "output_type": "stream",
     "text": [
      "Processing HumanNet\n",
      "Total number of interaction processed: 476399\n",
      "Total number of unique interactions: 476399\n",
      "Total number of unique interactors: 16243\n",
      "\n",
      "Converting participants to uniprot accessions\n",
      "Total interactors: 16243\n",
      "Total interactors with valid conversion: 15935\n",
      "Conversion rate: 98.10%\n",
      "\n",
      "Converting interactions to uniprot accession\n",
      "Total interactions: 476399\n",
      "Interactions with valid uniprot accession: 468789\n",
      "Conversion rate: 98.40%\n"
     ]
    }
   ],
   "source": [
    "from src import humannet\n",
    "\n",
    "humannet_directory = os.path.join(data_directory, 'umannet/')\n",
    "humannet.process(humannet_directory, map_directory)\n",
    "\n",
    "print()\n",
    "uniprot.convert_participant(map_directory, 'interaction', 'humannet', sprot_db)\n",
    "print()\n",
    "uniprot.convert_interaction(map_directory, 'humannet', 'interaction')\n"
   ]
  },
  {
   "cell_type": "markdown",
   "metadata": {},
   "source": [
    "### InBioMap"
   ]
  },
  {
   "cell_type": "code",
   "execution_count": 34,
   "metadata": {
    "ExecuteTime": {
     "end_time": "2017-11-24T13:33:14.794586Z",
     "start_time": "2017-11-24T13:32:36.324954Z"
    }
   },
   "outputs": [
    {
     "name": "stdout",
     "output_type": "stream",
     "text": [
      "Processing InBioMap\n",
      "Total number of interaction processed: 625641\n",
      "Total number of unique interactions: 625641\n",
      "Total number of unique interactors: 17653\n",
      "\n",
      "Converting participants to uniprot accessions\n",
      "Total interactors: 17653\n",
      "Total interactors with valid conversion: 17650\n",
      "Conversion rate: 99.98%\n",
      "\n",
      "Converting interactions to uniprot accession\n",
      "Total interactions: 625641\n",
      "Interactions with valid uniprot accession: 625458\n",
      "Conversion rate: 99.97%\n"
     ]
    }
   ],
   "source": [
    "from src import inbiomap\n",
    "\n",
    "inbiomap_directory = os.path.join(data_directory, 'inbiomap/InBio_Map_core_2016_09_12/')\n",
    "inbiomap.process(inbiomap_directory, map_directory)\n",
    "\n",
    "print()\n",
    "uniprot.convert_participant(map_directory, 'interaction', 'inbiomap', sprot_db)\n",
    "print()\n",
    "uniprot.convert_interaction(map_directory, 'inbiomap', 'interaction')"
   ]
  },
  {
   "cell_type": "markdown",
   "metadata": {},
   "source": [
    "### IRefIndex"
   ]
  },
  {
   "cell_type": "code",
   "execution_count": 35,
   "metadata": {
    "ExecuteTime": {
     "end_time": "2017-11-24T13:35:30.308366Z",
     "start_time": "2017-11-24T13:35:05.642019Z"
    }
   },
   "outputs": [
    {
     "name": "stdout",
     "output_type": "stream",
     "text": [
      "Processing IRefIndex\n",
      "Total number of interaction processed: 673100\n",
      "Total number of unique interactions: 321740\n",
      "Total number of unique interactors: 45629\n",
      "\n",
      "Converting participants to uniprot accessions\n",
      "Total interactors: 45629\n",
      "Total interactors with valid conversion: 23962\n",
      "Conversion rate: 52.51%\n",
      "\n",
      "Converting interactions to uniprot accession\n",
      "Total interactions: 321740\n",
      "Interactions with valid uniprot accession: 223487\n",
      "Conversion rate: 69.46%\n"
     ]
    }
   ],
   "source": [
    "from src import irefindex\n",
    "\n",
    "input_file = os.path.join(data_directory, 'irefindex/9606.mitab.04072015.txt')\n",
    "irefindex.process(input_file, map_directory)\n",
    "\n",
    "print()\n",
    "uniprot.convert_participant(map_directory, 'interaction', 'irefindex', sprot_db)\n",
    "print()\n",
    "uniprot.convert_interaction(map_directory, 'irefindex', 'interaction')\n"
   ]
  },
  {
   "cell_type": "markdown",
   "metadata": {},
   "source": [
    "### HIPPIE"
   ]
  },
  {
   "cell_type": "code",
   "execution_count": 36,
   "metadata": {
    "ExecuteTime": {
     "end_time": "2017-11-24T13:35:50.778974Z",
     "start_time": "2017-11-24T13:35:30.310765Z"
    }
   },
   "outputs": [
    {
     "name": "stdout",
     "output_type": "stream",
     "text": [
      "Processing HIPPIE\n",
      "Total number of interaction processed: 340629\n",
      "Total number of unique interactions: 324778\n",
      "Total number of unique interactors: 17365\n",
      "\n",
      "Converting participants to uniprot accessions\n",
      "Total interactors: 17365\n",
      "Total interactors with valid conversion: 16790\n",
      "Conversion rate: 96.69%\n",
      "\n",
      "Converting interactions to uniprot accession\n",
      "Total interactions: 324778\n",
      "Interactions with valid uniprot accession: 322865\n",
      "Conversion rate: 99.41%\n"
     ]
    }
   ],
   "source": [
    "from src import hippie\n",
    "\n",
    "input_file = os.path.join(data_directory, 'hippie/hippie_current.txt')\n",
    "hippie.process(input_file, map_directory)\n",
    "\n",
    "print()\n",
    "uniprot.convert_participant(map_directory, 'interaction', 'hippie', sprot_db)\n",
    "print()\n",
    "uniprot.convert_interaction(map_directory, 'hippie', 'interaction')\n"
   ]
  },
  {
   "cell_type": "markdown",
   "metadata": {},
   "source": [
    "### STRING"
   ]
  },
  {
   "cell_type": "code",
   "execution_count": 37,
   "metadata": {
    "ExecuteTime": {
     "end_time": "2017-11-24T13:40:51.906538Z",
     "start_time": "2017-11-24T13:35:50.781142Z"
    }
   },
   "outputs": [
    {
     "name": "stdout",
     "output_type": "stream",
     "text": [
      "Processing STRING\n",
      "Total number of interaction processed: 11353056\n",
      "Total number of unique interactions: 5676528\n",
      "Total number of unique interactors: 19576\n",
      "\n",
      "Converting participants to uniprot accessions\n",
      "Total interactors: 19576\n",
      "Total interactors with valid conversion: 17566\n",
      "Conversion rate: 89.73%\n",
      "\n",
      "Converting interactions to uniprot accession\n",
      "Total interactions: 5676528\n",
      "Interactions with valid uniprot accession: 4782791\n",
      "Conversion rate: 84.26%\n"
     ]
    }
   ],
   "source": [
    "from src import string\n",
    "\n",
    "input_file = os.path.join(data_directory, 'string/9606.protein.links.full.v10.5.txt.gz')\n",
    "string.process(input_file, map_directory)\n",
    "\n",
    "print()\n",
    "uniprot.convert_participant(map_directory, 'interaction', 'string', sprot_db)\n",
    "print()\n",
    "uniprot.convert_interaction(map_directory, 'string', 'interaction')\n"
   ]
  },
  {
   "cell_type": "markdown",
   "metadata": {},
   "source": [
    "## Standardize the interactions using HGNC"
   ]
  },
  {
   "cell_type": "code",
   "execution_count": 38,
   "metadata": {
    "ExecuteTime": {
     "end_time": "2017-11-24T13:41:31.701905Z",
     "start_time": "2017-11-24T13:40:51.908929Z"
    }
   },
   "outputs": [
    {
     "name": "stdout",
     "output_type": "stream",
     "text": [
      "Filtering inbiomap\n",
      "Filtering interactions ...\n",
      "Total number of interaction processed: 615524\n",
      "Total number of final interactions: 615154\n",
      "\n",
      "Filtering hippie\n",
      "Filtering interactions ...\n",
      "Total number of interaction processed: 324393\n",
      "Total number of final interactions: 324264\n",
      "\n",
      "Filtering genemania\n",
      "Filtering interactions ...\n",
      "Total number of interaction processed: 259319\n",
      "Total number of final interactions: 259319\n",
      "\n",
      "Filtering irefindex\n",
      "Filtering interactions ...\n",
      "Total number of interaction processed: 185325\n",
      "Total number of final interactions: 185273\n",
      "\n",
      "Filtering cpdb\n",
      "Filtering interactions ...\n",
      "Total number of interaction processed: 261435\n",
      "Total number of final interactions: 261353\n",
      "\n",
      "Filtering comppi\n",
      "Filtering interactions ...\n",
      "Total number of interaction processed: 174939\n",
      "Total number of final interactions: 174858\n",
      "\n",
      "Filtering string\n",
      "Filtering interactions ...\n",
      "Total number of interaction processed: 4746189\n",
      "Total number of final interactions: 4746181\n",
      "\n",
      "Filtering humannet\n",
      "Filtering interactions ...\n",
      "Total number of interaction processed: 457483\n",
      "Total number of final interactions: 457348\n",
      "\n",
      "Filtering funcoup\n",
      "Filtering interactions ...\n",
      "Total number of interaction processed: 5455662\n",
      "Total number of final interactions: 5455662\n",
      "\n"
     ]
    }
   ],
   "source": [
    "databases = ['inbiomap', 'hippie', 'genemania', 'irefindex', 'cpdb', 'comppi',\n",
    "             'string', 'humannet', 'funcoup']\n",
    "\n",
    "hgnc_file = os.path.join(data_directory, 'hgnc/hgnc_complete_set.json')\n",
    "hgnc = misc.load_hgnc_json(hgnc_file)\n",
    "\n",
    "for dbname in databases:\n",
    "    print('Filtering', dbname)\n",
    "    filename = 'interaction.' + dbname + '.uniprot'\n",
    "    input_file = os.path.join(map_directory, filename) \n",
    "    output_file = os.path.join(final_directory, filename)\n",
    "    misc.filter_interactions(input_file, output_file, hgnc['uniprot'])\n",
    "    print()\n",
    "    "
   ]
  },
  {
   "cell_type": "markdown",
   "metadata": {
    "collapsed": true
   },
   "source": [
    "## Gene Ontology"
   ]
  },
  {
   "cell_type": "code",
   "execution_count": 39,
   "metadata": {
    "ExecuteTime": {
     "end_time": "2017-11-24T14:01:26.199129Z",
     "start_time": "2017-11-24T14:01:19.856042Z"
    }
   },
   "outputs": [
    {
     "name": "stdout",
     "output_type": "stream",
     "text": [
      "Processing Gene Ontology Association\n",
      "Total number of records processed: 439134\n",
      "Total number of unique diseases: 12488\n",
      "Total number of unique molecules: 15934\n",
      "\n",
      "Converting participants to uniprot accessions\n",
      "Total interactors: 15934\n",
      "Total interactors with valid conversion: 15909\n",
      "Conversion rate: 99.84%\n",
      "\n",
      "Converting profiles to uniprot accession\n",
      "Total profiles: 12488\n",
      "Profiles with valid uniprot accession: 12488\n",
      "Conversion rate: 100.00%\n"
     ]
    }
   ],
   "source": [
    "from src import goa\n",
    "\n",
    "input_file = os.path.join(data_directory, 'go/goa_human.gaf.gz')\n",
    "goa.process(input_file, map_directory)\n",
    "\n",
    "print()\n",
    "uniprot.convert_participant(map_directory, 'geneontology', 'goa', sprot_db)\n",
    "print()\n",
    "uniprot.convert_profile(map_directory, 'geneontology', 'goa')"
   ]
  },
  {
   "cell_type": "code",
   "execution_count": null,
   "metadata": {
    "collapsed": true
   },
   "outputs": [],
   "source": []
  }
 ],
 "metadata": {
  "kernelspec": {
   "display_name": "Python 3",
   "language": "python",
   "name": "python3"
  },
  "language_info": {
   "codemirror_mode": {
    "name": "ipython",
    "version": 3
   },
   "file_extension": ".py",
   "mimetype": "text/x-python",
   "name": "python",
   "nbconvert_exporter": "python",
   "pygments_lexer": "ipython3",
   "version": "3.6.3"
  }
 },
 "nbformat": 4,
 "nbformat_minor": 2
}
