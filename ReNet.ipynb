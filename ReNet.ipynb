{
 "cells": [
  {
   "cell_type": "markdown",
   "metadata": {},
   "source": [
    "# Re:Net - A reproducible network constructor for large-scale genetics analysis\n",
    "\n",
    "## Abstract\n",
    "\n",
    "We present an effective workflow to construct a reproducible protein interaction network for large-scale genetics analysis. Our framework is capable of integrating interaction data from any resources and assesses the network using a probabilistic scoring scheme. The complete procedure is presented using an interactive computing system that provides documentations, procedures and outputs in a notebook-like fashion to ensure the reproducibility of analysis results.\n",
    "\n",
    "## Network construction procedure:\n",
    "\n",
    "* [Data downloading](Data downloading.ipynb)\n",
    "* [Data standardization](Data standardization.ipynb)\n",
    "* [Data integration](Data integration.ipynb)\n",
    "\n",
    "## Applications\n",
    "\n",
    "* [Comparative analysis of the existing interaction resources](Comparative analysis.ipynb)\n",
    "* [Network characterization](Network characterization.ipynb)\n",
    "* [Network hubs](Network hubs.ipynb)\n",
    "* [108 Schizophrenia-associated genetic loci](108 Schizophrenia.ipynb)\n"
   ]
  },
  {
   "cell_type": "code",
   "execution_count": null,
   "metadata": {
    "collapsed": true
   },
   "outputs": [],
   "source": []
  }
 ],
 "metadata": {
  "kernelspec": {
   "display_name": "Python 3",
   "language": "python",
   "name": "python3"
  },
  "language_info": {
   "codemirror_mode": {
    "name": "ipython",
    "version": 3
   },
   "file_extension": ".py",
   "mimetype": "text/x-python",
   "name": "python",
   "nbconvert_exporter": "python",
   "pygments_lexer": "ipython3",
   "version": "3.6.3"
  }
 },
 "nbformat": 4,
 "nbformat_minor": 2
}
