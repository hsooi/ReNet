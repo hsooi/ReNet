{
 "cells": [
  {
   "cell_type": "markdown",
   "metadata": {},
   "source": [
    "# ReNet - A reproducible framework for constructing protein interaction network\n",
    "\n",
    "## Abstract\n",
    "\n",
    "**Summary**: Protein interaction networks have been widely used to facilitate the interpretation of large-scale genetics studies. While various interaction networks are available online, these networks are usually incomplete and outdated. Here, we present a flexible framework to construct a reproducible protein interaction network for large-scale genetics analysis. Our framework can integrate interaction data from any databases and uses a probabilistic scoring scheme to assess interactions. The complete framework is implemented in Python and Jupyter Notebook. Python is easy to learn and use, while Jupyter Notebook allows researchers to create and share documents that contain documentation, live code and results. By combining the benefits of both Python and Jupyter Notebook, our framework provides a simple and clear procedure to construct a protein interaction network using the latest available data. Finally, the notebooks used to create the network can be shared to enable collaboration, knowledge dissemination and reproducible research.\n",
    "\n",
    "**Availability**: ReNet is available at https://github.com/hsooi/ReNet\n",
    "\n",
    "---\n",
    "\n",
    "\n",
    "## Network construction procedure:\n",
    "* [Data downloading](Data downloading.ipynb)\n",
    "* [Data standardization](Data standardization.ipynb)\n",
    "* [Data integration](Data integration.ipynb)\n",
    "\n",
    "## Applications\n",
    "* [Comparative analysis of the existing interaction resources](Comparative analysis.ipynb)\n",
    "* [Network characterization](Network characterization.ipynb)\n",
    "* [Network hubs](Network hubs.ipynb)\n",
    "* [Brain-specific interactome analysis](Brain-specific interactome.ipynb)\n",
    "* [108 Schizophrenia-associated genetic loci](108 Schizophrenia.ipynb)\n"
   ]
  },
  {
   "cell_type": "code",
   "execution_count": null,
   "metadata": {},
   "outputs": [],
   "source": []
  }
 ],
 "metadata": {
  "kernelspec": {
   "display_name": "Python 3",
   "language": "python",
   "name": "python3"
  },
  "language_info": {
   "codemirror_mode": {
    "name": "ipython",
    "version": 3
   },
   "file_extension": ".py",
   "mimetype": "text/x-python",
   "name": "python",
   "nbconvert_exporter": "python",
   "pygments_lexer": "ipython3",
   "version": "3.6.4"
  },
  "toc": {
   "nav_menu": {
    "height": "246px",
    "width": "323px"
   },
   "number_sections": true,
   "sideBar": true,
   "skip_h1_title": false,
   "toc_cell": false,
   "toc_position": {},
   "toc_section_display": "block",
   "toc_window_display": false
  }
 },
 "nbformat": 4,
 "nbformat_minor": 2
}
